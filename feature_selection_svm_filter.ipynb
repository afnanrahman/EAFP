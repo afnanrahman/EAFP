{
  "nbformat": 4,
  "nbformat_minor": 0,
  "metadata": {
    "colab": {
      "name": "feature_selection_svm_filter.ipynb",
      "provenance": [],
      "authorship_tag": "ABX9TyPZdTcaNvt8tSwqLolmApH/",
      "include_colab_link": true
    },
    "kernelspec": {
      "name": "python3",
      "display_name": "Python 3"
    },
    "language_info": {
      "name": "python"
    }
  },
  "cells": [
    {
      "cell_type": "markdown",
      "metadata": {
        "id": "view-in-github",
        "colab_type": "text"
      },
      "source": [
        "<a href=\"https://colab.research.google.com/github/afnanrahman/EAFP/blob/OmerAndKevin/feature_selection_svm_filter.ipynb\" target=\"_parent\"><img src=\"https://colab.research.google.com/assets/colab-badge.svg\" alt=\"Open In Colab\"/></a>"
      ]
    },
    {
      "cell_type": "code",
      "metadata": {
        "colab": {
          "base_uri": "https://localhost:8080/"
        },
        "id": "MFa5vQFA30gR",
        "outputId": "4220218a-068f-4302-dc53-f73e188d8c9c"
      },
      "source": [
        "import numpy as np\n",
        "import pandas as pd\n",
        "import matplotlib.pyplot as plt\n",
        "import seaborn as sns\n",
        "from sklearn.model_selection import train_test_split\n",
        "from sklearn.feature_selection import SelectKBest, f_classif\n",
        "\n",
        "data = pd.read_csv(\"https://raw.githubusercontent.com/afnanrahman/EAFP/main/data/clean_smote_data.csv\")\n",
        "remove = ['total_working_years', 'years_at_company', 'percent_salary_hike',\n",
        "               'years_with_curr_manager', 'hourly_rate', 'daily_rate', \n",
        "               'monthly_rate']\n",
        "no_attrition = data.drop('attrition', axis=1) #axis is column\n",
        "#take element e in the columns list if it is not in the remove list\n",
        "no_correlation = [e for e in list(no_attrition.columns) if e not in remove]\n",
        "no_correlation"
      ],
      "execution_count": 1,
      "outputs": [
        {
          "output_type": "execute_result",
          "data": {
            "text/plain": [
              "['age',\n",
              " 'business_travel',\n",
              " 'department',\n",
              " 'distance_from_home',\n",
              " 'education',\n",
              " 'education_field',\n",
              " 'employee_number',\n",
              " 'environment_satisfaction',\n",
              " 'gender',\n",
              " 'job_involvement',\n",
              " 'job_level',\n",
              " 'job_role',\n",
              " 'job_satisfaction',\n",
              " 'marital_status',\n",
              " 'num_companies_worked',\n",
              " 'over_time',\n",
              " 'performance_rating',\n",
              " 'relationship_satisfaction',\n",
              " 'stock_option_level',\n",
              " 'training_times_last_year',\n",
              " 'work_life_balance',\n",
              " 'years_in_current_role',\n",
              " 'rate_avg']"
            ]
          },
          "metadata": {},
          "execution_count": 1
        }
      ]
    },
    {
      "cell_type": "code",
      "metadata": {
        "colab": {
          "base_uri": "https://localhost:8080/"
        },
        "id": "83WTBOycAUM9",
        "outputId": "54c6f12e-5903-45f1-833d-fa2ff0f8d57a"
      },
      "source": [
        "X = data[no_correlation]\n",
        "Y = data['attrition']\n",
        "#different random state\n",
        "X_train, X_test, Y_train, Y_test = train_test_split(X, Y, test_size=0.3, random_state=42)\n",
        "Y_train"
      ],
      "execution_count": 2,
      "outputs": [
        {
          "output_type": "execute_result",
          "data": {
            "text/plain": [
              "71      0\n",
              "1204    1\n",
              "1752    1\n",
              "63      0\n",
              "2361    1\n",
              "       ..\n",
              "1638    1\n",
              "1095    0\n",
              "1130    0\n",
              "1294    0\n",
              "860     1\n",
              "Name: attrition, Length: 1726, dtype: int64"
            ]
          },
          "metadata": {},
          "execution_count": 2
        }
      ]
    },
    {
      "cell_type": "code",
      "metadata": {
        "id": "9bCjwq1u_agz"
      },
      "source": [
        "#k is the number of top features to take\n",
        "select = SelectKBest(score_func=f_classif, k=15)\n",
        "X_train_select = select.fit_transform(X_train, Y_train)"
      ],
      "execution_count": 3,
      "outputs": []
    },
    {
      "cell_type": "code",
      "metadata": {
        "colab": {
          "base_uri": "https://localhost:8080/",
          "height": 771
        },
        "id": "NH7Zspi7_gr2",
        "outputId": "0bb148a8-589e-42c3-f65c-68ad8d5a0d98"
      },
      "source": [
        "X_train.columns.values[select.get_support()]\n",
        "score_df = pd.DataFrame({'Feature': list(X_train), 'Scores': select.scores_})\n",
        "score_df.sort_values(by='Scores', ascending=False)"
      ],
      "execution_count": 4,
      "outputs": [
        {
          "output_type": "execute_result",
          "data": {
            "text/html": [
              "<div>\n",
              "<style scoped>\n",
              "    .dataframe tbody tr th:only-of-type {\n",
              "        vertical-align: middle;\n",
              "    }\n",
              "\n",
              "    .dataframe tbody tr th {\n",
              "        vertical-align: top;\n",
              "    }\n",
              "\n",
              "    .dataframe thead th {\n",
              "        text-align: right;\n",
              "    }\n",
              "</style>\n",
              "<table border=\"1\" class=\"dataframe\">\n",
              "  <thead>\n",
              "    <tr style=\"text-align: right;\">\n",
              "      <th></th>\n",
              "      <th>Feature</th>\n",
              "      <th>Scores</th>\n",
              "    </tr>\n",
              "  </thead>\n",
              "  <tbody>\n",
              "    <tr>\n",
              "      <th>10</th>\n",
              "      <td>job_level</td>\n",
              "      <td>252.184784</td>\n",
              "    </tr>\n",
              "    <tr>\n",
              "      <th>9</th>\n",
              "      <td>job_involvement</td>\n",
              "      <td>219.524410</td>\n",
              "    </tr>\n",
              "    <tr>\n",
              "      <th>18</th>\n",
              "      <td>stock_option_level</td>\n",
              "      <td>203.400042</td>\n",
              "    </tr>\n",
              "    <tr>\n",
              "      <th>20</th>\n",
              "      <td>work_life_balance</td>\n",
              "      <td>142.300362</td>\n",
              "    </tr>\n",
              "    <tr>\n",
              "      <th>7</th>\n",
              "      <td>environment_satisfaction</td>\n",
              "      <td>139.702217</td>\n",
              "    </tr>\n",
              "    <tr>\n",
              "      <th>12</th>\n",
              "      <td>job_satisfaction</td>\n",
              "      <td>123.149892</td>\n",
              "    </tr>\n",
              "    <tr>\n",
              "      <th>19</th>\n",
              "      <td>training_times_last_year</td>\n",
              "      <td>121.555022</td>\n",
              "    </tr>\n",
              "    <tr>\n",
              "      <th>21</th>\n",
              "      <td>years_in_current_role</td>\n",
              "      <td>119.083473</td>\n",
              "    </tr>\n",
              "    <tr>\n",
              "      <th>0</th>\n",
              "      <td>age</td>\n",
              "      <td>105.315269</td>\n",
              "    </tr>\n",
              "    <tr>\n",
              "      <th>17</th>\n",
              "      <td>relationship_satisfaction</td>\n",
              "      <td>80.006391</td>\n",
              "    </tr>\n",
              "    <tr>\n",
              "      <th>4</th>\n",
              "      <td>education</td>\n",
              "      <td>68.386343</td>\n",
              "    </tr>\n",
              "    <tr>\n",
              "      <th>8</th>\n",
              "      <td>gender</td>\n",
              "      <td>64.589440</td>\n",
              "    </tr>\n",
              "    <tr>\n",
              "      <th>16</th>\n",
              "      <td>performance_rating</td>\n",
              "      <td>50.657908</td>\n",
              "    </tr>\n",
              "    <tr>\n",
              "      <th>1</th>\n",
              "      <td>business_travel</td>\n",
              "      <td>37.263015</td>\n",
              "    </tr>\n",
              "    <tr>\n",
              "      <th>15</th>\n",
              "      <td>over_time</td>\n",
              "      <td>30.322591</td>\n",
              "    </tr>\n",
              "    <tr>\n",
              "      <th>2</th>\n",
              "      <td>department</td>\n",
              "      <td>29.916572</td>\n",
              "    </tr>\n",
              "    <tr>\n",
              "      <th>13</th>\n",
              "      <td>marital_status</td>\n",
              "      <td>17.727612</td>\n",
              "    </tr>\n",
              "    <tr>\n",
              "      <th>3</th>\n",
              "      <td>distance_from_home</td>\n",
              "      <td>7.210336</td>\n",
              "    </tr>\n",
              "    <tr>\n",
              "      <th>5</th>\n",
              "      <td>education_field</td>\n",
              "      <td>5.064513</td>\n",
              "    </tr>\n",
              "    <tr>\n",
              "      <th>22</th>\n",
              "      <td>rate_avg</td>\n",
              "      <td>1.881090</td>\n",
              "    </tr>\n",
              "    <tr>\n",
              "      <th>14</th>\n",
              "      <td>num_companies_worked</td>\n",
              "      <td>0.839887</td>\n",
              "    </tr>\n",
              "    <tr>\n",
              "      <th>11</th>\n",
              "      <td>job_role</td>\n",
              "      <td>0.761375</td>\n",
              "    </tr>\n",
              "    <tr>\n",
              "      <th>6</th>\n",
              "      <td>employee_number</td>\n",
              "      <td>0.473399</td>\n",
              "    </tr>\n",
              "  </tbody>\n",
              "</table>\n",
              "</div>"
            ],
            "text/plain": [
              "                      Feature      Scores\n",
              "10                  job_level  252.184784\n",
              "9             job_involvement  219.524410\n",
              "18         stock_option_level  203.400042\n",
              "20          work_life_balance  142.300362\n",
              "7    environment_satisfaction  139.702217\n",
              "12           job_satisfaction  123.149892\n",
              "19   training_times_last_year  121.555022\n",
              "21      years_in_current_role  119.083473\n",
              "0                         age  105.315269\n",
              "17  relationship_satisfaction   80.006391\n",
              "4                   education   68.386343\n",
              "8                      gender   64.589440\n",
              "16         performance_rating   50.657908\n",
              "1             business_travel   37.263015\n",
              "15                  over_time   30.322591\n",
              "2                  department   29.916572\n",
              "13             marital_status   17.727612\n",
              "3          distance_from_home    7.210336\n",
              "5             education_field    5.064513\n",
              "22                   rate_avg    1.881090\n",
              "14       num_companies_worked    0.839887\n",
              "11                   job_role    0.761375\n",
              "6             employee_number    0.473399"
            ]
          },
          "metadata": {},
          "execution_count": 4
        }
      ]
    },
    {
      "cell_type": "code",
      "metadata": {
        "colab": {
          "base_uri": "https://localhost:8080/"
        },
        "id": "P-6rp74p4AxI",
        "outputId": "09d83cf5-b1e9-4547-acda-d1e3b1e9ba0c"
      },
      "source": [
        "from sklearn import svm\n",
        "from sklearn.metrics import accuracy_score\n",
        "clf = svm.SVC(kernel='rbf')\n",
        "clf.fit(X_train_select, Y_train)\n",
        "X_test_select = select.transform(X_test)\n",
        "Y_pred = clf.predict(X_test_select)\n",
        "accuracy_score(Y_test, Y_pred)"
      ],
      "execution_count": 10,
      "outputs": [
        {
          "output_type": "execute_result",
          "data": {
            "text/plain": [
              "0.8067567567567567"
            ]
          },
          "metadata": {},
          "execution_count": 10
        }
      ]
    }
  ]
}