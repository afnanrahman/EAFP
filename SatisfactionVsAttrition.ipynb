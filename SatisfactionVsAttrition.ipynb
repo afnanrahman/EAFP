{
  "nbformat": 4,
  "nbformat_minor": 0,
  "metadata": {
    "colab": {
      "name": "SatisfactionVsAttrition.ipynb",
      "provenance": [],
      "collapsed_sections": []
    },
    "kernelspec": {
      "name": "python3",
      "display_name": "Python 3"
    },
    "language_info": {
      "name": "python"
    }
  },
  "cells": [
    {
      "cell_type": "markdown",
      "metadata": {
        "id": "zi444WlhgmM7"
      },
      "source": [
        "## Exploratory Data Analysis\n"
      ]
    },
    {
      "cell_type": "code",
      "metadata": {
        "id": "zWwLnjC4iM4E"
      },
      "source": [
        "import numpy as np\n",
        "import pandas as pd\n",
        "import matplotlib.pyplot as plt"
      ],
      "execution_count": 1,
      "outputs": []
    },
    {
      "cell_type": "code",
      "metadata": {
        "colab": {
          "resources": {
            "http://localhost:8080/nbextensions/google.colab/files.js": {
              "data": "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",
              "ok": true,
              "headers": [
                [
                  "content-type",
                  "application/javascript"
                ]
              ],
              "status": 200,
              "status_text": ""
            }
          },
          "base_uri": "https://localhost:8080/",
          "height": 72
        },
        "id": "6j9deJl6gqBH",
        "outputId": "4a1df03f-c457-4f99-e04c-8914a3b22978"
      },
      "source": [
        "from google.colab import files\n",
        "\n",
        "uploaded = files.upload()"
      ],
      "execution_count": 2,
      "outputs": [
        {
          "output_type": "display_data",
          "data": {
            "text/html": [
              "\n",
              "     <input type=\"file\" id=\"files-caf148b7-68dd-4a14-aca3-8bc698591fe0\" name=\"files[]\" multiple disabled\n",
              "        style=\"border:none\" />\n",
              "     <output id=\"result-caf148b7-68dd-4a14-aca3-8bc698591fe0\">\n",
              "      Upload widget is only available when the cell has been executed in the\n",
              "      current browser session. Please rerun this cell to enable.\n",
              "      </output>\n",
              "      <script src=\"/nbextensions/google.colab/files.js\"></script> "
            ],
            "text/plain": [
              "<IPython.core.display.HTML object>"
            ]
          },
          "metadata": {}
        },
        {
          "output_type": "stream",
          "name": "stdout",
          "text": [
            "Saving clean_data.csv to clean_data.csv\n"
          ]
        }
      ]
    },
    {
      "cell_type": "markdown",
      "metadata": {
        "id": "xfC5Rg0CjDlt"
      },
      "source": [
        "Let's just load in the data."
      ]
    },
    {
      "cell_type": "code",
      "metadata": {
        "colab": {
          "base_uri": "https://localhost:8080/"
        },
        "id": "0CPAVbDkjGx_",
        "outputId": "dfc31a7e-f93d-4132-9f7b-54278d1cca0f"
      },
      "source": [
        "dataframe1 = pd.read_csv('clean_data.csv')\n",
        "column_count = 0\n",
        "\n",
        "# Just checking the column indices I need\n",
        "for (columnName, columnData) in dataframe1.iteritems():\n",
        "    print('Column Name : ', columnName, column_count)\n",
        "    # print('Column Contents : ', columnData.values)\n",
        "    column_count += 1\n"
      ],
      "execution_count": 3,
      "outputs": [
        {
          "output_type": "stream",
          "name": "stdout",
          "text": [
            "Column Name :  Unnamed: 0 0\n",
            "Column Name :  age 1\n",
            "Column Name :  attrition 2\n",
            "Column Name :  business_travel 3\n",
            "Column Name :  daily_rate 4\n",
            "Column Name :  department 5\n",
            "Column Name :  distance_from_home 6\n",
            "Column Name :  education 7\n",
            "Column Name :  education_field 8\n",
            "Column Name :  employee_number 9\n",
            "Column Name :  environment_satisfaction 10\n",
            "Column Name :  gender 11\n",
            "Column Name :  hourly_rate 12\n",
            "Column Name :  job_involvement 13\n",
            "Column Name :  job_level 14\n",
            "Column Name :  job_role 15\n",
            "Column Name :  job_satisfaction 16\n",
            "Column Name :  marital_status 17\n",
            "Column Name :  monthly_rate 18\n",
            "Column Name :  num_companies_worked 19\n",
            "Column Name :  over_time 20\n",
            "Column Name :  percent_salary_hike 21\n",
            "Column Name :  performance_rating 22\n",
            "Column Name :  relationship_satisfaction 23\n",
            "Column Name :  stock_option_level 24\n",
            "Column Name :  total_working_years 25\n",
            "Column Name :  training_times_last_year 26\n",
            "Column Name :  work_life_balance 27\n",
            "Column Name :  years_at_company 28\n",
            "Column Name :  years_in_current_role 29\n",
            "Column Name :  years_with_curr_manager 30\n",
            "Column Name :  rate_avg 31\n"
          ]
        }
      ]
    },
    {
      "cell_type": "code",
      "metadata": {
        "id": "zQAuq_Cundje"
      },
      "source": [
        "job_satisfaction_column = dataframe1.loc[:,'job_satisfaction']\n",
        "attrition_column = dataframe1.loc[:,'attrition']\n",
        "environment_satisfaction_column = dataframe1.loc[:,'environment_satisfaction']\n",
        "relationship_satisfaction_column = dataframe1.loc[:,'relationship_satisfaction']\n",
        "work_life_balance_column = dataframe1.loc[:, 'work_life_balance']\n",
        "# job_involvement_column = dataframe1.loc[:, 'job_involvement']"
      ],
      "execution_count": 4,
      "outputs": []
    },
    {
      "cell_type": "markdown",
      "metadata": {
        "id": "bUdzo5SwFIZz"
      },
      "source": [
        "# Analyzing relationship between employee attrition and job satisfaction"
      ]
    },
    {
      "cell_type": "code",
      "metadata": {
        "colab": {
          "base_uri": "https://localhost:8080/",
          "height": 363
        },
        "id": "HqD8NOstz-eV",
        "outputId": "52846549-6c43-4e8d-81af-22c343eb0e26"
      },
      "source": [
        "job_satisfaction_attrition_count = {}\n",
        "job_satisfaction_count = {}\n",
        "for i in range(0, len(job_satisfaction_column)):\n",
        "  if job_satisfaction_column[i] not in job_satisfaction_count:\n",
        "    job_satisfaction_count[job_satisfaction_column[i]] = 1\n",
        "  else:\n",
        "    job_satisfaction_count[job_satisfaction_column[i]] = job_satisfaction_count[job_satisfaction_column[i]] + 1\n",
        "  if job_satisfaction_column[i] not in job_satisfaction_attrition_count:\n",
        "    job_satisfaction_attrition_count[job_satisfaction_column[i]] = 1\n",
        "  else:\n",
        "    if attrition_column[i] == 1:\n",
        "      job_satisfaction_attrition_count[job_satisfaction_column[i]] = job_satisfaction_attrition_count[job_satisfaction_column[i]] + 1\n",
        "\n",
        "print(job_satisfaction_attrition_count)\n",
        "print(job_satisfaction_count)\n",
        "\n",
        "job_satisfaction_attrition_count = sorted(job_satisfaction_attrition_count.items(), key=lambda x: x[0])\n",
        "print(job_satisfaction_attrition_count)\n",
        "\n",
        "x_js = []\n",
        "y_js = []\n",
        "\n",
        "for element in job_satisfaction_attrition_count:\n",
        "  x_js.append(element[0])\n",
        "  y_js.append(element[1])\n",
        "#job_satisfaction_plot = plt.plot(x_js, y_js)\n",
        "\n",
        "job_satisfaction_count = sorted(job_satisfaction_count.items(), key=lambda x: x[0])\n",
        "\n",
        "\n",
        "x_js_totals = []\n",
        "y_js_totals = []\n",
        "\n",
        "for element in job_satisfaction_count:\n",
        "  x_js_totals.append(element[0])\n",
        "  y_js_totals.append(element[1])\n",
        "print(job_satisfaction_count)\n",
        "#job_satisfaction_totals_plot = plt.plot(x_js_totals, y_js_totals)\n",
        "\n",
        "y_js = np.array(y_js)\n",
        "y_js_totals = np.array(y_js_totals)\n",
        "proportions = y_js / y_js_totals\n",
        "\n",
        "x_prop = []\n",
        "y_prop = []\n",
        "\n",
        "x_count = 1\n",
        "for element in proportions:\n",
        "  x_prop.append(x_count)\n",
        "  y_prop.append(element)\n",
        "  x_count += 1\n",
        "\n",
        "plt.plot(x_prop, y_prop)\n",
        "plt.xlabel(\"Job Satisfaction\")\n",
        "plt.ylabel(\"Proportion\")\n",
        "plt.title(\"Proportion of Employees Who Left Company Per Job Satisfaction Value\")\n",
        "plt.show()\n",
        "\n"
      ],
      "execution_count": 6,
      "outputs": [
        {
          "output_type": "stream",
          "name": "stdout",
          "text": [
            "{4: 52, 2: 47, 3: 73, 1: 67}\n",
            "{4: 459, 2: 280, 3: 442, 1: 289}\n",
            "[(1, 67), (2, 47), (3, 73), (4, 52)]\n",
            "[(1, 289), (2, 280), (3, 442), (4, 459)]\n"
          ]
        },
        {
          "output_type": "display_data",
          "data": {
            "image/png": "[encoded data removed]",
            "text/plain": [
              "<Figure size 432x288 with 1 Axes>"
            ]
          },
          "metadata": {
            "needs_background": "light"
          }
        }
      ]
    },
    {
      "cell_type": "markdown",
      "metadata": {
        "id": "ySbTAJGAFNIL"
      },
      "source": [
        "# Analyzing relationship between employee attrition and environment satisfaction"
      ]
    },
    {
      "cell_type": "code",
      "metadata": {
        "colab": {
          "base_uri": "https://localhost:8080/",
          "height": 363
        },
        "id": "z_HCtjOHACbf",
        "outputId": "c0cbb7c9-2e00-4509-81f4-6dd851a9a0da"
      },
      "source": [
        "env_satisfaction_attrition_count = {}\n",
        "env_satisfaction_count = {}\n",
        "for i in range(0, len(environment_satisfaction_column)):\n",
        "  if environment_satisfaction_column[i] not in env_satisfaction_count:\n",
        "    env_satisfaction_count[environment_satisfaction_column[i]] = 1\n",
        "  else:\n",
        "    env_satisfaction_count[environment_satisfaction_column[i]] = env_satisfaction_count[environment_satisfaction_column[i]] + 1\n",
        "  if environment_satisfaction_column[i] not in env_satisfaction_attrition_count:\n",
        "    env_satisfaction_attrition_count[environment_satisfaction_column[i]] = 1\n",
        "  else:\n",
        "    if attrition_column[i] == 1:\n",
        "      env_satisfaction_attrition_count[environment_satisfaction_column[i]] = env_satisfaction_attrition_count[environment_satisfaction_column[i]] + 1\n",
        "\n",
        "print(env_satisfaction_attrition_count)\n",
        "print(env_satisfaction_count)\n",
        "\n",
        "env_satisfaction_attrition_count = sorted(env_satisfaction_attrition_count.items(), key=lambda x: x[0])\n",
        "print(env_satisfaction_attrition_count)\n",
        "\n",
        "x_es = []\n",
        "y_es = []\n",
        "\n",
        "for element in env_satisfaction_attrition_count:\n",
        "  x_es.append(element[0])\n",
        "  y_es.append(element[1])\n",
        "#job_satisfaction_plot = plt.plot(x_es, y_es)\n",
        "\n",
        "env_satisfaction_count = sorted(env_satisfaction_count.items(), key=lambda x: x[0])\n",
        "\n",
        "x_es_totals = []\n",
        "y_es_totals = []\n",
        "\n",
        "for element in env_satisfaction_count:\n",
        "  x_es_totals.append(element[0])\n",
        "  y_es_totals.append(element[1])\n",
        "print(env_satisfaction_count)\n",
        "#job_satisfaction_totals_plot = plt.plot(x_es_totals, y_es_totals)\n",
        "\n",
        "y_es = np.array(y_es)\n",
        "y_es_totals = np.array(y_es_totals)\n",
        "proportions = y_es / y_es_totals\n",
        "\n",
        "x_prop = []\n",
        "y_prop = []\n",
        "\n",
        "x_count = 1\n",
        "for element in proportions:\n",
        "  x_prop.append(x_count)\n",
        "  y_prop.append(element)\n",
        "  x_count += 1\n",
        "\n",
        "plt.plot(x_prop, y_prop)\n",
        "plt.xlabel(\"Environment Satisfaction\")\n",
        "plt.ylabel(\"Proportion\")\n",
        "plt.title(\"Proportion of Employees Who Left Company Per Environment Satisfaction Value\")\n",
        "plt.show()\n",
        "\n"
      ],
      "execution_count": 12,
      "outputs": [
        {
          "output_type": "stream",
          "name": "stdout",
          "text": [
            "{2: 43, 3: 63, 4: 60, 1: 73}\n",
            "{2: 287, 3: 453, 4: 446, 1: 284}\n",
            "[(1, 73), (2, 43), (3, 63), (4, 60)]\n",
            "[(1, 284), (2, 287), (3, 453), (4, 446)]\n"
          ]
        },
        {
          "output_type": "display_data",
          "data": {
            "image/png": "[encoded data removed]",
            "text/plain": [
              "<Figure size 432x288 with 1 Axes>"
            ]
          },
          "metadata": {
            "needs_background": "light"
          }
        }
      ]
    },
    {
      "cell_type": "markdown",
      "metadata": {
        "id": "lcmQm5DCGgjp"
      },
      "source": [
        "# Analyzing relationship between employee attrition and relationship satisfaction"
      ]
    },
    {
      "cell_type": "code",
      "metadata": {
        "colab": {
          "base_uri": "https://localhost:8080/",
          "height": 363
        },
        "id": "0PKO5fpyGg2m",
        "outputId": "4c7f8abc-e16b-4f87-bd7f-b37182c0a6e8"
      },
      "source": [
        "relationship_satisfaction_attrition_count = {}\n",
        "relationship_satisfaction_count = {}\n",
        "for i in range(0, len(relationship_satisfaction_column)):\n",
        "  if relationship_satisfaction_column[i] not in relationship_satisfaction_count:\n",
        "    relationship_satisfaction_count[relationship_satisfaction_column[i]] = 1\n",
        "  else:\n",
        "    relationship_satisfaction_count[relationship_satisfaction_column[i]] = relationship_satisfaction_count[relationship_satisfaction_column[i]] + 1\n",
        "  if relationship_satisfaction_column[i] not in relationship_satisfaction_attrition_count:\n",
        "    relationship_satisfaction_attrition_count[relationship_satisfaction_column[i]] = 1\n",
        "  else:\n",
        "    if attrition_column[i] == 1:\n",
        "      relationship_satisfaction_attrition_count[relationship_satisfaction_column[i]] = relationship_satisfaction_attrition_count[relationship_satisfaction_column[i]] + 1\n",
        "\n",
        "print(relationship_satisfaction_attrition_count)\n",
        "print(relationship_satisfaction_count)\n",
        "\n",
        "relationship_satisfaction_attrition_count = sorted(relationship_satisfaction_attrition_count.items(), key=lambda x: x[0])\n",
        "print(relationship_satisfaction_attrition_count)\n",
        "\n",
        "x_rs = []\n",
        "y_rs = []\n",
        "\n",
        "for element in relationship_satisfaction_attrition_count:\n",
        "  x_rs.append(element[0])\n",
        "  y_rs.append(element[1])\n",
        "#job_satisfaction_plot = plt.plot(x_es, y_es)\n",
        "\n",
        "relationship_satisfaction_count = sorted(relationship_satisfaction_count.items(), key=lambda x: x[0])\n",
        "\n",
        "x_rs_totals = []\n",
        "y_rs_totals = []\n",
        "\n",
        "for element in relationship_satisfaction_count:\n",
        "  x_rs_totals.append(element[0])\n",
        "  y_rs_totals.append(element[1])\n",
        "print(relationship_satisfaction_count)\n",
        "#job_satisfaction_totals_plot = plt.plot(x_rs_totals, y_rs_totals)\n",
        "\n",
        "y_rs = np.array(y_rs)\n",
        "y_rs_totals = np.array(y_rs_totals)\n",
        "proportions = y_rs / y_rs_totals\n",
        "\n",
        "x_prop = []\n",
        "y_prop = []\n",
        "\n",
        "x_count = 1\n",
        "for element in proportions:\n",
        "  x_prop.append(x_count)\n",
        "  y_prop.append(element)\n",
        "  x_count += 1\n",
        "\n",
        "plt.plot(x_prop, y_prop)\n",
        "plt.xlabel(\"Relationship Satisfaction\")\n",
        "plt.ylabel(\"Proportion\")\n",
        "plt.title(\"Proportion of Employees Who Left Company Per Relationship Satisfaction Value\")\n",
        "plt.show()"
      ],
      "execution_count": 14,
      "outputs": [
        {
          "output_type": "stream",
          "name": "stdout",
          "text": [
            "{1: 57, 4: 65, 2: 45, 3: 72}\n",
            "{1: 276, 4: 432, 2: 303, 3: 459}\n",
            "[(1, 57), (2, 45), (3, 72), (4, 65)]\n",
            "[(1, 276), (2, 303), (3, 459), (4, 432)]\n"
          ]
        },
        {
          "output_type": "display_data",
          "data": {
            "image/png": "[encoded data removed]",
            "text/plain": [
              "<Figure size 432x288 with 1 Axes>"
            ]
          },
          "metadata": {
            "needs_background": "light"
          }
        }
      ]
    },
    {
      "cell_type": "markdown",
      "metadata": {
        "id": "bqmMeIgrL8KY"
      },
      "source": [
        "Analyzing relationship between employee attrition and work life balance"
      ]
    },
    {
      "cell_type": "code",
      "metadata": {
        "colab": {
          "base_uri": "https://localhost:8080/",
          "height": 363
        },
        "id": "jRawZSHjL8am",
        "outputId": "713aa519-f23b-4db1-f912-3f3958d9ecad"
      },
      "source": [
        "work_life_attrition_count = {}\n",
        "work_life_count = {}\n",
        "for i in range(0, len(work_life_balance_column)):\n",
        "  if work_life_balance_column[i] not in work_life_count:\n",
        "    work_life_count[work_life_balance_column[i]] = 1\n",
        "  else:\n",
        "    work_life_count[work_life_balance_column[i]] = work_life_count[work_life_balance_column[i]] + 1\n",
        "  if work_life_balance_column[i] not in work_life_attrition_count:\n",
        "    work_life_attrition_count[work_life_balance_column[i]] = 1\n",
        "  else:\n",
        "    if attrition_column[i] == 1:\n",
        "      work_life_attrition_count[work_life_balance_column[i]] = work_life_attrition_count[work_life_balance_column[i]] + 1\n",
        "\n",
        "print(work_life_attrition_count)\n",
        "print(work_life_count)\n",
        "\n",
        "work_life_attrition_count = sorted(work_life_attrition_count.items(), key=lambda x: x[0])\n",
        "print(work_life_attrition_count)\n",
        "\n",
        "x_wl = []\n",
        "y_wl = []\n",
        "\n",
        "for element in work_life_attrition_count:\n",
        "  x_wl.append(element[0])\n",
        "  y_wl.append(element[1])\n",
        "#job_satisfaction_plot = plt.plot(x_wl, y_wl)\n",
        "\n",
        "work_life_count = sorted(work_life_count.items(), key=lambda x: x[0])\n",
        "\n",
        "x_wl_totals = []\n",
        "y_wl_totals = []\n",
        "\n",
        "for element in work_life_count:\n",
        "  x_wl_totals.append(element[0])\n",
        "  y_wl_totals.append(element[1])\n",
        "print(work_life_count)\n",
        "#job_satisfaction_totals_plot = plt.plot(x_wl_totals, y_wl_totals)\n",
        "\n",
        "y_wl = np.array(y_wl)\n",
        "y_wl_totals = np.array(y_wl_totals)\n",
        "proportions = y_wl / y_wl_totals\n",
        "\n",
        "x_prop = []\n",
        "y_prop = []\n",
        "\n",
        "x_count = 1\n",
        "for element in proportions:\n",
        "  x_prop.append(x_count)\n",
        "  y_prop.append(element)\n",
        "  x_count += 1\n",
        "\n",
        "plt.plot(x_prop, y_prop)\n",
        "plt.xlabel(\"Work Life Balance\")\n",
        "plt.ylabel(\"Proportion\")\n",
        "plt.title(\"Proportion of Employees Who Left Company Per Work Life Balance Value\")\n",
        "plt.show()"
      ],
      "execution_count": 15,
      "outputs": [
        {
          "output_type": "stream",
          "name": "stdout",
          "text": [
            "{1: 25, 3: 128, 2: 59, 4: 28}\n",
            "{1: 80, 3: 893, 2: 344, 4: 153}\n",
            "[(1, 25), (2, 59), (3, 128), (4, 28)]\n",
            "[(1, 80), (2, 344), (3, 893), (4, 153)]\n"
          ]
        },
        {
          "output_type": "display_data",
          "data": {
            "image/png": "[encoded data removed]",
            "text/plain": [
              "<Figure size 432x288 with 1 Axes>"
            ]
          },
          "metadata": {
            "needs_background": "light"
          }
        }
      ]
    }
  ]
}