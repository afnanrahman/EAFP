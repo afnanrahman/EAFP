{
  "nbformat": 4,
  "nbformat_minor": 0,
  "metadata": {
    "colab": {
      "name": "support_vector_classifier.ipynb",
      "provenance": [],
      "toc_visible": true,
      "include_colab_link": true
    },
    "kernelspec": {
      "name": "python3",
      "display_name": "Python 3"
    },
    "language_info": {
      "name": "python"
    }
  },
  "cells": [
    {
      "cell_type": "markdown",
      "metadata": {
        "id": "view-in-github",
        "colab_type": "text"
      },
      "source": [
        "<a href=\"https://colab.research.google.com/github/afnanrahman/EAFP/blob/OmerAndKevin/support_vector_classifier.ipynb\" target=\"_parent\"><img src=\"https://colab.research.google.com/assets/colab-badge.svg\" alt=\"Open In Colab\"/></a>"
      ]
    },
    {
      "cell_type": "markdown",
      "source": [
        "# Support Vector Machine Classifier\n",
        "## Kevin Qu, Omer Raza Khan\n",
        "We chose to use this model because SVMs tend to work better with small sample sizes and with 1400 observations, may bring a strong accuracy\n"
      ],
      "metadata": {
        "id": "jd0f58FtBn0K"
      }
    },
    {
      "cell_type": "markdown",
      "source": [
        "## Importing Packages and Data"
      ],
      "metadata": {
        "id": "-YG5fStTCxZf"
      }
    },
    {
      "cell_type": "code",
      "source": [
        "# Standard Packages\n",
        "import pandas as pd\n",
        "import numpy as np\n",
        "\n",
        "# Data Visualization\n",
        "import seaborn as sns\n",
        "import matplotlib.pyplot as plt\n",
        "\n",
        "# SVM and Model Metrics\n",
        "from sklearn.svm import SVC\n",
        "from sklearn.model_selection import train_test_split \n",
        "from sklearn.metrics import accuracy_score\n",
        "from sklearn.metrics import confusion_matrix, ConfusionMatrixDisplay\n",
        "from sklearn.metrics import classification_report\n",
        "from sklearn.metrics import precision_recall_fscore_support as score, precision_score, recall_score, f1_score\n",
        "from sklearn.metrics import roc_auc_score, roc_curve\n",
        "\n",
        "# Feature Selection\n",
        "from sklearn.feature_selection import SelectKBest, f_classif\n",
        "from sklearn.feature_selection import SequentialFeatureSelector\n",
        "\n",
        "# Standardization\n",
        "from sklearn.preprocessing import StandardScaler\n",
        "\n",
        "# Model Selection\n",
        "from sklearn.model_selection import GridSearchCV, RandomizedSearchCV\n",
        "from sklearn.model_selection import KFold\n",
        "from sklearn.model_selection import cross_val_score\n",
        "\n",
        "\n",
        "# Setting style of plots\n",
        "sns.reset_orig()\n",
        "sns.set_style(\"darkgrid\")\n",
        "sns.set(font_scale=1.2)"
      ],
      "metadata": {
        "id": "LWhojR9LCv0J"
      },
      "execution_count": null,
      "outputs": []
    },
    {
      "cell_type": "code",
      "source": [
        "data = pd.read_csv(\"https://raw.githubusercontent.com/afnanrahman/EAFP/main/data/clean_smote_data.csv\")\n",
        "data"
      ],
      "metadata": {
        "colab": {
          "base_uri": "https://localhost:8080/",
          "height": 488
        },
        "id": "piuiVJ54Dkdg",
        "outputId": "f9956a0a-7e53-414b-a62f-8ccc48d4aca0"
      },
      "execution_count": null,
      "outputs": [
        {
          "output_type": "execute_result",
          "data": {
            "text/html": [
              "\n",
              "  <div id=\"df-ca90c3f1-3faa-4e7d-b15d-5cdd678eb2b8\">\n",
              "    <div class=\"colab-df-container\">\n",
              "      <div>\n",
              "<style scoped>\n",
              "    .dataframe tbody tr th:only-of-type {\n",
              "        vertical-align: middle;\n",
              "    }\n",
              "\n",
              "    .dataframe tbody tr th {\n",
              "        vertical-align: top;\n",
              "    }\n",
              "\n",
              "    .dataframe thead th {\n",
              "        text-align: right;\n",
              "    }\n",
              "</style>\n",
              "<table border=\"1\" class=\"dataframe\">\n",
              "  <thead>\n",
              "    <tr style=\"text-align: right;\">\n",
              "      <th></th>\n",
              "      <th>age</th>\n",
              "      <th>business_travel</th>\n",
              "      <th>daily_rate</th>\n",
              "      <th>department</th>\n",
              "      <th>distance_from_home</th>\n",
              "      <th>education</th>\n",
              "      <th>education_field</th>\n",
              "      <th>employee_number</th>\n",
              "      <th>environment_satisfaction</th>\n",
              "      <th>gender</th>\n",
              "      <th>hourly_rate</th>\n",
              "      <th>job_involvement</th>\n",
              "      <th>job_level</th>\n",
              "      <th>job_role</th>\n",
              "      <th>job_satisfaction</th>\n",
              "      <th>marital_status</th>\n",
              "      <th>monthly_rate</th>\n",
              "      <th>num_companies_worked</th>\n",
              "      <th>over_time</th>\n",
              "      <th>percent_salary_hike</th>\n",
              "      <th>performance_rating</th>\n",
              "      <th>relationship_satisfaction</th>\n",
              "      <th>stock_option_level</th>\n",
              "      <th>total_working_years</th>\n",
              "      <th>training_times_last_year</th>\n",
              "      <th>work_life_balance</th>\n",
              "      <th>years_at_company</th>\n",
              "      <th>years_in_current_role</th>\n",
              "      <th>years_with_curr_manager</th>\n",
              "      <th>attrition</th>\n",
              "      <th>rate_avg</th>\n",
              "    </tr>\n",
              "  </thead>\n",
              "  <tbody>\n",
              "    <tr>\n",
              "      <th>0</th>\n",
              "      <td>41</td>\n",
              "      <td>2</td>\n",
              "      <td>1102</td>\n",
              "      <td>2</td>\n",
              "      <td>1</td>\n",
              "      <td>2</td>\n",
              "      <td>1</td>\n",
              "      <td>1</td>\n",
              "      <td>2</td>\n",
              "      <td>0</td>\n",
              "      <td>94</td>\n",
              "      <td>3</td>\n",
              "      <td>2</td>\n",
              "      <td>7</td>\n",
              "      <td>4</td>\n",
              "      <td>2</td>\n",
              "      <td>19479</td>\n",
              "      <td>8</td>\n",
              "      <td>1</td>\n",
              "      <td>11</td>\n",
              "      <td>3</td>\n",
              "      <td>1</td>\n",
              "      <td>0</td>\n",
              "      <td>8</td>\n",
              "      <td>0</td>\n",
              "      <td>1</td>\n",
              "      <td>6</td>\n",
              "      <td>4</td>\n",
              "      <td>5</td>\n",
              "      <td>1</td>\n",
              "      <td>6891.67</td>\n",
              "    </tr>\n",
              "    <tr>\n",
              "      <th>1</th>\n",
              "      <td>49</td>\n",
              "      <td>1</td>\n",
              "      <td>279</td>\n",
              "      <td>1</td>\n",
              "      <td>8</td>\n",
              "      <td>1</td>\n",
              "      <td>1</td>\n",
              "      <td>2</td>\n",
              "      <td>3</td>\n",
              "      <td>1</td>\n",
              "      <td>61</td>\n",
              "      <td>2</td>\n",
              "      <td>2</td>\n",
              "      <td>6</td>\n",
              "      <td>2</td>\n",
              "      <td>1</td>\n",
              "      <td>24907</td>\n",
              "      <td>1</td>\n",
              "      <td>0</td>\n",
              "      <td>23</td>\n",
              "      <td>4</td>\n",
              "      <td>4</td>\n",
              "      <td>1</td>\n",
              "      <td>10</td>\n",
              "      <td>3</td>\n",
              "      <td>3</td>\n",
              "      <td>10</td>\n",
              "      <td>7</td>\n",
              "      <td>7</td>\n",
              "      <td>0</td>\n",
              "      <td>8415.67</td>\n",
              "    </tr>\n",
              "    <tr>\n",
              "      <th>2</th>\n",
              "      <td>37</td>\n",
              "      <td>2</td>\n",
              "      <td>1373</td>\n",
              "      <td>1</td>\n",
              "      <td>2</td>\n",
              "      <td>2</td>\n",
              "      <td>4</td>\n",
              "      <td>4</td>\n",
              "      <td>4</td>\n",
              "      <td>1</td>\n",
              "      <td>92</td>\n",
              "      <td>2</td>\n",
              "      <td>1</td>\n",
              "      <td>2</td>\n",
              "      <td>3</td>\n",
              "      <td>2</td>\n",
              "      <td>2396</td>\n",
              "      <td>6</td>\n",
              "      <td>1</td>\n",
              "      <td>15</td>\n",
              "      <td>3</td>\n",
              "      <td>2</td>\n",
              "      <td>0</td>\n",
              "      <td>7</td>\n",
              "      <td>3</td>\n",
              "      <td>3</td>\n",
              "      <td>0</td>\n",
              "      <td>0</td>\n",
              "      <td>0</td>\n",
              "      <td>1</td>\n",
              "      <td>1287.00</td>\n",
              "    </tr>\n",
              "    <tr>\n",
              "      <th>3</th>\n",
              "      <td>33</td>\n",
              "      <td>1</td>\n",
              "      <td>1392</td>\n",
              "      <td>1</td>\n",
              "      <td>3</td>\n",
              "      <td>4</td>\n",
              "      <td>1</td>\n",
              "      <td>5</td>\n",
              "      <td>4</td>\n",
              "      <td>0</td>\n",
              "      <td>56</td>\n",
              "      <td>3</td>\n",
              "      <td>1</td>\n",
              "      <td>6</td>\n",
              "      <td>3</td>\n",
              "      <td>1</td>\n",
              "      <td>23159</td>\n",
              "      <td>1</td>\n",
              "      <td>1</td>\n",
              "      <td>11</td>\n",
              "      <td>3</td>\n",
              "      <td>3</td>\n",
              "      <td>0</td>\n",
              "      <td>8</td>\n",
              "      <td>3</td>\n",
              "      <td>3</td>\n",
              "      <td>8</td>\n",
              "      <td>7</td>\n",
              "      <td>0</td>\n",
              "      <td>0</td>\n",
              "      <td>8202.33</td>\n",
              "    </tr>\n",
              "    <tr>\n",
              "      <th>4</th>\n",
              "      <td>27</td>\n",
              "      <td>2</td>\n",
              "      <td>591</td>\n",
              "      <td>1</td>\n",
              "      <td>2</td>\n",
              "      <td>1</td>\n",
              "      <td>3</td>\n",
              "      <td>7</td>\n",
              "      <td>1</td>\n",
              "      <td>1</td>\n",
              "      <td>40</td>\n",
              "      <td>3</td>\n",
              "      <td>1</td>\n",
              "      <td>2</td>\n",
              "      <td>2</td>\n",
              "      <td>1</td>\n",
              "      <td>16632</td>\n",
              "      <td>9</td>\n",
              "      <td>0</td>\n",
              "      <td>12</td>\n",
              "      <td>3</td>\n",
              "      <td>4</td>\n",
              "      <td>1</td>\n",
              "      <td>6</td>\n",
              "      <td>3</td>\n",
              "      <td>3</td>\n",
              "      <td>2</td>\n",
              "      <td>2</td>\n",
              "      <td>2</td>\n",
              "      <td>0</td>\n",
              "      <td>5754.33</td>\n",
              "    </tr>\n",
              "    <tr>\n",
              "      <th>...</th>\n",
              "      <td>...</td>\n",
              "      <td>...</td>\n",
              "      <td>...</td>\n",
              "      <td>...</td>\n",
              "      <td>...</td>\n",
              "      <td>...</td>\n",
              "      <td>...</td>\n",
              "      <td>...</td>\n",
              "      <td>...</td>\n",
              "      <td>...</td>\n",
              "      <td>...</td>\n",
              "      <td>...</td>\n",
              "      <td>...</td>\n",
              "      <td>...</td>\n",
              "      <td>...</td>\n",
              "      <td>...</td>\n",
              "      <td>...</td>\n",
              "      <td>...</td>\n",
              "      <td>...</td>\n",
              "      <td>...</td>\n",
              "      <td>...</td>\n",
              "      <td>...</td>\n",
              "      <td>...</td>\n",
              "      <td>...</td>\n",
              "      <td>...</td>\n",
              "      <td>...</td>\n",
              "      <td>...</td>\n",
              "      <td>...</td>\n",
              "      <td>...</td>\n",
              "      <td>...</td>\n",
              "      <td>...</td>\n",
              "    </tr>\n",
              "    <tr>\n",
              "      <th>2461</th>\n",
              "      <td>39</td>\n",
              "      <td>2</td>\n",
              "      <td>1053</td>\n",
              "      <td>1</td>\n",
              "      <td>7</td>\n",
              "      <td>2</td>\n",
              "      <td>2</td>\n",
              "      <td>1160</td>\n",
              "      <td>1</td>\n",
              "      <td>0</td>\n",
              "      <td>72</td>\n",
              "      <td>1</td>\n",
              "      <td>1</td>\n",
              "      <td>0</td>\n",
              "      <td>1</td>\n",
              "      <td>1</td>\n",
              "      <td>14504</td>\n",
              "      <td>4</td>\n",
              "      <td>0</td>\n",
              "      <td>13</td>\n",
              "      <td>3</td>\n",
              "      <td>1</td>\n",
              "      <td>0</td>\n",
              "      <td>12</td>\n",
              "      <td>2</td>\n",
              "      <td>2</td>\n",
              "      <td>1</td>\n",
              "      <td>0</td>\n",
              "      <td>0</td>\n",
              "      <td>1</td>\n",
              "      <td>5209.67</td>\n",
              "    </tr>\n",
              "    <tr>\n",
              "      <th>2462</th>\n",
              "      <td>32</td>\n",
              "      <td>0</td>\n",
              "      <td>453</td>\n",
              "      <td>1</td>\n",
              "      <td>11</td>\n",
              "      <td>2</td>\n",
              "      <td>3</td>\n",
              "      <td>998</td>\n",
              "      <td>3</td>\n",
              "      <td>1</td>\n",
              "      <td>43</td>\n",
              "      <td>2</td>\n",
              "      <td>1</td>\n",
              "      <td>4</td>\n",
              "      <td>1</td>\n",
              "      <td>1</td>\n",
              "      <td>10219</td>\n",
              "      <td>0</td>\n",
              "      <td>1</td>\n",
              "      <td>22</td>\n",
              "      <td>4</td>\n",
              "      <td>2</td>\n",
              "      <td>0</td>\n",
              "      <td>4</td>\n",
              "      <td>0</td>\n",
              "      <td>2</td>\n",
              "      <td>3</td>\n",
              "      <td>2</td>\n",
              "      <td>2</td>\n",
              "      <td>1</td>\n",
              "      <td>3571.67</td>\n",
              "    </tr>\n",
              "    <tr>\n",
              "      <th>2463</th>\n",
              "      <td>34</td>\n",
              "      <td>2</td>\n",
              "      <td>489</td>\n",
              "      <td>1</td>\n",
              "      <td>7</td>\n",
              "      <td>3</td>\n",
              "      <td>2</td>\n",
              "      <td>1729</td>\n",
              "      <td>3</td>\n",
              "      <td>1</td>\n",
              "      <td>59</td>\n",
              "      <td>2</td>\n",
              "      <td>2</td>\n",
              "      <td>4</td>\n",
              "      <td>1</td>\n",
              "      <td>1</td>\n",
              "      <td>5098</td>\n",
              "      <td>1</td>\n",
              "      <td>0</td>\n",
              "      <td>13</td>\n",
              "      <td>3</td>\n",
              "      <td>2</td>\n",
              "      <td>0</td>\n",
              "      <td>10</td>\n",
              "      <td>4</td>\n",
              "      <td>1</td>\n",
              "      <td>10</td>\n",
              "      <td>4</td>\n",
              "      <td>7</td>\n",
              "      <td>1</td>\n",
              "      <td>1882.00</td>\n",
              "    </tr>\n",
              "    <tr>\n",
              "      <th>2464</th>\n",
              "      <td>36</td>\n",
              "      <td>2</td>\n",
              "      <td>237</td>\n",
              "      <td>1</td>\n",
              "      <td>18</td>\n",
              "      <td>3</td>\n",
              "      <td>1</td>\n",
              "      <td>1080</td>\n",
              "      <td>1</td>\n",
              "      <td>0</td>\n",
              "      <td>49</td>\n",
              "      <td>2</td>\n",
              "      <td>1</td>\n",
              "      <td>5</td>\n",
              "      <td>2</td>\n",
              "      <td>1</td>\n",
              "      <td>11643</td>\n",
              "      <td>4</td>\n",
              "      <td>1</td>\n",
              "      <td>11</td>\n",
              "      <td>3</td>\n",
              "      <td>2</td>\n",
              "      <td>0</td>\n",
              "      <td>12</td>\n",
              "      <td>1</td>\n",
              "      <td>2</td>\n",
              "      <td>6</td>\n",
              "      <td>3</td>\n",
              "      <td>2</td>\n",
              "      <td>1</td>\n",
              "      <td>3976.33</td>\n",
              "    </tr>\n",
              "    <tr>\n",
              "      <th>2465</th>\n",
              "      <td>32</td>\n",
              "      <td>2</td>\n",
              "      <td>1324</td>\n",
              "      <td>1</td>\n",
              "      <td>15</td>\n",
              "      <td>2</td>\n",
              "      <td>4</td>\n",
              "      <td>158</td>\n",
              "      <td>2</td>\n",
              "      <td>1</td>\n",
              "      <td>58</td>\n",
              "      <td>3</td>\n",
              "      <td>1</td>\n",
              "      <td>1</td>\n",
              "      <td>2</td>\n",
              "      <td>1</td>\n",
              "      <td>11254</td>\n",
              "      <td>3</td>\n",
              "      <td>1</td>\n",
              "      <td>15</td>\n",
              "      <td>3</td>\n",
              "      <td>2</td>\n",
              "      <td>0</td>\n",
              "      <td>8</td>\n",
              "      <td>2</td>\n",
              "      <td>2</td>\n",
              "      <td>1</td>\n",
              "      <td>1</td>\n",
              "      <td>1</td>\n",
              "      <td>1</td>\n",
              "      <td>4212.00</td>\n",
              "    </tr>\n",
              "  </tbody>\n",
              "</table>\n",
              "<p>2466 rows × 31 columns</p>\n",
              "</div>\n",
              "      <button class=\"colab-df-convert\" onclick=\"convertToInteractive('df-ca90c3f1-3faa-4e7d-b15d-5cdd678eb2b8')\"\n",
              "              title=\"Convert this dataframe to an interactive table.\"\n",
              "              style=\"display:none;\">\n",
              "        \n",
              "  <svg xmlns=\"http://www.w3.org/2000/svg\" height=\"24px\"viewBox=\"0 0 24 24\"\n",
              "       width=\"24px\">\n",
              "    <path d=\"M0 0h24v24H0V0z\" fill=\"none\"/>\n",
              "    <path d=\"M18.56 5.44l.94 2.06.94-2.06 2.06-.94-2.06-.94-.94-2.06-.94 2.06-2.06.94zm-11 1L8.5 8.5l.94-2.06 2.06-.94-2.06-.94L8.5 2.5l-.94 2.06-2.06.94zm10 10l.94 2.06.94-2.06 2.06-.94-2.06-.94-.94-2.06-.94 2.06-2.06.94z\"/><path d=\"M17.41 7.96l-1.37-1.37c-.4-.4-.92-.59-1.43-.59-.52 0-1.04.2-1.43.59L10.3 9.45l-7.72 7.72c-.78.78-.78 2.05 0 2.83L4 21.41c.39.39.9.59 1.41.59.51 0 1.02-.2 1.41-.59l7.78-7.78 2.81-2.81c.8-.78.8-2.07 0-2.86zM5.41 20L4 18.59l7.72-7.72 1.47 1.35L5.41 20z\"/>\n",
              "  </svg>\n",
              "      </button>\n",
              "      \n",
              "  <style>\n",
              "    .colab-df-container {\n",
              "      display:flex;\n",
              "      flex-wrap:wrap;\n",
              "      gap: 12px;\n",
              "    }\n",
              "\n",
              "    .colab-df-convert {\n",
              "      background-color: #E8F0FE;\n",
              "      border: none;\n",
              "      border-radius: 50%;\n",
              "      cursor: pointer;\n",
              "      display: none;\n",
              "      fill: #1967D2;\n",
              "      height: 32px;\n",
              "      padding: 0 0 0 0;\n",
              "      width: 32px;\n",
              "    }\n",
              "\n",
              "    .colab-df-convert:hover {\n",
              "      background-color: #E2EBFA;\n",
              "      box-shadow: 0px 1px 2px rgba(60, 64, 67, 0.3), 0px 1px 3px 1px rgba(60, 64, 67, 0.15);\n",
              "      fill: #174EA6;\n",
              "    }\n",
              "\n",
              "    [theme=dark] .colab-df-convert {\n",
              "      background-color: #3B4455;\n",
              "      fill: #D2E3FC;\n",
              "    }\n",
              "\n",
              "    [theme=dark] .colab-df-convert:hover {\n",
              "      background-color: #434B5C;\n",
              "      box-shadow: 0px 1px 3px 1px rgba(0, 0, 0, 0.15);\n",
              "      filter: drop-shadow(0px 1px 2px rgba(0, 0, 0, 0.3));\n",
              "      fill: #FFFFFF;\n",
              "    }\n",
              "  </style>\n",
              "\n",
              "      <script>\n",
              "        const buttonEl =\n",
              "          document.querySelector('#df-ca90c3f1-3faa-4e7d-b15d-5cdd678eb2b8 button.colab-df-convert');\n",
              "        buttonEl.style.display =\n",
              "          google.colab.kernel.accessAllowed ? 'block' : 'none';\n",
              "\n",
              "        async function convertToInteractive(key) {\n",
              "          const element = document.querySelector('#df-ca90c3f1-3faa-4e7d-b15d-5cdd678eb2b8');\n",
              "          const dataTable =\n",
              "            await google.colab.kernel.invokeFunction('convertToInteractive',\n",
              "                                                     [key], {});\n",
              "          if (!dataTable) return;\n",
              "\n",
              "          const docLinkHtml = 'Like what you see? Visit the ' +\n",
              "            '<a target=\"_blank\" href=https://colab.research.google.com/notebooks/data_table.ipynb>data table notebook</a>'\n",
              "            + ' to learn more about interactive tables.';\n",
              "          element.innerHTML = '';\n",
              "          dataTable['output_type'] = 'display_data';\n",
              "          await google.colab.output.renderOutput(dataTable, element);\n",
              "          const docLink = document.createElement('div');\n",
              "          docLink.innerHTML = docLinkHtml;\n",
              "          element.appendChild(docLink);\n",
              "        }\n",
              "      </script>\n",
              "    </div>\n",
              "  </div>\n",
              "  "
            ],
            "text/plain": [
              "      age  business_travel  ...  attrition  rate_avg\n",
              "0      41                2  ...          1   6891.67\n",
              "1      49                1  ...          0   8415.67\n",
              "2      37                2  ...          1   1287.00\n",
              "3      33                1  ...          0   8202.33\n",
              "4      27                2  ...          0   5754.33\n",
              "...   ...              ...  ...        ...       ...\n",
              "2461   39                2  ...          1   5209.67\n",
              "2462   32                0  ...          1   3571.67\n",
              "2463   34                2  ...          1   1882.00\n",
              "2464   36                2  ...          1   3976.33\n",
              "2465   32                2  ...          1   4212.00\n",
              "\n",
              "[2466 rows x 31 columns]"
            ]
          },
          "metadata": {},
          "execution_count": 2
        }
      ]
    },
    {
      "cell_type": "markdown",
      "source": [
        "## Base Model"
      ],
      "metadata": {
        "id": "nhuVKljhECEO"
      }
    },
    {
      "cell_type": "code",
      "source": [
        "# Splitting data into training and testing sets\n",
        "X = data.drop(\"attrition\", axis=1)\n",
        "Y = data['attrition']\n",
        "X_train, X_test, Y_train, Y_test = train_test_split(X, Y, test_size=0.3, random_state=42)\n",
        "\n",
        "# Fitting onto model and scoring\n",
        "clf = SVC(kernel='rbf')\n",
        "clf.fit(X_train, Y_train)\n",
        "clf.score(X_test, Y_test)"
      ],
      "metadata": {
        "colab": {
          "base_uri": "https://localhost:8080/"
        },
        "id": "OhyKG4OjFA7b",
        "outputId": "c95ceb87-7fb7-4a78-9d90-eafe2caf8805"
      },
      "execution_count": null,
      "outputs": [
        {
          "output_type": "execute_result",
          "data": {
            "text/plain": [
              "0.5121621621621621"
            ]
          },
          "metadata": {},
          "execution_count": 3
        }
      ]
    },
    {
      "cell_type": "markdown",
      "source": [
        "So, using the base model with no prior preprocessing yields an accuracy of **51.2%**"
      ],
      "metadata": {
        "id": "gmEMEYHTHB7_"
      }
    },
    {
      "cell_type": "markdown",
      "source": [
        "## Manual Feature Selection"
      ],
      "metadata": {
        "id": "SVusFTGQF7J5"
      }
    },
    {
      "cell_type": "markdown",
      "source": [
        "In this section, we categorize similar columns together and train on combinations of these groups to investigate the performance of our model. Here, we partition our columns into **4 groups**\n",
        "\n",
        "### Grouping Columns\n",
        "### Demographics\n",
        "* age\n",
        "* distance_from_home\n",
        "* education\n",
        "* education_field\n",
        "* gender\n",
        "* marital_status\n",
        "* total_working_years\n",
        "\n",
        "### Type of Job\n",
        "* department\n",
        "* job_involvement\n",
        "* job_level\n",
        "* job_role\n",
        "* job_satisfaction\n",
        "* training_times_last_year\n",
        "* business_travel\n",
        "\n",
        "### Financial Factors\n",
        "* rate_avg\n",
        "* percent_salary_hike\n",
        "* stock_option_level\n",
        "* over_time\n",
        "\n",
        "### Life at Work\n",
        "* years_with_curr_manager\n",
        "* work_life_balance\n",
        "* environment_satisfaction\n",
        "* performance_rating"
      ],
      "metadata": {
        "id": "xw17tsUJG2TB"
      }
    },
    {
      "cell_type": "code",
      "source": [
        "# Code for grouping categories above, indexed by above order\n",
        "cols = []\n",
        "cols.append(['age', 'distance_from_home', 'education', 'education_field',\n",
        "                    'gender', 'marital_status', 'total_working_years'])\n",
        "cols.append(['department', 'job_involvement', 'job_level', 'job_role',\n",
        "                 'job_satisfaction', 'training_times_last_year',\n",
        "                 'business_travel'])\n",
        "cols.append(['rate_avg', 'percent_salary_hike', 'stock_option_level',\n",
        "                'over_time'])\n",
        "cols.append(['years_with_curr_manager', 'work_life_balance',\n",
        "                  'environment_satisfaction', 'performance_rating'])\n",
        "demographicX = data[cols[0]]\n",
        "Y = data['attrition']"
      ],
      "metadata": {
        "id": "NwZL4BFGF6HD"
      },
      "execution_count": null,
      "outputs": []
    },
    {
      "cell_type": "markdown",
      "source": [
        "### Base Accuracies Per Individual Group"
      ],
      "metadata": {
        "id": "Ra9U6I4vKuuB"
      }
    },
    {
      "cell_type": "code",
      "source": [
        "# Training on each subgroup, storing accuracy in scores[]\n",
        "scores = []\n",
        "for e in cols:\n",
        "  X = data[e]\n",
        "  Y = data['attrition']\n",
        "  X_train, X_test, Y_train, Y_test = train_test_split(X, Y, test_size=0.3, random_state=42)\n",
        "  clf = SVC(kernel='rbf')\n",
        "  clf.fit(X_train, Y_train)\n",
        "  Y_pred = clf.predict(X_test)\n",
        "  scores.append(clf.score(X_test, Y_test))\n",
        "scores"
      ],
      "metadata": {
        "colab": {
          "base_uri": "https://localhost:8080/"
        },
        "id": "GUWim5HGKz3p",
        "outputId": "436150fd-7e94-4a9b-8c15-e179eb5522e1"
      },
      "execution_count": null,
      "outputs": [
        {
          "output_type": "execute_result",
          "data": {
            "text/plain": [
              "[0.6662162162162162,\n",
              " 0.7824324324324324,\n",
              " 0.4851351351351351,\n",
              " 0.7486486486486487]"
            ]
          },
          "metadata": {},
          "execution_count": 5
        }
      ]
    },
    {
      "cell_type": "markdown",
      "source": [
        "**Demographic Group** yielded **66.6%** accuracy <br>\n",
        "**Type of Job Group** yielded **78.2%** accuracy <br>\n",
        "**Financial Factors** yielded **48.5%** accuracy <br>\n",
        "**Life at Work Group** yielded **74.8%** accuracy <br>"
      ],
      "metadata": {
        "id": "s5j4KKEALK9z"
      }
    },
    {
      "cell_type": "markdown",
      "source": [
        "### Base Accuracies Per Combinations of Groups"
      ],
      "metadata": {
        "id": "9zsyaELcNIr_"
      }
    },
    {
      "cell_type": "markdown",
      "source": [
        "We then train on a combination of groups to see if our model performs better or worse than training on individual groups <br>\n",
        "First, we define a function to create combinations and then train on each combination and compare accuracies"
      ],
      "metadata": {
        "id": "_8VPzIrvNolN"
      }
    },
    {
      "cell_type": "code",
      "source": [
        "# Function returns a set containing all subsets of *items* \n",
        "# Ex) combinations([0,1,2]) -> ([0],[1],[2],[0,1],[0,2],[0,1,2],[])\n",
        "# Packages imported here are used in this cell only\n",
        "from itertools import compress, product\n",
        "from itertools import chain\n",
        "def combinations(items):\n",
        "    return (set(compress(items,mask)) for mask in product(*[[0,1]]*len(items)))"
      ],
      "metadata": {
        "id": "VMFYlygEN8zr"
      },
      "execution_count": null,
      "outputs": []
    },
    {
      "cell_type": "code",
      "source": [
        "# Defining dictionary mapping groups to respective columns\n",
        "category_dict = {\"demographics\": cols[0],\n",
        "                 \"type\": cols[1],\n",
        "                 \"financial\": cols[2],\n",
        "                 \"life\": cols[3]}\n",
        "\n",
        "# Removing individual groups and empty set from combinations\n",
        "combos = list(combinations(category_dict.keys()))\n",
        "combos.remove(set())\n",
        "for key in category_dict.keys():\n",
        "  combos.remove({key})\n",
        "combos"
      ],
      "metadata": {
        "colab": {
          "base_uri": "https://localhost:8080/"
        },
        "id": "qkf3WN-UOKjc",
        "outputId": "0603efb5-9379-4ce2-fdfb-a88a1b03b94c"
      },
      "execution_count": null,
      "outputs": [
        {
          "output_type": "execute_result",
          "data": {
            "text/plain": [
              "[{'financial', 'life'},\n",
              " {'life', 'type'},\n",
              " {'financial', 'type'},\n",
              " {'financial', 'life', 'type'},\n",
              " {'demographics', 'life'},\n",
              " {'demographics', 'financial'},\n",
              " {'demographics', 'financial', 'life'},\n",
              " {'demographics', 'type'},\n",
              " {'demographics', 'life', 'type'},\n",
              " {'demographics', 'financial', 'type'},\n",
              " {'demographics', 'financial', 'life', 'type'}]"
            ]
          },
          "metadata": {},
          "execution_count": 7
        }
      ]
    },
    {
      "cell_type": "code",
      "source": [
        "# TRAINING ON EACH COMBINATION\n",
        "# Storing accuracies in scores[]\n",
        "scores = []\n",
        "for combo in combos:\n",
        "  X = []\n",
        "  for group in combo:\n",
        "    X.append(category_dict[group])\n",
        "  X = data[list(chain.from_iterable(X))]\n",
        "  Y = data[\"attrition\"]\n",
        "  X_train, X_test, Y_train, Y_test = train_test_split(X, Y, test_size=0.3, random_state=42)\n",
        "  clf = SVC()\n",
        "  clf.fit(X_train, Y_train)\n",
        "  Y_pred = clf.predict(X_test)\n",
        "  scores.append(clf.score(X_test, Y_test))\n",
        "scores"
      ],
      "metadata": {
        "colab": {
          "base_uri": "https://localhost:8080/"
        },
        "id": "ebb1F-8hPFaD",
        "outputId": "8f4de25a-0558-45f6-ec04-a94d73d2d02a"
      },
      "execution_count": null,
      "outputs": [
        {
          "output_type": "execute_result",
          "data": {
            "text/plain": [
              "[0.4797297297297297,\n",
              " 0.8175675675675675,\n",
              " 0.4797297297297297,\n",
              " 0.4797297297297297,\n",
              " 0.7405405405405405,\n",
              " 0.4797297297297297,\n",
              " 0.4797297297297297,\n",
              " 0.7621621621621621,\n",
              " 0.7986486486486486,\n",
              " 0.4797297297297297,\n",
              " 0.4797297297297297]"
            ]
          },
          "metadata": {},
          "execution_count": 8
        }
      ]
    },
    {
      "cell_type": "markdown",
      "source": [
        "Combination of categories **Life at Work** and **Type of Job** yielded highest accuracy of about **81.7%**"
      ],
      "metadata": {
        "id": "959YWn5sP6sA"
      }
    },
    {
      "cell_type": "markdown",
      "source": [
        "### Accuracy on Top 15 and Removing Similar Columns"
      ],
      "metadata": {
        "id": "c0uiqH2nQXmA"
      }
    },
    {
      "cell_type": "markdown",
      "source": [
        "How does the accuracy for a combination of columns perform with regards to the **top 15 best predictors** of attrition? Let's take a sneak peak on how our model would perform before diving full force into automated feature selection"
      ],
      "metadata": {
        "id": "KkC7cV-xQlrl"
      }
    },
    {
      "cell_type": "code",
      "source": [
        "# Manually removing similar columns (in terms of context)\n",
        "remove = ['total_working_years', 'years_at_company', 'percent_salary_hike',\n",
        "               'years_with_curr_manager', 'hourly_rate', 'daily_rate', \n",
        "               'monthly_rate']\n",
        "no_attrition = data.drop('attrition', axis=1)\n",
        "no_correlation = [e for e in list(no_attrition.columns) if e not in remove]\n",
        "no_correlation"
      ],
      "metadata": {
        "colab": {
          "base_uri": "https://localhost:8080/"
        },
        "id": "EpeOUXzIRSpH",
        "outputId": "b8c23b19-8747-45a0-e37d-acf0b02382ab"
      },
      "execution_count": null,
      "outputs": [
        {
          "output_type": "execute_result",
          "data": {
            "text/plain": [
              "['age',\n",
              " 'business_travel',\n",
              " 'department',\n",
              " 'distance_from_home',\n",
              " 'education',\n",
              " 'education_field',\n",
              " 'employee_number',\n",
              " 'environment_satisfaction',\n",
              " 'gender',\n",
              " 'job_involvement',\n",
              " 'job_level',\n",
              " 'job_role',\n",
              " 'job_satisfaction',\n",
              " 'marital_status',\n",
              " 'num_companies_worked',\n",
              " 'over_time',\n",
              " 'performance_rating',\n",
              " 'relationship_satisfaction',\n",
              " 'stock_option_level',\n",
              " 'training_times_last_year',\n",
              " 'work_life_balance',\n",
              " 'years_in_current_role',\n",
              " 'rate_avg']"
            ]
          },
          "metadata": {},
          "execution_count": 9
        }
      ]
    },
    {
      "cell_type": "code",
      "source": [
        "# Splitting data into train test sets\n",
        "X = data[no_correlation]\n",
        "Y = data['attrition']\n",
        "X_train, X_test, Y_train, Y_test = train_test_split(X, Y, test_size=0.3, random_state=42)\n",
        "\n",
        "# Selecting Top k features\n",
        "select = SelectKBest(score_func=f_classif, k=15)\n",
        "X_train_select = select.fit_transform(X_train, Y_train)"
      ],
      "metadata": {
        "id": "60fsPNtvSEsH"
      },
      "execution_count": null,
      "outputs": []
    },
    {
      "cell_type": "code",
      "source": [
        "# Scoring the features\n",
        "X_train.columns.values[select.get_support()]\n",
        "score_df = pd.DataFrame({'Feature': list(X_train), 'Scores': select.scores_})\n",
        "score_df.sort_values(by='Scores', ascending=False)"
      ],
      "metadata": {
        "colab": {
          "base_uri": "https://localhost:8080/",
          "height": 771
        },
        "id": "QOqZUH2fSZdM",
        "outputId": "5bb46394-7607-4380-c565-79180391495e"
      },
      "execution_count": null,
      "outputs": [
        {
          "output_type": "execute_result",
          "data": {
            "text/html": [
              "\n",
              "  <div id=\"df-2331b563-bdd3-4aaa-b131-f90c25e806b3\">\n",
              "    <div class=\"colab-df-container\">\n",
              "      <div>\n",
              "<style scoped>\n",
              "    .dataframe tbody tr th:only-of-type {\n",
              "        vertical-align: middle;\n",
              "    }\n",
              "\n",
              "    .dataframe tbody tr th {\n",
              "        vertical-align: top;\n",
              "    }\n",
              "\n",
              "    .dataframe thead th {\n",
              "        text-align: right;\n",
              "    }\n",
              "</style>\n",
              "<table border=\"1\" class=\"dataframe\">\n",
              "  <thead>\n",
              "    <tr style=\"text-align: right;\">\n",
              "      <th></th>\n",
              "      <th>Feature</th>\n",
              "      <th>Scores</th>\n",
              "    </tr>\n",
              "  </thead>\n",
              "  <tbody>\n",
              "    <tr>\n",
              "      <th>10</th>\n",
              "      <td>job_level</td>\n",
              "      <td>252.184784</td>\n",
              "    </tr>\n",
              "    <tr>\n",
              "      <th>9</th>\n",
              "      <td>job_involvement</td>\n",
              "      <td>219.524410</td>\n",
              "    </tr>\n",
              "    <tr>\n",
              "      <th>18</th>\n",
              "      <td>stock_option_level</td>\n",
              "      <td>203.400042</td>\n",
              "    </tr>\n",
              "    <tr>\n",
              "      <th>20</th>\n",
              "      <td>work_life_balance</td>\n",
              "      <td>142.300362</td>\n",
              "    </tr>\n",
              "    <tr>\n",
              "      <th>7</th>\n",
              "      <td>environment_satisfaction</td>\n",
              "      <td>139.702217</td>\n",
              "    </tr>\n",
              "    <tr>\n",
              "      <th>12</th>\n",
              "      <td>job_satisfaction</td>\n",
              "      <td>123.149892</td>\n",
              "    </tr>\n",
              "    <tr>\n",
              "      <th>19</th>\n",
              "      <td>training_times_last_year</td>\n",
              "      <td>121.555022</td>\n",
              "    </tr>\n",
              "    <tr>\n",
              "      <th>21</th>\n",
              "      <td>years_in_current_role</td>\n",
              "      <td>119.083473</td>\n",
              "    </tr>\n",
              "    <tr>\n",
              "      <th>0</th>\n",
              "      <td>age</td>\n",
              "      <td>105.315269</td>\n",
              "    </tr>\n",
              "    <tr>\n",
              "      <th>17</th>\n",
              "      <td>relationship_satisfaction</td>\n",
              "      <td>80.006391</td>\n",
              "    </tr>\n",
              "    <tr>\n",
              "      <th>4</th>\n",
              "      <td>education</td>\n",
              "      <td>68.386343</td>\n",
              "    </tr>\n",
              "    <tr>\n",
              "      <th>8</th>\n",
              "      <td>gender</td>\n",
              "      <td>64.589440</td>\n",
              "    </tr>\n",
              "    <tr>\n",
              "      <th>16</th>\n",
              "      <td>performance_rating</td>\n",
              "      <td>50.657908</td>\n",
              "    </tr>\n",
              "    <tr>\n",
              "      <th>1</th>\n",
              "      <td>business_travel</td>\n",
              "      <td>37.263015</td>\n",
              "    </tr>\n",
              "    <tr>\n",
              "      <th>15</th>\n",
              "      <td>over_time</td>\n",
              "      <td>30.322591</td>\n",
              "    </tr>\n",
              "    <tr>\n",
              "      <th>2</th>\n",
              "      <td>department</td>\n",
              "      <td>29.916572</td>\n",
              "    </tr>\n",
              "    <tr>\n",
              "      <th>13</th>\n",
              "      <td>marital_status</td>\n",
              "      <td>17.727612</td>\n",
              "    </tr>\n",
              "    <tr>\n",
              "      <th>3</th>\n",
              "      <td>distance_from_home</td>\n",
              "      <td>7.210336</td>\n",
              "    </tr>\n",
              "    <tr>\n",
              "      <th>5</th>\n",
              "      <td>education_field</td>\n",
              "      <td>5.064513</td>\n",
              "    </tr>\n",
              "    <tr>\n",
              "      <th>22</th>\n",
              "      <td>rate_avg</td>\n",
              "      <td>1.881090</td>\n",
              "    </tr>\n",
              "    <tr>\n",
              "      <th>14</th>\n",
              "      <td>num_companies_worked</td>\n",
              "      <td>0.839887</td>\n",
              "    </tr>\n",
              "    <tr>\n",
              "      <th>11</th>\n",
              "      <td>job_role</td>\n",
              "      <td>0.761375</td>\n",
              "    </tr>\n",
              "    <tr>\n",
              "      <th>6</th>\n",
              "      <td>employee_number</td>\n",
              "      <td>0.473399</td>\n",
              "    </tr>\n",
              "  </tbody>\n",
              "</table>\n",
              "</div>\n",
              "      <button class=\"colab-df-convert\" onclick=\"convertToInteractive('df-2331b563-bdd3-4aaa-b131-f90c25e806b3')\"\n",
              "              title=\"Convert this dataframe to an interactive table.\"\n",
              "              style=\"display:none;\">\n",
              "        \n",
              "  <svg xmlns=\"http://www.w3.org/2000/svg\" height=\"24px\"viewBox=\"0 0 24 24\"\n",
              "       width=\"24px\">\n",
              "    <path d=\"M0 0h24v24H0V0z\" fill=\"none\"/>\n",
              "    <path d=\"M18.56 5.44l.94 2.06.94-2.06 2.06-.94-2.06-.94-.94-2.06-.94 2.06-2.06.94zm-11 1L8.5 8.5l.94-2.06 2.06-.94-2.06-.94L8.5 2.5l-.94 2.06-2.06.94zm10 10l.94 2.06.94-2.06 2.06-.94-2.06-.94-.94-2.06-.94 2.06-2.06.94z\"/><path d=\"M17.41 7.96l-1.37-1.37c-.4-.4-.92-.59-1.43-.59-.52 0-1.04.2-1.43.59L10.3 9.45l-7.72 7.72c-.78.78-.78 2.05 0 2.83L4 21.41c.39.39.9.59 1.41.59.51 0 1.02-.2 1.41-.59l7.78-7.78 2.81-2.81c.8-.78.8-2.07 0-2.86zM5.41 20L4 18.59l7.72-7.72 1.47 1.35L5.41 20z\"/>\n",
              "  </svg>\n",
              "      </button>\n",
              "      \n",
              "  <style>\n",
              "    .colab-df-container {\n",
              "      display:flex;\n",
              "      flex-wrap:wrap;\n",
              "      gap: 12px;\n",
              "    }\n",
              "\n",
              "    .colab-df-convert {\n",
              "      background-color: #E8F0FE;\n",
              "      border: none;\n",
              "      border-radius: 50%;\n",
              "      cursor: pointer;\n",
              "      display: none;\n",
              "      fill: #1967D2;\n",
              "      height: 32px;\n",
              "      padding: 0 0 0 0;\n",
              "      width: 32px;\n",
              "    }\n",
              "\n",
              "    .colab-df-convert:hover {\n",
              "      background-color: #E2EBFA;\n",
              "      box-shadow: 0px 1px 2px rgba(60, 64, 67, 0.3), 0px 1px 3px 1px rgba(60, 64, 67, 0.15);\n",
              "      fill: #174EA6;\n",
              "    }\n",
              "\n",
              "    [theme=dark] .colab-df-convert {\n",
              "      background-color: #3B4455;\n",
              "      fill: #D2E3FC;\n",
              "    }\n",
              "\n",
              "    [theme=dark] .colab-df-convert:hover {\n",
              "      background-color: #434B5C;\n",
              "      box-shadow: 0px 1px 3px 1px rgba(0, 0, 0, 0.15);\n",
              "      filter: drop-shadow(0px 1px 2px rgba(0, 0, 0, 0.3));\n",
              "      fill: #FFFFFF;\n",
              "    }\n",
              "  </style>\n",
              "\n",
              "      <script>\n",
              "        const buttonEl =\n",
              "          document.querySelector('#df-2331b563-bdd3-4aaa-b131-f90c25e806b3 button.colab-df-convert');\n",
              "        buttonEl.style.display =\n",
              "          google.colab.kernel.accessAllowed ? 'block' : 'none';\n",
              "\n",
              "        async function convertToInteractive(key) {\n",
              "          const element = document.querySelector('#df-2331b563-bdd3-4aaa-b131-f90c25e806b3');\n",
              "          const dataTable =\n",
              "            await google.colab.kernel.invokeFunction('convertToInteractive',\n",
              "                                                     [key], {});\n",
              "          if (!dataTable) return;\n",
              "\n",
              "          const docLinkHtml = 'Like what you see? Visit the ' +\n",
              "            '<a target=\"_blank\" href=https://colab.research.google.com/notebooks/data_table.ipynb>data table notebook</a>'\n",
              "            + ' to learn more about interactive tables.';\n",
              "          element.innerHTML = '';\n",
              "          dataTable['output_type'] = 'display_data';\n",
              "          await google.colab.output.renderOutput(dataTable, element);\n",
              "          const docLink = document.createElement('div');\n",
              "          docLink.innerHTML = docLinkHtml;\n",
              "          element.appendChild(docLink);\n",
              "        }\n",
              "      </script>\n",
              "    </div>\n",
              "  </div>\n",
              "  "
            ],
            "text/plain": [
              "                      Feature      Scores\n",
              "10                  job_level  252.184784\n",
              "9             job_involvement  219.524410\n",
              "18         stock_option_level  203.400042\n",
              "20          work_life_balance  142.300362\n",
              "7    environment_satisfaction  139.702217\n",
              "12           job_satisfaction  123.149892\n",
              "19   training_times_last_year  121.555022\n",
              "21      years_in_current_role  119.083473\n",
              "0                         age  105.315269\n",
              "17  relationship_satisfaction   80.006391\n",
              "4                   education   68.386343\n",
              "8                      gender   64.589440\n",
              "16         performance_rating   50.657908\n",
              "1             business_travel   37.263015\n",
              "15                  over_time   30.322591\n",
              "2                  department   29.916572\n",
              "13             marital_status   17.727612\n",
              "3          distance_from_home    7.210336\n",
              "5             education_field    5.064513\n",
              "22                   rate_avg    1.881090\n",
              "14       num_companies_worked    0.839887\n",
              "11                   job_role    0.761375\n",
              "6             employee_number    0.473399"
            ]
          },
          "metadata": {},
          "execution_count": 11
        }
      ]
    },
    {
      "cell_type": "code",
      "source": [
        "clf = SVC(kernel='rbf')\n",
        "clf.fit(X_train_select, Y_train)\n",
        "X_test_select = select.transform(X_test)\n",
        "Y_pred = clf.predict(X_test_select)\n",
        "accuracy_score(Y_test, Y_pred)"
      ],
      "metadata": {
        "colab": {
          "base_uri": "https://localhost:8080/"
        },
        "id": "l4ged1YnSqVj",
        "outputId": "180b5a54-9999-4eda-8ba4-c05013c665d1"
      },
      "execution_count": null,
      "outputs": [
        {
          "output_type": "execute_result",
          "data": {
            "text/plain": [
              "0.8067567567567567"
            ]
          },
          "metadata": {},
          "execution_count": 12
        }
      ]
    },
    {
      "cell_type": "markdown",
      "source": [
        "It seems that using the filter method of **K=15** features and removing similar columns yields an accuracy of **80.68**"
      ],
      "metadata": {
        "id": "q1syslbPS6Ac"
      }
    },
    {
      "cell_type": "markdown",
      "source": [
        "## Standardization of Data"
      ],
      "metadata": {
        "id": "sP0Nj3KUTvKr"
      }
    },
    {
      "cell_type": "markdown",
      "source": [
        "After doing some research, we found that SVM's peformance can be improved when the predictors (or features of our data) are **normalized**. That is, when the data for each column converge to a Normal Distribution centered around a **mean of 0** and **unit variance**. Here, we comapare the results with a *linear* and *non-linear kernel*"
      ],
      "metadata": {
        "id": "OhNEw7XOUcRK"
      }
    },
    {
      "cell_type": "code",
      "source": [
        "# Scaling data using StandardScalar module\n",
        "sc = StandardScaler()\n",
        "sc.fit(data[no_correlation])\n",
        "data_scale = sc.transform(data[no_correlation])"
      ],
      "metadata": {
        "id": "JmZZ3DL9WKmw"
      },
      "execution_count": null,
      "outputs": []
    },
    {
      "cell_type": "markdown",
      "source": [
        "### With Linear Kernel"
      ],
      "metadata": {
        "id": "VMDYV0npVuPV"
      }
    },
    {
      "cell_type": "code",
      "source": [
        "X = data_scale\n",
        "Y = data['attrition']\n",
        "X_train, X_test, Y_train, Y_test = train_test_split(X, Y, test_size=0.3, random_state=42)\n",
        "clf_linear = SVC(kernel='linear')\n",
        "clf_linear.fit(X_train, Y_train)\n",
        "clf_linear.score(X_test, Y_test)"
      ],
      "metadata": {
        "colab": {
          "base_uri": "https://localhost:8080/"
        },
        "id": "4BtKA22iVtqQ",
        "outputId": "39470744-2021-48ca-8cca-ac7f234cc5b1"
      },
      "execution_count": null,
      "outputs": [
        {
          "output_type": "execute_result",
          "data": {
            "text/plain": [
              "0.8216216216216217"
            ]
          },
          "metadata": {},
          "execution_count": 14
        }
      ]
    },
    {
      "cell_type": "markdown",
      "source": [
        "A **Scaled, Linear SVC** yields **82.1%** accuracy"
      ],
      "metadata": {
        "id": "3beFW_JTXM2x"
      }
    },
    {
      "cell_type": "markdown",
      "source": [
        "### With Non-Linear Kernel"
      ],
      "metadata": {
        "id": "E09riyrwXVBE"
      }
    },
    {
      "cell_type": "code",
      "source": [
        "X = data_scale\n",
        "Y = data['attrition']\n",
        "X_train, X_test, Y_train, Y_test = train_test_split(X, Y, test_size=0.3, random_state=42)\n",
        "clf = SVC(kernel='rbf')\n",
        "clf.fit(X_train, Y_train)\n",
        "clf.score(X_test, Y_test)"
      ],
      "metadata": {
        "colab": {
          "base_uri": "https://localhost:8080/"
        },
        "id": "SrnafPDNXZFk",
        "outputId": "b25944c3-45fd-4e89-cad6-411cc778d213"
      },
      "execution_count": null,
      "outputs": [
        {
          "output_type": "execute_result",
          "data": {
            "text/plain": [
              "0.8756756756756757"
            ]
          },
          "metadata": {},
          "execution_count": 15
        }
      ]
    },
    {
      "cell_type": "markdown",
      "source": [
        "A **Scaled, Non-Linear SVC** yields **87.5%** accuracy"
      ],
      "metadata": {
        "id": "785HWxjzXmSm"
      }
    },
    {
      "cell_type": "markdown",
      "source": [
        "Amazing! It seems the default non-linear kernel outperforms the linear kernel! We will continue using this model from here on out!"
      ],
      "metadata": {
        "id": "wNtSfI1UXvbz"
      }
    },
    {
      "cell_type": "markdown",
      "source": [
        "## Feature Selection - Wrapper Method"
      ],
      "metadata": {
        "id": "1XpoOOHWYdYb"
      }
    },
    {
      "cell_type": "markdown",
      "source": [
        "Now, we will use an automated way to select the top best features (predictors) of attrition using Wrappers. Here we use both the Forward and Backward Wrappers, however, both deliver the same results. <br>\n",
        "**Note**: In both cases, we aim to find the **optimal number of features** as well as the features themselves to be trained on."
      ],
      "metadata": {
        "id": "UZhmaxjUZZXt"
      }
    },
    {
      "cell_type": "markdown",
      "source": [
        "### Sequential Forward Selection Wrapper"
      ],
      "metadata": {
        "id": "Mk15n6TiY2bh"
      }
    },
    {
      "cell_type": "code",
      "source": [
        "# Training on multiple number of columns, storing accuracy in scores{}\n",
        "scores = {}\n",
        "for n in range(1,23):\n",
        "  clf_sfs = SVC()\n",
        "  sfs = SequentialFeatureSelector(clf_sfs, n_features_to_select=n, direction=\"forward\", scoring='accuracy')\n",
        "  sfs = sfs.fit(X_train, Y_train)\n",
        "  feat_cols = sfs.get_support(indices=True)\n",
        "  clf_sfs.fit(X_train[:, feat_cols], Y_train)\n",
        "  y_test_pred = clf_sfs.predict(X_test[:, feat_cols])\n",
        "  scores[n] = accuracy_score(Y_test, y_test_pred)"
      ],
      "metadata": {
        "id": "S_QnSP_sZ1pA"
      },
      "execution_count": null,
      "outputs": []
    },
    {
      "cell_type": "code",
      "source": [
        "# Printing accuracies by {number of cols : accuracy} pairs\n",
        "for key, value in scores.items():\n",
        "    print(key, ' : ', value)"
      ],
      "metadata": {
        "colab": {
          "base_uri": "https://localhost:8080/"
        },
        "id": "61oN3wokap2Y",
        "outputId": "242b702d-a4a0-49a2-bd13-aabeecef0c47"
      },
      "execution_count": null,
      "outputs": [
        {
          "output_type": "stream",
          "name": "stdout",
          "text": [
            "1  :  0.6675675675675675\n",
            "2  :  0.7202702702702702\n",
            "3  :  0.754054054054054\n",
            "4  :  0.7905405405405406\n",
            "5  :  0.8108108108108109\n",
            "6  :  0.8337837837837838\n",
            "7  :  0.822972972972973\n",
            "8  :  0.8378378378378378\n",
            "9  :  0.845945945945946\n",
            "10  :  0.8378378378378378\n",
            "11  :  0.8513513513513513\n",
            "12  :  0.8567567567567568\n",
            "13  :  0.8554054054054054\n",
            "14  :  0.8662162162162163\n",
            "15  :  0.8608108108108108\n",
            "16  :  0.8689189189189189\n",
            "17  :  0.8756756756756757\n",
            "18  :  0.8864864864864865\n",
            "19  :  0.8891891891891892\n",
            "20  :  0.8824324324324324\n",
            "21  :  0.8837837837837837\n",
            "22  :  0.8797297297297297\n"
          ]
        }
      ]
    },
    {
      "cell_type": "code",
      "source": [
        "# What were the optimal features?\n",
        "clf_sfs = SVC()\n",
        "sfs = SequentialFeatureSelector(clf_sfs, n_features_to_select=19, direction=\"forward\", scoring='accuracy')\n",
        "sfs = sfs.fit(X_train, Y_train)\n",
        "sfs.get_feature_names_out(no_correlation)"
      ],
      "metadata": {
        "colab": {
          "base_uri": "https://localhost:8080/"
        },
        "id": "2YKgXU0Ia5Fe",
        "outputId": "5558a2ed-79c0-4c33-ee49-75a130669705"
      },
      "execution_count": null,
      "outputs": [
        {
          "output_type": "execute_result",
          "data": {
            "text/plain": [
              "array(['age', 'business_travel', 'distance_from_home', 'education',\n",
              "       'employee_number', 'environment_satisfaction', 'job_involvement',\n",
              "       'job_level', 'job_role', 'job_satisfaction', 'marital_status',\n",
              "       'over_time', 'performance_rating', 'relationship_satisfaction',\n",
              "       'stock_option_level', 'training_times_last_year',\n",
              "       'work_life_balance', 'years_in_current_role', 'rate_avg'],\n",
              "      dtype=object)"
            ]
          },
          "metadata": {},
          "execution_count": 28
        }
      ]
    },
    {
      "cell_type": "code",
      "source": [
        "# Finding excluded columns\n",
        "sfs.get_support(indices=True)"
      ],
      "metadata": {
        "colab": {
          "base_uri": "https://localhost:8080/"
        },
        "id": "nlHzKz8Rds8i",
        "outputId": "b109ed09-6e36-4bea-9822-498d1f068ab9"
      },
      "execution_count": null,
      "outputs": [
        {
          "output_type": "execute_result",
          "data": {
            "text/plain": [
              "array([ 0,  1,  3,  4,  6,  7,  9, 10, 11, 12, 13, 15, 16, 17, 18, 19, 20,\n",
              "       21, 22])"
            ]
          },
          "metadata": {},
          "execution_count": 29
        }
      ]
    },
    {
      "cell_type": "markdown",
      "source": [
        "So, having around 18-21 features results in **88% accuracy**, with highest in having **19 features** with **88.9% accuracy**<br>\n",
        "Excluded features: *gender, department, education_field, num_companies_worked*"
      ],
      "metadata": {
        "id": "KGGp6ocGojDA"
      }
    },
    {
      "cell_type": "markdown",
      "source": [
        "### Sequential Backward Selection Wrapper"
      ],
      "metadata": {
        "id": "7621SwDaovgt"
      }
    },
    {
      "cell_type": "markdown",
      "source": [
        "This section is commented out, as it performs the same as forward process and yields similar accuracies <br>\n",
        "**Note**: Runtime is roughly 30 minutes for both selection processes"
      ],
      "metadata": {
        "id": "GEmgyB5Vo1IW"
      }
    },
    {
      "cell_type": "markdown",
      "source": [
        "```\n",
        "scores = {}\n",
        "for n in range(15,23):\n",
        "  clf_sfs = SVC()\n",
        "  sfs = SequentialFeatureSelector(clf_sfs, n_features_to_select=n, direction=\"backward\", scoring='accuracy')\n",
        "  sfs = sfs.fit(X_train, Y_train)\n",
        "  feat_cols = sfs.get_support(indices=True)\n",
        "  clf_sfs.fit(X_train[:, feat_cols], Y_train)\n",
        "  y_test_pred = clf_sfs.predict(X_test[:, feat_cols])\n",
        "  scores[n] = accuracy_score(Y_test, y_test_pred)\n",
        "\n",
        "# Printing accuracies by {number of cols : accuracy} pairs\n",
        "for key, value in scores.items():\n",
        "    print(key, ' : ', value)\n",
        "\n",
        "# What were the optimal features?\n",
        "clf_sfs = SVC()\n",
        "sfs = SequentialFeatureSelector(clf_sfs, n_features_to_select=19, direction=\"forward\", scoring='accuracy')\n",
        "sfs = sfs.fit(X_train, Y_train)\n",
        "print(sfs.get_feature_names_out(no_correlation))\n",
        "\n",
        "# Finding excluded columns\n",
        "print(sfs.get_support(indices=True))\n",
        "```\n",
        "\n"
      ],
      "metadata": {
        "id": "pBIrnN1cpqoV"
      }
    },
    {
      "cell_type": "markdown",
      "source": [
        "## Hyperparameter Tuning"
      ],
      "metadata": {
        "id": "6wHu47nYqaOj"
      }
    },
    {
      "cell_type": "markdown",
      "source": [
        "2 parameters of interest are **C** and **Gamma**\n",
        "\n",
        "* **C** is a regularizer for the error term, tradeoff between smooth boundaries and \n",
        "classifying all training points correctly.\n",
        "* **Gamma** is a parameter for non-linear kernals, like in our case, to determing the radius of the decision boundary around the clusters (groups).\n",
        "<br>In both cases, the **higher** they are, the more likely they lead to **overfitting**"
      ],
      "metadata": {
        "id": "6oy9D2Fsqifj"
      }
    },
    {
      "cell_type": "markdown",
      "source": [
        "Now, we will be tuning the parameters of our model under Grid Search and then use Random Search to see if any better parameters exist. We will be comparing metrics to make a conclusion"
      ],
      "metadata": {
        "id": "7ZcWyT0ptANR"
      }
    },
    {
      "cell_type": "markdown",
      "source": [
        "### Grid Search Metrics"
      ],
      "metadata": {
        "id": "aJxydzmmsBbZ"
      }
    },
    {
      "cell_type": "code",
      "source": [
        "# Defining parameter grid and intializing GridSearch\n",
        "param_grid = {\"C\": [0.01, 0.1, 1, 10, 100],\n",
        "              \"gamma\": [0.01, 0.1, 1, 10, 100]}\n",
        "grid_cv = GridSearchCV(SVC(), param_grid, verbose=0)\n",
        "grid_cv.fit(X_train, Y_train)"
      ],
      "metadata": {
        "colab": {
          "base_uri": "https://localhost:8080/"
        },
        "id": "W-Ob7Ltap4V0",
        "outputId": "53bf0d3e-fc4d-46c4-b24d-ca53e4347c35"
      },
      "execution_count": null,
      "outputs": [
        {
          "output_type": "execute_result",
          "data": {
            "text/plain": [
              "GridSearchCV(estimator=SVC(),\n",
              "             param_grid={'C': [0.01, 0.1, 1, 10, 100],\n",
              "                         'gamma': [0.01, 0.1, 1, 10, 100]})"
            ]
          },
          "metadata": {},
          "execution_count": 17
        }
      ]
    },
    {
      "cell_type": "code",
      "source": [
        "# What is the best estimator?\n",
        "print(grid_cv.best_estimator_)"
      ],
      "metadata": {
        "colab": {
          "base_uri": "https://localhost:8080/"
        },
        "id": "P4ipQtwTrzzj",
        "outputId": "156aff7d-b5d0-4956-da6c-49c1b0a199f9"
      },
      "execution_count": null,
      "outputs": [
        {
          "output_type": "stream",
          "name": "stdout",
          "text": [
            "SVC(C=10, gamma=0.1)\n"
          ]
        }
      ]
    },
    {
      "cell_type": "code",
      "source": [
        "# Visualizing the metrics of this model\n",
        "grid_pred = grid_cv.predict(X_test)\n",
        "cm = confusion_matrix(Y_test, grid_pred, labels=grid_cv.classes_)\n",
        "disp = ConfusionMatrixDisplay(confusion_matrix=cm, display_labels=grid_cv.classes_)\n",
        "disp.plot()\n",
        "\n",
        "print(classification_report(Y_test, grid_pred))"
      ],
      "metadata": {
        "colab": {
          "base_uri": "https://localhost:8080/",
          "height": 445
        },
        "id": "SZWzQBrdsF1w",
        "outputId": "406a4c7c-43f9-4cd6-e382-bbc8cece660a"
      },
      "execution_count": null,
      "outputs": [
        {
          "output_type": "stream",
          "name": "stdout",
          "text": [
            "              precision    recall  f1-score   support\n",
            "\n",
            "           0       0.89      0.93      0.91       369\n",
            "           1       0.93      0.89      0.91       371\n",
            "\n",
            "    accuracy                           0.91       740\n",
            "   macro avg       0.91      0.91      0.91       740\n",
            "weighted avg       0.91      0.91      0.91       740\n",
            "\n"
          ]
        },
        {
          "output_type": "display_data",
          "data": {
            "image/png": "[encoded data removed]",
            "text/plain": [
              "<Figure size 432x288 with 2 Axes>"
            ]
          },
          "metadata": {}
        }
      ]
    },
    {
      "cell_type": "markdown",
      "source": [
        "So, setting **C = 10** and **gamma = 0.1** gives us the best Support Vector Classifier of attrition, with an **accuracy of 91%**, using *GridSearchCV*"
      ],
      "metadata": {
        "id": "uE5u33Kvst9S"
      }
    },
    {
      "cell_type": "markdown",
      "source": [
        "### Random Search Metrics"
      ],
      "metadata": {
        "id": "_iV3OgRys6cg"
      }
    },
    {
      "cell_type": "code",
      "source": [
        "# Defining the parameter grid and initializing RandomizedSearch\n",
        "param_grid = {\"C\": [x for x in range(11, 100, 10)],\n",
        "              \"gamma\": [x/10 for x in range(1, 11)]}\n",
        "rand_cv = RandomizedSearchCV(SVC(), param_grid, verbose=0)\n",
        "rand_cv.fit(X_train, Y_train)"
      ],
      "metadata": {
        "colab": {
          "base_uri": "https://localhost:8080/"
        },
        "id": "vAFmTwRatcWj",
        "outputId": "aca1faaa-8b82-429f-9800-7557ef95689d"
      },
      "execution_count": null,
      "outputs": [
        {
          "output_type": "execute_result",
          "data": {
            "text/plain": [
              "RandomizedSearchCV(estimator=SVC(),\n",
              "                   param_distributions={'C': [11, 21, 31, 41, 51, 61, 71, 81,\n",
              "                                              91],\n",
              "                                        'gamma': [0.1, 0.2, 0.3, 0.4, 0.5, 0.6,\n",
              "                                                  0.7, 0.8, 0.9, 1.0]})"
            ]
          },
          "metadata": {},
          "execution_count": 26
        }
      ]
    },
    {
      "cell_type": "code",
      "source": [
        "# What is the best estimator?\n",
        "print(rand_cv.best_estimator_)"
      ],
      "metadata": {
        "colab": {
          "base_uri": "https://localhost:8080/"
        },
        "id": "2PMKPH_btl6u",
        "outputId": "6156ee9e-a3ac-4790-bfb6-aba00df27f8f"
      },
      "execution_count": null,
      "outputs": [
        {
          "output_type": "stream",
          "name": "stdout",
          "text": [
            "SVC(C=71, gamma=0.1)\n"
          ]
        }
      ]
    },
    {
      "cell_type": "code",
      "source": [
        "# Visualizing the metrics of this model\n",
        "rand_pred = rand_cv.predict(X_test)\n",
        "print(classification_report(Y_test, rand_pred))\n",
        "cm_rand = confusion_matrix(Y_test, rand_pred)\n",
        "disp_rand_cm = ConfusionMatrixDisplay(confusion_matrix=cm_rand)\n",
        "disp_rand_cm.plot()"
      ],
      "metadata": {
        "colab": {
          "base_uri": "https://localhost:8080/",
          "height": 463
        },
        "id": "o74k6bjDtoSg",
        "outputId": "c3ca5055-0e94-4669-8b39-cf9c288ea979"
      },
      "execution_count": null,
      "outputs": [
        {
          "output_type": "stream",
          "name": "stdout",
          "text": [
            "              precision    recall  f1-score   support\n",
            "\n",
            "           0       0.89      0.93      0.91       369\n",
            "           1       0.93      0.89      0.91       371\n",
            "\n",
            "    accuracy                           0.91       740\n",
            "   macro avg       0.91      0.91      0.91       740\n",
            "weighted avg       0.91      0.91      0.91       740\n",
            "\n"
          ]
        },
        {
          "output_type": "execute_result",
          "data": {
            "text/plain": [
              "<sklearn.metrics._plot.confusion_matrix.ConfusionMatrixDisplay at 0x7fc696ec4250>"
            ]
          },
          "metadata": {},
          "execution_count": 28
        },
        {
          "output_type": "display_data",
          "data": {
            "image/png": "[encoded data removed]",
            "text/plain": [
              "<Figure size 432x288 with 2 Axes>"
            ]
          },
          "metadata": {}
        }
      ]
    },
    {
      "cell_type": "markdown",
      "source": [
        "So, it turns out using *randomized search* over the range of optimal values from *GridSearchCV* **does not** give us a better accuracy than 91%. Grid Search is more than enough for us."
      ],
      "metadata": {
        "id": "n-h4HrW5t_qe"
      }
    },
    {
      "cell_type": "markdown",
      "source": [
        "## Final Model Metrics"
      ],
      "metadata": {
        "id": "zYwEvJ9DuPjs"
      }
    },
    {
      "cell_type": "markdown",
      "source": [
        "After weeks of research, we have determined the best Support Vector Classifier of attrition to be one that is: <br> *Scaled, excluding 4 features, with C = 10 and Gamma = 0.1* using the default non-linear kernel. <br> Now, we will reveal the model metrics of our final model"
      ],
      "metadata": {
        "id": "ZehRqd35vOhE"
      }
    },
    {
      "cell_type": "markdown",
      "source": [
        "### Accuracy, Precision, Recall, F1 Score"
      ],
      "metadata": {
        "id": "_E7Tp9QzyzOu"
      }
    },
    {
      "cell_type": "code",
      "source": [
        "# Working with the scaled data sets\n",
        "X = pd.DataFrame(data_scale)\n",
        "Y = pd.DataFrame(data[\"attrition\"])\n",
        "Y = np.ravel(Y)"
      ],
      "metadata": {
        "id": "ncB1s6bMudRW"
      },
      "execution_count": null,
      "outputs": []
    },
    {
      "cell_type": "code",
      "source": [
        "# Initializing KFolds and Classifier\n",
        "kfold = KFold(n_splits=5, random_state=42, shuffle=True)\n",
        "clf = SVC(C=10, gamma=0.1, kernel='rbf')"
      ],
      "metadata": {
        "id": "HhW7768UvNcW"
      },
      "execution_count": null,
      "outputs": []
    },
    {
      "cell_type": "code",
      "source": [
        "# Computing metrics upon each fold for 5 folds\n",
        "# Storing metrics in respective lists\n",
        "\n",
        "clf_accuracies = []\n",
        "clf_precisions = []\n",
        "clf_recall = []\n",
        "clf_f1_score = []\n",
        "\n",
        "for train_index, test_index in kfold.split(X):\n",
        "      X_train, X_test = X.iloc[train_index], X.iloc[test_index] \n",
        "      y_train, y_test = Y[train_index], Y[test_index]\n",
        "      clf.fit(X_train, y_train)\n",
        "      y_pred_clf = clf.predict(X_test)\n",
        "\n",
        "      # evaluate predictions\n",
        "      accuracy_clf = round(accuracy_score(y_test, y_pred_clf), 4) \n",
        "      clf_accuracies.append(round(accuracy_clf, 4))\n",
        "\n",
        "      precision = precision_score(y_test, y_pred_clf)\n",
        "      clf_precisions.append(round(precision,4))\n",
        "\n",
        "      recall = recall_score(y_test, y_pred_clf)\n",
        "      clf_recall.append(round(recall,4))\n",
        "\n",
        "      f1 = f1_score(y_test, y_pred_clf)\n",
        "      clf_f1_score.append(round(f1,4))\n",
        "\n",
        "      \n",
        "print(\"Accuracies:\" , clf_accuracies )\n",
        "print(\"Precisions:\" , clf_precisions)\n",
        "print(\"Recalls:\", clf_recall)\n",
        "print(\"F1_scores:\" , clf_f1_score)"
      ],
      "metadata": {
        "colab": {
          "base_uri": "https://localhost:8080/"
        },
        "id": "UFW59Hr6w5jD",
        "outputId": "0404bb3e-6081-4e0d-eb55-ba184a979e8b"
      },
      "execution_count": null,
      "outputs": [
        {
          "output_type": "stream",
          "name": "stdout",
          "text": [
            "Accuracies: [0.9089, 0.931, 0.9128, 0.9249, 0.9087]\n",
            "Precisions: [0.927, 0.9244, 0.938, 0.9061, 0.9323]\n",
            "Recalls: [0.8852, 0.9322, 0.8902, 0.9407, 0.8931]\n",
            "F1_scores: [0.9057, 0.9283, 0.9135, 0.9231, 0.9123]\n"
          ]
        }
      ]
    },
    {
      "cell_type": "code",
      "source": [
        "print(\"Accuracy: %.2f%%\" % (np.mean(clf_accuracies)*100))\n",
        "print(\"Precisions: %.2f%%\" % (np.mean(clf_precisions)*100))\n",
        "print(\"Recall: %.2f%%\" % (np.mean(clf_recall)*100))\n",
        "print(\"f1_score: %.2f%%\" % (np.mean(clf_f1_score)*100))"
      ],
      "metadata": {
        "colab": {
          "base_uri": "https://localhost:8080/"
        },
        "id": "iOGJRiiUxV_p",
        "outputId": "5c743cba-0889-474a-b56d-ae50651dc8be"
      },
      "execution_count": null,
      "outputs": [
        {
          "output_type": "stream",
          "name": "stdout",
          "text": [
            "Accuracy: 91.73%\n",
            "Precisions: 92.56%\n",
            "Recall: 90.83%\n",
            "f1_score: 91.66%\n"
          ]
        }
      ]
    },
    {
      "cell_type": "markdown",
      "source": [
        "It seems that are model is very precise and accurate, and doesn't misclassify new observations. This is a good indication that our model is not overfitting and does well with new observations. Now let's take a look at the AUC Score"
      ],
      "metadata": {
        "id": "wl2YW5guxySE"
      }
    },
    {
      "cell_type": "markdown",
      "source": [
        "### Reciever Operating Characteristic (ROC) Curve"
      ],
      "metadata": {
        "id": "aBEeeXt7yVp2"
      }
    },
    {
      "cell_type": "code",
      "source": [
        "auc = roc_auc_score(y_test, y_pred_clf)\n",
        "print('AUC - Test Set: %.2f%%' % (auc*100))\n",
        "\n",
        "# calculate roc curve\n",
        "fpr, tpr, thresholds = roc_curve(y_test, y_pred_clf)\n",
        "\n",
        "plt.plot([0, 1], [0, 1], linestyle='--')\n",
        "\n",
        "# plot the roc curve for the model\n",
        "plt.plot(fpr, tpr, marker='.')\n",
        "plt.xlabel('False positive rate')\n",
        "plt.ylabel('Sensitivity/ Recall')\n",
        "# show the plot\n",
        "plt.show()\n"
      ],
      "metadata": {
        "colab": {
          "base_uri": "https://localhost:8080/",
          "height": 306
        },
        "id": "tqHvMtmryFIn",
        "outputId": "75e3a93b-ec6c-4c4f-e11d-28b44b8ac6b7"
      },
      "execution_count": null,
      "outputs": [
        {
          "output_type": "stream",
          "name": "stdout",
          "text": [
            "AUC - Test Set: 90.98%\n"
          ]
        },
        {
          "output_type": "display_data",
          "data": {
            "image/png": "[encoded data removed]",
            "text/plain": [
              "<Figure size 432x288 with 1 Axes>"
            ]
          },
          "metadata": {}
        }
      ]
    },
    {
      "cell_type": "markdown",
      "source": [
        "Amazing! Our model is an amazing classifier for attrition with an **AUC of 90.98%**"
      ],
      "metadata": {
        "id": "kvHLJuW5yir_"
      }
    },
    {
      "cell_type": "markdown",
      "source": [
        "## Conclusion"
      ],
      "metadata": {
        "id": "ufC0IwMnzKVu"
      }
    },
    {
      "cell_type": "markdown",
      "source": [
        "So, the best Support Vector Classifier has an accuracy of **91%**, with parameters **C = 10, Gamma = 0.1**, under *scaled data* and the default non-linear kernel. The model has similar precision and recall, which means our model generalizes well with new observations."
      ],
      "metadata": {
        "id": "7gk-bLPtzPhQ"
      }
    }
  ]
}