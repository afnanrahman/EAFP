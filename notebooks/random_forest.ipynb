{
  "nbformat": 4,
  "nbformat_minor": 0,
  "metadata": {
    "colab": {
      "name": "random_forest.ipynb",
      "provenance": []
    },
    "kernelspec": {
      "name": "python3",
      "display_name": "Python 3"
    },
    "language_info": {
      "name": "python"
    }
  },
  "cells": [
    {
      "cell_type": "markdown",
      "source": [
        "### Random Forest\n",
        "#### Afnan Rahman\n"
      ],
      "metadata": {
        "id": "9At6Pgn9uEms"
      }
    },
    {
      "cell_type": "markdown",
      "source": [
        "### Importing packages and data"
      ],
      "metadata": {
        "id": "xPSWfvmC4oWE"
      }
    },
    {
      "cell_type": "code",
      "source": [
        "#!pip install boruta"
      ],
      "metadata": {
        "colab": {
          "base_uri": "https://localhost:8080/"
        },
        "id": "1ZaF2HyU_IpC",
        "outputId": "1cdd0e97-7065-468f-b059-00eae3a3cc15"
      },
      "execution_count": 14,
      "outputs": [
        {
          "output_type": "stream",
          "name": "stdout",
          "text": [
            "Collecting boruta\n",
            "  Downloading Boruta-0.3-py3-none-any.whl (56 kB)\n",
            "\u001b[?25l\r\u001b[K     |█████▉                          | 10 kB 16.7 MB/s eta 0:00:01\r\u001b[K     |███████████▋                    | 20 kB 18.6 MB/s eta 0:00:01\r\u001b[K     |█████████████████▍              | 30 kB 21.1 MB/s eta 0:00:01\r\u001b[K     |███████████████████████▏        | 40 kB 22.5 MB/s eta 0:00:01\r\u001b[K     |█████████████████████████████   | 51 kB 23.8 MB/s eta 0:00:01\r\u001b[K     |████████████████████████████████| 56 kB 3.8 MB/s \n",
            "\u001b[?25hRequirement already satisfied: scipy>=0.17.0 in /usr/local/lib/python3.7/dist-packages (from boruta) (1.4.1)\n",
            "Requirement already satisfied: numpy>=1.10.4 in /usr/local/lib/python3.7/dist-packages (from boruta) (1.21.5)\n",
            "Requirement already satisfied: scikit-learn>=0.17.1 in /usr/local/lib/python3.7/dist-packages (from boruta) (1.0.2)\n",
            "Requirement already satisfied: threadpoolctl>=2.0.0 in /usr/local/lib/python3.7/dist-packages (from scikit-learn>=0.17.1->boruta) (3.1.0)\n",
            "Requirement already satisfied: joblib>=0.11 in /usr/local/lib/python3.7/dist-packages (from scikit-learn>=0.17.1->boruta) (1.1.0)\n",
            "Installing collected packages: boruta\n",
            "Successfully installed boruta-0.3\n"
          ]
        }
      ]
    },
    {
      "cell_type": "code",
      "execution_count": 16,
      "metadata": {
        "id": "wLGyGGV14sS1"
      },
      "outputs": [],
      "source": [
        "import numpy as np\n",
        "import pandas as pd\n",
        "import matplotlib.pyplot as plt\n",
        "from sklearn.ensemble import RandomForestClassifier\n",
        "from sklearn.model_selection import train_test_split\n",
        "from sklearn.metrics import accuracy_score\n",
        "from boruta import BorutaPy\n",
        "from sklearn.model_selection import RandomizedSearchCV, GridSearchCV, KFold, cross_val_score\n",
        "from sklearn.metrics import precision_recall_fscore_support as score, precision_score, recall_score, f1_score\n",
        "from sklearn.metrics import roc_auc_score, roc_curve, confusion_matrix"
      ]
    },
    {
      "cell_type": "code",
      "source": [
        "data = pd.read_csv(\"https://raw.githubusercontent.com/afnanrahman/EAFP/main/data/clean_smote_data.csv\")"
      ],
      "metadata": {
        "id": "wZcJnBGV62Nt"
      },
      "execution_count": 2,
      "outputs": []
    },
    {
      "cell_type": "markdown",
      "source": [
        "### Base Model"
      ],
      "metadata": {
        "id": "nRyCzGp1uq4j"
      }
    },
    {
      "cell_type": "code",
      "source": [
        "X= data.drop('attrition', axis = 1)\n",
        "Y = data['attrition']\n",
        "\n",
        "X_train, X_test, y_train, y_test = train_test_split(X, Y, test_size=0.3, random_state=42)"
      ],
      "metadata": {
        "id": "gel2cLIImjOJ"
      },
      "execution_count": 3,
      "outputs": []
    },
    {
      "cell_type": "code",
      "source": [
        "X"
      ],
      "metadata": {
        "colab": {
          "base_uri": "https://localhost:8080/",
          "height": 488
        },
        "id": "kLPozI3HmsoS",
        "outputId": "72d58ca5-a4c0-491a-e9c0-c60e06020d55"
      },
      "execution_count": 4,
      "outputs": [
        {
          "output_type": "execute_result",
          "data": {
            "text/html": [
              "\n",
              "  <div id=\"df-388668c4-3cc5-4588-ad5f-0834001be8c4\">\n",
              "    <div class=\"colab-df-container\">\n",
              "      <div>\n",
              "<style scoped>\n",
              "    .dataframe tbody tr th:only-of-type {\n",
              "        vertical-align: middle;\n",
              "    }\n",
              "\n",
              "    .dataframe tbody tr th {\n",
              "        vertical-align: top;\n",
              "    }\n",
              "\n",
              "    .dataframe thead th {\n",
              "        text-align: right;\n",
              "    }\n",
              "</style>\n",
              "<table border=\"1\" class=\"dataframe\">\n",
              "  <thead>\n",
              "    <tr style=\"text-align: right;\">\n",
              "      <th></th>\n",
              "      <th>age</th>\n",
              "      <th>business_travel</th>\n",
              "      <th>daily_rate</th>\n",
              "      <th>department</th>\n",
              "      <th>distance_from_home</th>\n",
              "      <th>education</th>\n",
              "      <th>education_field</th>\n",
              "      <th>employee_number</th>\n",
              "      <th>environment_satisfaction</th>\n",
              "      <th>gender</th>\n",
              "      <th>hourly_rate</th>\n",
              "      <th>job_involvement</th>\n",
              "      <th>job_level</th>\n",
              "      <th>job_role</th>\n",
              "      <th>job_satisfaction</th>\n",
              "      <th>marital_status</th>\n",
              "      <th>monthly_rate</th>\n",
              "      <th>num_companies_worked</th>\n",
              "      <th>over_time</th>\n",
              "      <th>percent_salary_hike</th>\n",
              "      <th>performance_rating</th>\n",
              "      <th>relationship_satisfaction</th>\n",
              "      <th>stock_option_level</th>\n",
              "      <th>total_working_years</th>\n",
              "      <th>training_times_last_year</th>\n",
              "      <th>work_life_balance</th>\n",
              "      <th>years_at_company</th>\n",
              "      <th>years_in_current_role</th>\n",
              "      <th>years_with_curr_manager</th>\n",
              "      <th>rate_avg</th>\n",
              "    </tr>\n",
              "  </thead>\n",
              "  <tbody>\n",
              "    <tr>\n",
              "      <th>0</th>\n",
              "      <td>41</td>\n",
              "      <td>2</td>\n",
              "      <td>1102</td>\n",
              "      <td>2</td>\n",
              "      <td>1</td>\n",
              "      <td>2</td>\n",
              "      <td>1</td>\n",
              "      <td>1</td>\n",
              "      <td>2</td>\n",
              "      <td>0</td>\n",
              "      <td>94</td>\n",
              "      <td>3</td>\n",
              "      <td>2</td>\n",
              "      <td>7</td>\n",
              "      <td>4</td>\n",
              "      <td>2</td>\n",
              "      <td>19479</td>\n",
              "      <td>8</td>\n",
              "      <td>1</td>\n",
              "      <td>11</td>\n",
              "      <td>3</td>\n",
              "      <td>1</td>\n",
              "      <td>0</td>\n",
              "      <td>8</td>\n",
              "      <td>0</td>\n",
              "      <td>1</td>\n",
              "      <td>6</td>\n",
              "      <td>4</td>\n",
              "      <td>5</td>\n",
              "      <td>6891.67</td>\n",
              "    </tr>\n",
              "    <tr>\n",
              "      <th>1</th>\n",
              "      <td>49</td>\n",
              "      <td>1</td>\n",
              "      <td>279</td>\n",
              "      <td>1</td>\n",
              "      <td>8</td>\n",
              "      <td>1</td>\n",
              "      <td>1</td>\n",
              "      <td>2</td>\n",
              "      <td>3</td>\n",
              "      <td>1</td>\n",
              "      <td>61</td>\n",
              "      <td>2</td>\n",
              "      <td>2</td>\n",
              "      <td>6</td>\n",
              "      <td>2</td>\n",
              "      <td>1</td>\n",
              "      <td>24907</td>\n",
              "      <td>1</td>\n",
              "      <td>0</td>\n",
              "      <td>23</td>\n",
              "      <td>4</td>\n",
              "      <td>4</td>\n",
              "      <td>1</td>\n",
              "      <td>10</td>\n",
              "      <td>3</td>\n",
              "      <td>3</td>\n",
              "      <td>10</td>\n",
              "      <td>7</td>\n",
              "      <td>7</td>\n",
              "      <td>8415.67</td>\n",
              "    </tr>\n",
              "    <tr>\n",
              "      <th>2</th>\n",
              "      <td>37</td>\n",
              "      <td>2</td>\n",
              "      <td>1373</td>\n",
              "      <td>1</td>\n",
              "      <td>2</td>\n",
              "      <td>2</td>\n",
              "      <td>4</td>\n",
              "      <td>4</td>\n",
              "      <td>4</td>\n",
              "      <td>1</td>\n",
              "      <td>92</td>\n",
              "      <td>2</td>\n",
              "      <td>1</td>\n",
              "      <td>2</td>\n",
              "      <td>3</td>\n",
              "      <td>2</td>\n",
              "      <td>2396</td>\n",
              "      <td>6</td>\n",
              "      <td>1</td>\n",
              "      <td>15</td>\n",
              "      <td>3</td>\n",
              "      <td>2</td>\n",
              "      <td>0</td>\n",
              "      <td>7</td>\n",
              "      <td>3</td>\n",
              "      <td>3</td>\n",
              "      <td>0</td>\n",
              "      <td>0</td>\n",
              "      <td>0</td>\n",
              "      <td>1287.00</td>\n",
              "    </tr>\n",
              "    <tr>\n",
              "      <th>3</th>\n",
              "      <td>33</td>\n",
              "      <td>1</td>\n",
              "      <td>1392</td>\n",
              "      <td>1</td>\n",
              "      <td>3</td>\n",
              "      <td>4</td>\n",
              "      <td>1</td>\n",
              "      <td>5</td>\n",
              "      <td>4</td>\n",
              "      <td>0</td>\n",
              "      <td>56</td>\n",
              "      <td>3</td>\n",
              "      <td>1</td>\n",
              "      <td>6</td>\n",
              "      <td>3</td>\n",
              "      <td>1</td>\n",
              "      <td>23159</td>\n",
              "      <td>1</td>\n",
              "      <td>1</td>\n",
              "      <td>11</td>\n",
              "      <td>3</td>\n",
              "      <td>3</td>\n",
              "      <td>0</td>\n",
              "      <td>8</td>\n",
              "      <td>3</td>\n",
              "      <td>3</td>\n",
              "      <td>8</td>\n",
              "      <td>7</td>\n",
              "      <td>0</td>\n",
              "      <td>8202.33</td>\n",
              "    </tr>\n",
              "    <tr>\n",
              "      <th>4</th>\n",
              "      <td>27</td>\n",
              "      <td>2</td>\n",
              "      <td>591</td>\n",
              "      <td>1</td>\n",
              "      <td>2</td>\n",
              "      <td>1</td>\n",
              "      <td>3</td>\n",
              "      <td>7</td>\n",
              "      <td>1</td>\n",
              "      <td>1</td>\n",
              "      <td>40</td>\n",
              "      <td>3</td>\n",
              "      <td>1</td>\n",
              "      <td>2</td>\n",
              "      <td>2</td>\n",
              "      <td>1</td>\n",
              "      <td>16632</td>\n",
              "      <td>9</td>\n",
              "      <td>0</td>\n",
              "      <td>12</td>\n",
              "      <td>3</td>\n",
              "      <td>4</td>\n",
              "      <td>1</td>\n",
              "      <td>6</td>\n",
              "      <td>3</td>\n",
              "      <td>3</td>\n",
              "      <td>2</td>\n",
              "      <td>2</td>\n",
              "      <td>2</td>\n",
              "      <td>5754.33</td>\n",
              "    </tr>\n",
              "    <tr>\n",
              "      <th>...</th>\n",
              "      <td>...</td>\n",
              "      <td>...</td>\n",
              "      <td>...</td>\n",
              "      <td>...</td>\n",
              "      <td>...</td>\n",
              "      <td>...</td>\n",
              "      <td>...</td>\n",
              "      <td>...</td>\n",
              "      <td>...</td>\n",
              "      <td>...</td>\n",
              "      <td>...</td>\n",
              "      <td>...</td>\n",
              "      <td>...</td>\n",
              "      <td>...</td>\n",
              "      <td>...</td>\n",
              "      <td>...</td>\n",
              "      <td>...</td>\n",
              "      <td>...</td>\n",
              "      <td>...</td>\n",
              "      <td>...</td>\n",
              "      <td>...</td>\n",
              "      <td>...</td>\n",
              "      <td>...</td>\n",
              "      <td>...</td>\n",
              "      <td>...</td>\n",
              "      <td>...</td>\n",
              "      <td>...</td>\n",
              "      <td>...</td>\n",
              "      <td>...</td>\n",
              "      <td>...</td>\n",
              "    </tr>\n",
              "    <tr>\n",
              "      <th>2461</th>\n",
              "      <td>39</td>\n",
              "      <td>2</td>\n",
              "      <td>1053</td>\n",
              "      <td>1</td>\n",
              "      <td>7</td>\n",
              "      <td>2</td>\n",
              "      <td>2</td>\n",
              "      <td>1160</td>\n",
              "      <td>1</td>\n",
              "      <td>0</td>\n",
              "      <td>72</td>\n",
              "      <td>1</td>\n",
              "      <td>1</td>\n",
              "      <td>0</td>\n",
              "      <td>1</td>\n",
              "      <td>1</td>\n",
              "      <td>14504</td>\n",
              "      <td>4</td>\n",
              "      <td>0</td>\n",
              "      <td>13</td>\n",
              "      <td>3</td>\n",
              "      <td>1</td>\n",
              "      <td>0</td>\n",
              "      <td>12</td>\n",
              "      <td>2</td>\n",
              "      <td>2</td>\n",
              "      <td>1</td>\n",
              "      <td>0</td>\n",
              "      <td>0</td>\n",
              "      <td>5209.67</td>\n",
              "    </tr>\n",
              "    <tr>\n",
              "      <th>2462</th>\n",
              "      <td>32</td>\n",
              "      <td>0</td>\n",
              "      <td>453</td>\n",
              "      <td>1</td>\n",
              "      <td>11</td>\n",
              "      <td>2</td>\n",
              "      <td>3</td>\n",
              "      <td>998</td>\n",
              "      <td>3</td>\n",
              "      <td>1</td>\n",
              "      <td>43</td>\n",
              "      <td>2</td>\n",
              "      <td>1</td>\n",
              "      <td>4</td>\n",
              "      <td>1</td>\n",
              "      <td>1</td>\n",
              "      <td>10219</td>\n",
              "      <td>0</td>\n",
              "      <td>1</td>\n",
              "      <td>22</td>\n",
              "      <td>4</td>\n",
              "      <td>2</td>\n",
              "      <td>0</td>\n",
              "      <td>4</td>\n",
              "      <td>0</td>\n",
              "      <td>2</td>\n",
              "      <td>3</td>\n",
              "      <td>2</td>\n",
              "      <td>2</td>\n",
              "      <td>3571.67</td>\n",
              "    </tr>\n",
              "    <tr>\n",
              "      <th>2463</th>\n",
              "      <td>34</td>\n",
              "      <td>2</td>\n",
              "      <td>489</td>\n",
              "      <td>1</td>\n",
              "      <td>7</td>\n",
              "      <td>3</td>\n",
              "      <td>2</td>\n",
              "      <td>1729</td>\n",
              "      <td>3</td>\n",
              "      <td>1</td>\n",
              "      <td>59</td>\n",
              "      <td>2</td>\n",
              "      <td>2</td>\n",
              "      <td>4</td>\n",
              "      <td>1</td>\n",
              "      <td>1</td>\n",
              "      <td>5098</td>\n",
              "      <td>1</td>\n",
              "      <td>0</td>\n",
              "      <td>13</td>\n",
              "      <td>3</td>\n",
              "      <td>2</td>\n",
              "      <td>0</td>\n",
              "      <td>10</td>\n",
              "      <td>4</td>\n",
              "      <td>1</td>\n",
              "      <td>10</td>\n",
              "      <td>4</td>\n",
              "      <td>7</td>\n",
              "      <td>1882.00</td>\n",
              "    </tr>\n",
              "    <tr>\n",
              "      <th>2464</th>\n",
              "      <td>36</td>\n",
              "      <td>2</td>\n",
              "      <td>237</td>\n",
              "      <td>1</td>\n",
              "      <td>18</td>\n",
              "      <td>3</td>\n",
              "      <td>1</td>\n",
              "      <td>1080</td>\n",
              "      <td>1</td>\n",
              "      <td>0</td>\n",
              "      <td>49</td>\n",
              "      <td>2</td>\n",
              "      <td>1</td>\n",
              "      <td>5</td>\n",
              "      <td>2</td>\n",
              "      <td>1</td>\n",
              "      <td>11643</td>\n",
              "      <td>4</td>\n",
              "      <td>1</td>\n",
              "      <td>11</td>\n",
              "      <td>3</td>\n",
              "      <td>2</td>\n",
              "      <td>0</td>\n",
              "      <td>12</td>\n",
              "      <td>1</td>\n",
              "      <td>2</td>\n",
              "      <td>6</td>\n",
              "      <td>3</td>\n",
              "      <td>2</td>\n",
              "      <td>3976.33</td>\n",
              "    </tr>\n",
              "    <tr>\n",
              "      <th>2465</th>\n",
              "      <td>32</td>\n",
              "      <td>2</td>\n",
              "      <td>1324</td>\n",
              "      <td>1</td>\n",
              "      <td>15</td>\n",
              "      <td>2</td>\n",
              "      <td>4</td>\n",
              "      <td>158</td>\n",
              "      <td>2</td>\n",
              "      <td>1</td>\n",
              "      <td>58</td>\n",
              "      <td>3</td>\n",
              "      <td>1</td>\n",
              "      <td>1</td>\n",
              "      <td>2</td>\n",
              "      <td>1</td>\n",
              "      <td>11254</td>\n",
              "      <td>3</td>\n",
              "      <td>1</td>\n",
              "      <td>15</td>\n",
              "      <td>3</td>\n",
              "      <td>2</td>\n",
              "      <td>0</td>\n",
              "      <td>8</td>\n",
              "      <td>2</td>\n",
              "      <td>2</td>\n",
              "      <td>1</td>\n",
              "      <td>1</td>\n",
              "      <td>1</td>\n",
              "      <td>4212.00</td>\n",
              "    </tr>\n",
              "  </tbody>\n",
              "</table>\n",
              "<p>2466 rows × 30 columns</p>\n",
              "</div>\n",
              "      <button class=\"colab-df-convert\" onclick=\"convertToInteractive('df-388668c4-3cc5-4588-ad5f-0834001be8c4')\"\n",
              "              title=\"Convert this dataframe to an interactive table.\"\n",
              "              style=\"display:none;\">\n",
              "        \n",
              "  <svg xmlns=\"http://www.w3.org/2000/svg\" height=\"24px\"viewBox=\"0 0 24 24\"\n",
              "       width=\"24px\">\n",
              "    <path d=\"M0 0h24v24H0V0z\" fill=\"none\"/>\n",
              "    <path d=\"M18.56 5.44l.94 2.06.94-2.06 2.06-.94-2.06-.94-.94-2.06-.94 2.06-2.06.94zm-11 1L8.5 8.5l.94-2.06 2.06-.94-2.06-.94L8.5 2.5l-.94 2.06-2.06.94zm10 10l.94 2.06.94-2.06 2.06-.94-2.06-.94-.94-2.06-.94 2.06-2.06.94z\"/><path d=\"M17.41 7.96l-1.37-1.37c-.4-.4-.92-.59-1.43-.59-.52 0-1.04.2-1.43.59L10.3 9.45l-7.72 7.72c-.78.78-.78 2.05 0 2.83L4 21.41c.39.39.9.59 1.41.59.51 0 1.02-.2 1.41-.59l7.78-7.78 2.81-2.81c.8-.78.8-2.07 0-2.86zM5.41 20L4 18.59l7.72-7.72 1.47 1.35L5.41 20z\"/>\n",
              "  </svg>\n",
              "      </button>\n",
              "      \n",
              "  <style>\n",
              "    .colab-df-container {\n",
              "      display:flex;\n",
              "      flex-wrap:wrap;\n",
              "      gap: 12px;\n",
              "    }\n",
              "\n",
              "    .colab-df-convert {\n",
              "      background-color: #E8F0FE;\n",
              "      border: none;\n",
              "      border-radius: 50%;\n",
              "      cursor: pointer;\n",
              "      display: none;\n",
              "      fill: #1967D2;\n",
              "      height: 32px;\n",
              "      padding: 0 0 0 0;\n",
              "      width: 32px;\n",
              "    }\n",
              "\n",
              "    .colab-df-convert:hover {\n",
              "      background-color: #E2EBFA;\n",
              "      box-shadow: 0px 1px 2px rgba(60, 64, 67, 0.3), 0px 1px 3px 1px rgba(60, 64, 67, 0.15);\n",
              "      fill: #174EA6;\n",
              "    }\n",
              "\n",
              "    [theme=dark] .colab-df-convert {\n",
              "      background-color: #3B4455;\n",
              "      fill: #D2E3FC;\n",
              "    }\n",
              "\n",
              "    [theme=dark] .colab-df-convert:hover {\n",
              "      background-color: #434B5C;\n",
              "      box-shadow: 0px 1px 3px 1px rgba(0, 0, 0, 0.15);\n",
              "      filter: drop-shadow(0px 1px 2px rgba(0, 0, 0, 0.3));\n",
              "      fill: #FFFFFF;\n",
              "    }\n",
              "  </style>\n",
              "\n",
              "      <script>\n",
              "        const buttonEl =\n",
              "          document.querySelector('#df-388668c4-3cc5-4588-ad5f-0834001be8c4 button.colab-df-convert');\n",
              "        buttonEl.style.display =\n",
              "          google.colab.kernel.accessAllowed ? 'block' : 'none';\n",
              "\n",
              "        async function convertToInteractive(key) {\n",
              "          const element = document.querySelector('#df-388668c4-3cc5-4588-ad5f-0834001be8c4');\n",
              "          const dataTable =\n",
              "            await google.colab.kernel.invokeFunction('convertToInteractive',\n",
              "                                                     [key], {});\n",
              "          if (!dataTable) return;\n",
              "\n",
              "          const docLinkHtml = 'Like what you see? Visit the ' +\n",
              "            '<a target=\"_blank\" href=https://colab.research.google.com/notebooks/data_table.ipynb>data table notebook</a>'\n",
              "            + ' to learn more about interactive tables.';\n",
              "          element.innerHTML = '';\n",
              "          dataTable['output_type'] = 'display_data';\n",
              "          await google.colab.output.renderOutput(dataTable, element);\n",
              "          const docLink = document.createElement('div');\n",
              "          docLink.innerHTML = docLinkHtml;\n",
              "          element.appendChild(docLink);\n",
              "        }\n",
              "      </script>\n",
              "    </div>\n",
              "  </div>\n",
              "  "
            ],
            "text/plain": [
              "      age  business_travel  ...  years_with_curr_manager  rate_avg\n",
              "0      41                2  ...                        5   6891.67\n",
              "1      49                1  ...                        7   8415.67\n",
              "2      37                2  ...                        0   1287.00\n",
              "3      33                1  ...                        0   8202.33\n",
              "4      27                2  ...                        2   5754.33\n",
              "...   ...              ...  ...                      ...       ...\n",
              "2461   39                2  ...                        0   5209.67\n",
              "2462   32                0  ...                        2   3571.67\n",
              "2463   34                2  ...                        7   1882.00\n",
              "2464   36                2  ...                        2   3976.33\n",
              "2465   32                2  ...                        1   4212.00\n",
              "\n",
              "[2466 rows x 30 columns]"
            ]
          },
          "metadata": {},
          "execution_count": 4
        }
      ]
    },
    {
      "cell_type": "code",
      "source": [
        "model_rf = RandomForestClassifier()\n",
        "model_rf.fit(X_train, y_train)\n",
        "\n",
        "y_pred_rf = model_rf.predict(X_test)\n",
        "predictions_rf = [round(value) for value in y_pred_rf]\n",
        "\n",
        "accuracy_rf = accuracy_score(y_test, predictions_rf)\n",
        "print(round(accuracy_rf*100.0 , 2))"
      ],
      "metadata": {
        "colab": {
          "base_uri": "https://localhost:8080/"
        },
        "id": "EMGiCOwW697B",
        "outputId": "17304280-f217-4c68-b2cc-4680dba43564"
      },
      "execution_count": 6,
      "outputs": [
        {
          "output_type": "stream",
          "name": "stdout",
          "text": [
            "91.08\n"
          ]
        }
      ]
    },
    {
      "cell_type": "markdown",
      "source": [
        "### Manual Feature Selection"
      ],
      "metadata": {
        "id": "s0dFKK0Tu5m3"
      }
    },
    {
      "cell_type": "code",
      "source": [
        "cols = ['job_involvement', 'job_level', 'job_role', 'job_satisfaction', 'education_field', 'performance_rating', 'total_working_years']"
      ],
      "metadata": {
        "id": "jzu_eXZ2jW1U"
      },
      "execution_count": 7,
      "outputs": []
    },
    {
      "cell_type": "code",
      "metadata": {
        "id": "Uemp2RuJj2Zj"
      },
      "source": [
        "#not including target variable in X \n",
        "manual_X = data.drop('attrition', axis=1)[cols]\n",
        "manual_Y = data['attrition']"
      ],
      "execution_count": 8,
      "outputs": []
    },
    {
      "cell_type": "code",
      "metadata": {
        "id": "7pwg9l1fj2Zk"
      },
      "source": [
        "manual_X_train, manual_X_test, manual_Y_train, manual_Y_test = train_test_split(manual_X, manual_Y, test_size=0.3, random_state=42)"
      ],
      "execution_count": 9,
      "outputs": []
    },
    {
      "cell_type": "code",
      "metadata": {
        "colab": {
          "base_uri": "https://localhost:8080/"
        },
        "outputId": "3c6bf02a-a55e-4edc-d024-d711034270ab",
        "id": "QqMJNH71j2Zl"
      },
      "source": [
        "manual_xgb = RandomForestClassifier(random_state=42)\n",
        "manual_xgb.fit(manual_X_train, manual_Y_train)"
      ],
      "execution_count": 10,
      "outputs": [
        {
          "output_type": "execute_result",
          "data": {
            "text/plain": [
              "RandomForestClassifier(random_state=42)"
            ]
          },
          "metadata": {},
          "execution_count": 10
        }
      ]
    },
    {
      "cell_type": "code",
      "metadata": {
        "id": "iOcXbQkgj2Zm"
      },
      "source": [
        "manual_xgb_Y_pred = manual_xgb.predict(manual_X_test)"
      ],
      "execution_count": 11,
      "outputs": []
    },
    {
      "cell_type": "code",
      "metadata": {
        "colab": {
          "base_uri": "https://localhost:8080/"
        },
        "outputId": "4defb999-2005-4b44-ae78-3ac32f16f11d",
        "id": "OEotRwpFj2Zm"
      },
      "source": [
        "manual_xgb.score(manual_X_test, manual_Y_test)"
      ],
      "execution_count": 12,
      "outputs": [
        {
          "output_type": "execute_result",
          "data": {
            "text/plain": [
              "0.7851351351351351"
            ]
          },
          "metadata": {},
          "execution_count": 12
        }
      ]
    },
    {
      "cell_type": "markdown",
      "source": [
        "### Feature Selection"
      ],
      "metadata": {
        "id": "k6db2qmDvHQ2"
      }
    },
    {
      "cell_type": "markdown",
      "source": [
        "#### Boruta"
      ],
      "metadata": {
        "id": "sr_JAdcg_POK"
      }
    },
    {
      "cell_type": "code",
      "source": [
        "feat_selector = BorutaPy(model_rf, n_estimators='auto', verbose=2, random_state=42)"
      ],
      "metadata": {
        "id": "56zQlJdK_SS1"
      },
      "execution_count": null,
      "outputs": []
    },
    {
      "cell_type": "code",
      "metadata": {
        "id": "KgN6IMtiyNmz"
      },
      "source": [
        "X_boruta = X_train.values\n",
        "y_boruta = y_train.values"
      ],
      "execution_count": null,
      "outputs": []
    },
    {
      "cell_type": "code",
      "metadata": {
        "id": "IOMB05BYww9o"
      },
      "source": [
        "feat_selector.fit(X_boruta, y_boruta)"
      ],
      "execution_count": null,
      "outputs": []
    },
    {
      "cell_type": "code",
      "metadata": {
        "colab": {
          "base_uri": "https://localhost:8080/"
        },
        "id": "jtwq-66iznlG",
        "outputId": "2e303a89-1cf5-4684-e579-b8bf1b580433"
      },
      "source": [
        "feat_selector.support_"
      ],
      "execution_count": null,
      "outputs": [
        {
          "output_type": "execute_result",
          "data": {
            "text/plain": [
              "array([ True,  True,  True, False,  True,  True, False,  True,  True,\n",
              "       False,  True,  True,  True, False,  True, False,  True, False,\n",
              "       False, False, False,  True,  True,  True,  True,  True,  True,\n",
              "        True,  True,  True])"
            ]
          },
          "metadata": {},
          "execution_count": 13
        }
      ]
    },
    {
      "cell_type": "code",
      "metadata": {
        "colab": {
          "base_uri": "https://localhost:8080/"
        },
        "id": "UsdY227Rzqov",
        "outputId": "28412e02-6d7f-4894-ae91-4994cb349d28"
      },
      "source": [
        "feat_selector.ranking_"
      ],
      "execution_count": null,
      "outputs": [
        {
          "output_type": "execute_result",
          "data": {
            "text/plain": [
              "array([ 1,  1,  1, 10,  1,  1,  4,  1,  1,  6,  1,  1,  1,  3,  1,  6,  1,\n",
              "        5,  8,  2,  9,  1,  1,  1,  1,  1,  1,  1,  1,  1])"
            ]
          },
          "metadata": {},
          "execution_count": 14
        }
      ]
    },
    {
      "cell_type": "code",
      "metadata": {
        "id": "A2VGww5VzJLC"
      },
      "source": [
        "X_filtered = feat_selector.transform(X_boruta)"
      ],
      "execution_count": null,
      "outputs": []
    },
    {
      "cell_type": "code",
      "metadata": {
        "colab": {
          "base_uri": "https://localhost:8080/"
        },
        "id": "JqU6q8dJ7MeH",
        "outputId": "5eb1d2f0-93c8-46e9-bd8e-8b9fea999517"
      },
      "source": [
        "model_rf.fit(X_filtered, y_train)"
      ],
      "execution_count": null,
      "outputs": [
        {
          "output_type": "execute_result",
          "data": {
            "text/plain": [
              "RandomForestClassifier(n_estimators=64,\n",
              "                       random_state=RandomState(MT19937) at 0x7F1FBBD348D0)"
            ]
          },
          "metadata": {},
          "execution_count": 16
        }
      ]
    },
    {
      "cell_type": "code",
      "metadata": {
        "id": "6DKz7-dP7pkw"
      },
      "source": [
        "X_test_boruta = X_test.values \n",
        "X_test_flitered = feat_selector.transform(X_test_boruta)"
      ],
      "execution_count": null,
      "outputs": []
    },
    {
      "cell_type": "code",
      "metadata": {
        "colab": {
          "base_uri": "https://localhost:8080/"
        },
        "id": "u0B6v6bF7mPK",
        "outputId": "b8ee6354-4ad3-4eee-8147-444489e186e5"
      },
      "source": [
        "y_pred_rf = model_rf.predict(X_test_flitered)\n",
        "predictions_rf = [round(value) for value in y_pred_rf]\n",
        "\n",
        "accuracy_rf = accuracy_score(y_test, predictions_rf)\n",
        "print(round(accuracy_rf*100.0 , 2))"
      ],
      "execution_count": null,
      "outputs": [
        {
          "output_type": "stream",
          "name": "stdout",
          "text": [
            "90.54\n"
          ]
        }
      ]
    },
    {
      "cell_type": "markdown",
      "source": [
        "### Hyperparameter Tuning"
      ],
      "metadata": {
        "id": "zTQQXYRHwRS4"
      }
    },
    {
      "cell_type": "markdown",
      "source": [
        "#### Parameter dictionary used"
      ],
      "metadata": {
        "id": "s63-Qb8G_hBr"
      }
    },
    {
      "cell_type": "code",
      "source": [
        "param_grid = {'n_estimators': [int(x) for x in np.linspace(start = 10, stop = 80, num = 10)],\n",
        "               'max_features': ['auto', 'sqrt'],\n",
        "               'max_depth': [2,4],\n",
        "               'min_samples_split': [2, 5],\n",
        "               'min_samples_leaf': [1, 2]}"
      ],
      "metadata": {
        "id": "WNjWnq9-K-2R"
      },
      "execution_count": null,
      "outputs": []
    },
    {
      "cell_type": "markdown",
      "source": [
        "#### Grid Search"
      ],
      "metadata": {
        "id": "n6v5yG1T_cSr"
      }
    },
    {
      "cell_type": "code",
      "source": [
        "rf_best_model = GridSearchCV(estimator=model_rf, \n",
        "                   param_grid=param_grid,\n",
        "                   scoring='accuracy', \n",
        "                   verbose=3)\n",
        "rf_best_model.fit(X, y)"
      ],
      "metadata": {
        "id": "rtzkpR7u_saW"
      },
      "execution_count": null,
      "outputs": []
    },
    {
      "cell_type": "code",
      "source": [
        "rf_best_model.best_score_"
      ],
      "metadata": {
        "colab": {
          "base_uri": "https://localhost:8080/"
        },
        "id": "QYBJuSWQMBgu",
        "outputId": "f4b58a40-fecb-46f2-f591-76adbd54868b"
      },
      "execution_count": null,
      "outputs": [
        {
          "output_type": "execute_result",
          "data": {
            "text/plain": [
              "0.7531054191884767"
            ]
          },
          "metadata": {},
          "execution_count": 28
        }
      ]
    },
    {
      "cell_type": "markdown",
      "source": [
        "#### Random Search"
      ],
      "metadata": {
        "id": "0G8JSr0Y_whR"
      }
    },
    {
      "cell_type": "markdown",
      "source": [
        "#### using n_inter = 10 and cv = 5"
      ],
      "metadata": {
        "id": "vx20ShaWAH3v"
      }
    },
    {
      "cell_type": "code",
      "metadata": {
        "id": "2AY1oIfqzR8-",
        "colab": {
          "base_uri": "https://localhost:8080/"
        },
        "outputId": "da3526a7-cd1e-4309-98c6-99c117719030"
      },
      "source": [
        "random_search = RandomizedSearchCV(model_rf, param_distributions=param_grid, n_iter=10, scoring='accuracy', n_jobs=4, cv=5, verbose=3, random_state=42)\n",
        "random_search.fit(X,y)"
      ],
      "execution_count": null,
      "outputs": [
        {
          "output_type": "stream",
          "name": "stdout",
          "text": [
            "Fitting 5 folds for each of 10 candidates, totalling 50 fits\n"
          ]
        },
        {
          "output_type": "execute_result",
          "data": {
            "text/plain": [
              "RandomizedSearchCV(cv=5, estimator=RandomForestClassifier(random_state=0),\n",
              "                   n_jobs=4,\n",
              "                   param_distributions={'max_depth': [2, 4],\n",
              "                                        'max_features': ['auto', 'sqrt'],\n",
              "                                        'min_samples_leaf': [1, 2],\n",
              "                                        'min_samples_split': [2, 5],\n",
              "                                        'n_estimators': [10, 17, 25, 33, 41, 48,\n",
              "                                                         56, 64, 72, 80]},\n",
              "                   random_state=42, scoring='accuracy', verbose=3)"
            ]
          },
          "metadata": {},
          "execution_count": 7
        }
      ]
    },
    {
      "cell_type": "code",
      "metadata": {
        "colab": {
          "base_uri": "https://localhost:8080/"
        },
        "id": "jNH5Srl7crm4",
        "outputId": "2ed892c3-523f-4753-c7db-fe753f4c28df"
      },
      "source": [
        "random_search.best_score_"
      ],
      "execution_count": null,
      "outputs": [
        {
          "output_type": "execute_result",
          "data": {
            "text/plain": [
              "0.7603936897947787"
            ]
          },
          "metadata": {},
          "execution_count": 9
        }
      ]
    },
    {
      "cell_type": "markdown",
      "source": [
        "#### using n_inter = 20 and cv = 10"
      ],
      "metadata": {
        "id": "L0vpcbj3AQID"
      }
    },
    {
      "cell_type": "code",
      "source": [
        "random_search10 = RandomizedSearchCV(model_rf, param_distributions=param_grid, n_iter=20, scoring='accuracy', n_jobs=4, cv=10, verbose=3, random_state=42)\n",
        "random_search10.fit(X,y)"
      ],
      "metadata": {
        "colab": {
          "base_uri": "https://localhost:8080/"
        },
        "id": "Eat0t5Ge4iGx",
        "outputId": "c50c5329-103d-429b-a4ae-b35633f65b01"
      },
      "execution_count": null,
      "outputs": [
        {
          "output_type": "stream",
          "name": "stdout",
          "text": [
            "Fitting 10 folds for each of 20 candidates, totalling 200 fits\n"
          ]
        },
        {
          "output_type": "execute_result",
          "data": {
            "text/plain": [
              "RandomizedSearchCV(cv=10, estimator=RandomForestClassifier(random_state=0),\n",
              "                   n_iter=20, n_jobs=4,\n",
              "                   param_distributions={'max_depth': [2, 4],\n",
              "                                        'max_features': ['auto', 'sqrt'],\n",
              "                                        'min_samples_leaf': [1, 2],\n",
              "                                        'min_samples_split': [2, 5],\n",
              "                                        'n_estimators': [10, 17, 25, 33, 41, 48,\n",
              "                                                         56, 64, 72, 80]},\n",
              "                   random_state=42, scoring='accuracy', verbose=3)"
            ]
          },
          "metadata": {},
          "execution_count": 10
        }
      ]
    },
    {
      "cell_type": "code",
      "source": [
        "random_search10.best_score_"
      ],
      "metadata": {
        "colab": {
          "base_uri": "https://localhost:8080/"
        },
        "id": "LdQzgRGD6Qwp",
        "outputId": "41579ba2-064b-4e10-b54e-1e5e020b6b5d"
      },
      "execution_count": null,
      "outputs": [
        {
          "output_type": "execute_result",
          "data": {
            "text/plain": [
              "0.8305289490141865"
            ]
          },
          "metadata": {},
          "execution_count": 11
        }
      ]
    },
    {
      "cell_type": "markdown",
      "source": [
        "#### using n_inter = 50 and cv = 50"
      ],
      "metadata": {
        "id": "eQAHN7KiATM7"
      }
    },
    {
      "cell_type": "code",
      "source": [
        "random_search50 = RandomizedSearchCV(model_rf, param_distributions=param_grid, n_iter=50, scoring='accuracy', n_jobs=4, cv=50, verbose=3, random_state=42)\n",
        "random_search50.fit(X,y)"
      ],
      "metadata": {
        "colab": {
          "base_uri": "https://localhost:8080/"
        },
        "id": "rAv53dVl4pJ0",
        "outputId": "881dd356-8e4f-45e0-d17b-5a361c4bdc88"
      },
      "execution_count": null,
      "outputs": [
        {
          "output_type": "stream",
          "name": "stdout",
          "text": [
            "Fitting 50 folds for each of 50 candidates, totalling 2500 fits\n"
          ]
        },
        {
          "output_type": "execute_result",
          "data": {
            "text/plain": [
              "RandomizedSearchCV(cv=50, estimator=RandomForestClassifier(random_state=0),\n",
              "                   n_iter=50, n_jobs=4,\n",
              "                   param_distributions={'max_depth': [2, 4],\n",
              "                                        'max_features': ['auto', 'sqrt'],\n",
              "                                        'min_samples_leaf': [1, 2],\n",
              "                                        'min_samples_split': [2, 5],\n",
              "                                        'n_estimators': [10, 17, 25, 33, 41, 48,\n",
              "                                                         56, 64, 72, 80]},\n",
              "                   random_state=42, scoring='accuracy', verbose=3)"
            ]
          },
          "metadata": {},
          "execution_count": 21
        }
      ]
    },
    {
      "cell_type": "code",
      "source": [
        "random_search50.best_score_"
      ],
      "metadata": {
        "colab": {
          "base_uri": "https://localhost:8080/"
        },
        "id": "6L4EXhQD5xIy",
        "outputId": "4b972ea3-a8da-4494-caca-1e84eddf3b8f"
      },
      "execution_count": null,
      "outputs": [
        {
          "output_type": "execute_result",
          "data": {
            "text/plain": [
              "0.839330612244898"
            ]
          },
          "metadata": {},
          "execution_count": 22
        }
      ]
    },
    {
      "cell_type": "markdown",
      "source": [
        "### Model Metrics"
      ],
      "metadata": {
        "id": "xUeffBLPy7_0"
      }
    },
    {
      "cell_type": "code",
      "source": [
        "kfold = KFold(n_splits=5, random_state=42, shuffle=True)\n",
        "model = RandomForestClassifier(random_state=42)"
      ],
      "metadata": {
        "id": "WA4etrpsAp_D"
      },
      "execution_count": null,
      "outputs": []
    },
    {
      "cell_type": "code",
      "metadata": {
        "colab": {
          "base_uri": "https://localhost:8080/"
        },
        "id": "tH6XL1fgdFNU",
        "outputId": "28cf3fda-f966-49e3-ddd3-1e25124b833c"
      },
      "source": [
        "accuracies = []\n",
        "precisions = []\n",
        "recalls = []\n",
        "f1_scores = []\n",
        "\n",
        "\n",
        "for train_index, test_index in kfold.split(X):\n",
        "      X_train, X_test = X.iloc[train_index], X.iloc[test_index] \n",
        "      y_train, y_test = y[train_index], y[test_index]\n",
        "      model.fit(X_train, y_train)\n",
        "      y_pred = model.predict(X_test)\n",
        "\n",
        "      # evaluate predictions\n",
        "      accuracy = round(accuracy_score(y_test, y_pred), 4) \n",
        "      accuracies.append(round(accuracy, 4))\n",
        "\n",
        "      precision = precision_score(y_test, y_pred)\n",
        "      precisions.append(round(precision,4))\n",
        "\n",
        "      recall = recall_score(y_test, y_pred)\n",
        "      recalls.append(round(recall,4))\n",
        "\n",
        "      f1 = f1_score(y_test, y_pred)\n",
        "      f1_scores.append(round(f1,4))\n",
        "\n",
        "      \n",
        "print(\"Accuracies:\" , accuracies )\n",
        "print(\"Precisions:\" , precisions)\n",
        "print(\"Recalls:\", recalls)\n",
        "print(\"f1_scores:\" , f1_scores)"
      ],
      "execution_count": null,
      "outputs": [
        {
          "output_type": "stream",
          "name": "stdout",
          "text": [
            "Accuracies: [0.8988, 0.927, 0.9148, 0.9047, 0.8742]\n",
            "Precisions: [0.911, 0.9425, 0.9494, 0.8954, 0.8817]\n",
            "Recalls: [0.8811, 0.9025, 0.8824, 0.9068, 0.8817]\n",
            "f1_scores: [0.8958, 0.9221, 0.9146, 0.9011, 0.8817]\n"
          ]
        }
      ]
    },
    {
      "cell_type": "code",
      "metadata": {
        "colab": {
          "base_uri": "https://localhost:8080/"
        },
        "id": "emkJFjAFinyt",
        "outputId": "75761db2-8b0c-4e73-9262-11f0a6aa8b74"
      },
      "source": [
        "print(\"Accuracy: %.2f%%\" % (np.mean(accuracies)*100))\n",
        "print(\"Precisions: %.2f%%\" % (np.mean(precisions)*100))\n",
        "print(\"Recall: %.2f%%\" % (np.mean(recalls)*100))\n",
        "print(\"f1_score: %.2f%%\" % (np.mean(f1_scores)*100))"
      ],
      "execution_count": null,
      "outputs": [
        {
          "output_type": "stream",
          "name": "stdout",
          "text": [
            "Accuracy: 90.39%\n",
            "Precisions: 91.60%\n",
            "Recall: 89.09%\n",
            "f1_score: 90.31%\n"
          ]
        }
      ]
    },
    {
      "cell_type": "markdown",
      "metadata": {
        "id": "Q-39DMqNX6JS"
      },
      "source": [
        "The code below is adapted from: https://www.kdnuggets.com/2020/05/model-evaluation-metrics-machine-learning.html"
      ]
    },
    {
      "cell_type": "code",
      "metadata": {
        "colab": {
          "base_uri": "https://localhost:8080/"
        },
        "id": "sOxuhjwnAhAu",
        "outputId": "20fbdf3b-c3ad-4091-c421-d8e0c5731948"
      },
      "source": [
        "labels = ['No Attrition', 'Attrition']\n",
        "cm = confusion_matrix(y_test, y_pred)\n",
        "print(cm)"
      ],
      "execution_count": null,
      "outputs": [
        {
          "output_type": "stream",
          "name": "stdout",
          "text": [
            "[[201  30]\n",
            " [ 35 227]]\n"
          ]
        }
      ]
    },
    {
      "cell_type": "code",
      "metadata": {
        "colab": {
          "base_uri": "https://localhost:8080/",
          "height": 279
        },
        "id": "sM4mHtJaBBNH",
        "outputId": "292ac54d-1341-4ce7-c086-86de3b9e961f"
      },
      "source": [
        "fig = plt.figure()\n",
        "ax = fig.add_subplot(111)\n",
        "cax = ax.matshow(cm)\n",
        "ax.set_xticklabels([''] + labels)\n",
        "ax.set_yticklabels([''] + labels)\n",
        "plt.xlabel('Predicted Values')\n",
        "plt.ylabel('Actual Values')\n",
        "plt.show()"
      ],
      "execution_count": null,
      "outputs": [
        {
          "output_type": "display_data",
          "data": {
            "image/png": "[encoded data removed]",
            "text/plain": [
              "<Figure size 432x288 with 1 Axes>"
            ]
          },
          "metadata": {
            "needs_background": "light"
          }
        }
      ]
    },
    {
      "cell_type": "code",
      "metadata": {
        "colab": {
          "base_uri": "https://localhost:8080/",
          "height": 296
        },
        "id": "0KaFzu3wZr0H",
        "outputId": "562da2dc-8957-4686-f30c-748cf059d5ec"
      },
      "source": [
        "from sklearn.metrics import roc_auc_score, roc_curve\n",
        "\n",
        "auc = roc_auc_score(y_test, y_pred)\n",
        "print('AUC - Test Set: %.2f%%' % (auc*100))\n",
        "\n",
        "# calculate roc curve\n",
        "fpr, tpr, thresholds = roc_curve(y_test, y_pred)\n",
        "\n",
        "plt.plot([0, 1], [0, 1], linestyle='--')\n",
        "\n",
        "# plot the roc curve for the model\n",
        "plt.plot(fpr, tpr, marker='.')\n",
        "plt.xlabel('False positive rate')\n",
        "plt.ylabel('Sensitivity/ Recall')\n",
        "# show the plot\n",
        "plt.show()"
      ],
      "execution_count": null,
      "outputs": [
        {
          "output_type": "stream",
          "name": "stdout",
          "text": [
            "AUC - Test Set: 86.83%\n"
          ]
        },
        {
          "output_type": "display_data",
          "data": {
            "image/png": "[encoded data removed]",
            "text/plain": [
              "<Figure size 432x288 with 1 Axes>"
            ]
          },
          "metadata": {
            "needs_background": "light"
          }
        }
      ]
    }
  ]
}