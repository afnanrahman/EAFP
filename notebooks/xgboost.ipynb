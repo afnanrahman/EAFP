{
  "nbformat": 4,
  "nbformat_minor": 0,
  "metadata": {
    "colab": {
      "name": "xgboost.ipynb",
      "provenance": []
    },
    "kernelspec": {
      "name": "python3",
      "display_name": "Python 3"
    },
    "language_info": {
      "name": "python"
    }
  },
  "cells": [
    {
      "cell_type": "markdown",
      "source": [
        "### XGBoost\n",
        "#### Afnan Rahman\n",
        "\n",
        "XGBoost stands for e**X**treme **G**radient **B**oosting.\n",
        "\n",
        "It is a tree-like ensemble model containing multiple decision trees.\n",
        "\n",
        "We chose to use it for this project as the two research papers which we are referencing had the best results by using this type of model. We wanted to see if we could also get similar results in our reproduction efforts.\n"
      ],
      "metadata": {
        "id": "9At6Pgn9uEms"
      }
    },
    {
      "cell_type": "markdown",
      "source": [
        "### Importing packages and data"
      ],
      "metadata": {
        "id": "xPSWfvmC4oWE"
      }
    },
    {
      "cell_type": "code",
      "execution_count": 31,
      "metadata": {
        "id": "wLGyGGV14sS1"
      },
      "outputs": [],
      "source": [
        "import numpy as np\n",
        "import pandas as pd\n",
        "import matplotlib.pyplot as plt\n",
        "from xgboost import XGBClassifier\n",
        "from sklearn.model_selection import train_test_split, GridSearchCV, RandomizedSearchCV, KFold, cross_val_score\n",
        "from sklearn.metrics import accuracy_score\n",
        "from sklearn.metrics import confusion_matrix\n",
        "from sklearn.metrics import precision_recall_fscore_support as score, precision_score, recall_score, f1_score"
      ]
    },
    {
      "cell_type": "code",
      "execution_count": 2,
      "metadata": {
        "id": "BrBakoXRnu3j"
      },
      "outputs": [],
      "source": [
        "data = pd.read_csv(\"https://raw.githubusercontent.com/afnanrahman/EAFP/main/data/clean_smote_data.csv\")"
      ]
    },
    {
      "cell_type": "markdown",
      "source": [
        "### Base Model\n",
        "\n"
      ],
      "metadata": {
        "id": "nRyCzGp1uq4j"
      }
    },
    {
      "cell_type": "code",
      "source": [
        "X = data.drop('attrition', axis = 1)\n",
        "y = data['attrition']\n",
        "\n",
        "X_train, X_test, y_train, y_test = train_test_split(X, y, test_size=0.3, random_state=42)"
      ],
      "metadata": {
        "id": "EnRDwNeS3Lxv"
      },
      "execution_count": 25,
      "outputs": []
    },
    {
      "cell_type": "code",
      "source": [
        "X"
      ],
      "metadata": {
        "colab": {
          "base_uri": "https://localhost:8080/",
          "height": 488
        },
        "id": "L5R4eJ_H3Nr4",
        "outputId": "aee18dca-49d9-4dbb-f308-213712af0260"
      },
      "execution_count": 8,
      "outputs": [
        {
          "output_type": "execute_result",
          "data": {
            "text/html": [
              "\n",
              "  <div id=\"df-eed792fb-8b04-4973-a28e-d0f8bf2ef808\">\n",
              "    <div class=\"colab-df-container\">\n",
              "      <div>\n",
              "<style scoped>\n",
              "    .dataframe tbody tr th:only-of-type {\n",
              "        vertical-align: middle;\n",
              "    }\n",
              "\n",
              "    .dataframe tbody tr th {\n",
              "        vertical-align: top;\n",
              "    }\n",
              "\n",
              "    .dataframe thead th {\n",
              "        text-align: right;\n",
              "    }\n",
              "</style>\n",
              "<table border=\"1\" class=\"dataframe\">\n",
              "  <thead>\n",
              "    <tr style=\"text-align: right;\">\n",
              "      <th></th>\n",
              "      <th>age</th>\n",
              "      <th>business_travel</th>\n",
              "      <th>daily_rate</th>\n",
              "      <th>department</th>\n",
              "      <th>distance_from_home</th>\n",
              "      <th>education</th>\n",
              "      <th>education_field</th>\n",
              "      <th>employee_number</th>\n",
              "      <th>environment_satisfaction</th>\n",
              "      <th>gender</th>\n",
              "      <th>hourly_rate</th>\n",
              "      <th>job_involvement</th>\n",
              "      <th>job_level</th>\n",
              "      <th>job_role</th>\n",
              "      <th>job_satisfaction</th>\n",
              "      <th>marital_status</th>\n",
              "      <th>monthly_rate</th>\n",
              "      <th>num_companies_worked</th>\n",
              "      <th>over_time</th>\n",
              "      <th>percent_salary_hike</th>\n",
              "      <th>performance_rating</th>\n",
              "      <th>relationship_satisfaction</th>\n",
              "      <th>stock_option_level</th>\n",
              "      <th>total_working_years</th>\n",
              "      <th>training_times_last_year</th>\n",
              "      <th>work_life_balance</th>\n",
              "      <th>years_at_company</th>\n",
              "      <th>years_in_current_role</th>\n",
              "      <th>years_with_curr_manager</th>\n",
              "      <th>rate_avg</th>\n",
              "    </tr>\n",
              "  </thead>\n",
              "  <tbody>\n",
              "    <tr>\n",
              "      <th>0</th>\n",
              "      <td>41</td>\n",
              "      <td>2</td>\n",
              "      <td>1102</td>\n",
              "      <td>2</td>\n",
              "      <td>1</td>\n",
              "      <td>2</td>\n",
              "      <td>1</td>\n",
              "      <td>1</td>\n",
              "      <td>2</td>\n",
              "      <td>0</td>\n",
              "      <td>94</td>\n",
              "      <td>3</td>\n",
              "      <td>2</td>\n",
              "      <td>7</td>\n",
              "      <td>4</td>\n",
              "      <td>2</td>\n",
              "      <td>19479</td>\n",
              "      <td>8</td>\n",
              "      <td>1</td>\n",
              "      <td>11</td>\n",
              "      <td>3</td>\n",
              "      <td>1</td>\n",
              "      <td>0</td>\n",
              "      <td>8</td>\n",
              "      <td>0</td>\n",
              "      <td>1</td>\n",
              "      <td>6</td>\n",
              "      <td>4</td>\n",
              "      <td>5</td>\n",
              "      <td>6891.67</td>\n",
              "    </tr>\n",
              "    <tr>\n",
              "      <th>1</th>\n",
              "      <td>49</td>\n",
              "      <td>1</td>\n",
              "      <td>279</td>\n",
              "      <td>1</td>\n",
              "      <td>8</td>\n",
              "      <td>1</td>\n",
              "      <td>1</td>\n",
              "      <td>2</td>\n",
              "      <td>3</td>\n",
              "      <td>1</td>\n",
              "      <td>61</td>\n",
              "      <td>2</td>\n",
              "      <td>2</td>\n",
              "      <td>6</td>\n",
              "      <td>2</td>\n",
              "      <td>1</td>\n",
              "      <td>24907</td>\n",
              "      <td>1</td>\n",
              "      <td>0</td>\n",
              "      <td>23</td>\n",
              "      <td>4</td>\n",
              "      <td>4</td>\n",
              "      <td>1</td>\n",
              "      <td>10</td>\n",
              "      <td>3</td>\n",
              "      <td>3</td>\n",
              "      <td>10</td>\n",
              "      <td>7</td>\n",
              "      <td>7</td>\n",
              "      <td>8415.67</td>\n",
              "    </tr>\n",
              "    <tr>\n",
              "      <th>2</th>\n",
              "      <td>37</td>\n",
              "      <td>2</td>\n",
              "      <td>1373</td>\n",
              "      <td>1</td>\n",
              "      <td>2</td>\n",
              "      <td>2</td>\n",
              "      <td>4</td>\n",
              "      <td>4</td>\n",
              "      <td>4</td>\n",
              "      <td>1</td>\n",
              "      <td>92</td>\n",
              "      <td>2</td>\n",
              "      <td>1</td>\n",
              "      <td>2</td>\n",
              "      <td>3</td>\n",
              "      <td>2</td>\n",
              "      <td>2396</td>\n",
              "      <td>6</td>\n",
              "      <td>1</td>\n",
              "      <td>15</td>\n",
              "      <td>3</td>\n",
              "      <td>2</td>\n",
              "      <td>0</td>\n",
              "      <td>7</td>\n",
              "      <td>3</td>\n",
              "      <td>3</td>\n",
              "      <td>0</td>\n",
              "      <td>0</td>\n",
              "      <td>0</td>\n",
              "      <td>1287.00</td>\n",
              "    </tr>\n",
              "    <tr>\n",
              "      <th>3</th>\n",
              "      <td>33</td>\n",
              "      <td>1</td>\n",
              "      <td>1392</td>\n",
              "      <td>1</td>\n",
              "      <td>3</td>\n",
              "      <td>4</td>\n",
              "      <td>1</td>\n",
              "      <td>5</td>\n",
              "      <td>4</td>\n",
              "      <td>0</td>\n",
              "      <td>56</td>\n",
              "      <td>3</td>\n",
              "      <td>1</td>\n",
              "      <td>6</td>\n",
              "      <td>3</td>\n",
              "      <td>1</td>\n",
              "      <td>23159</td>\n",
              "      <td>1</td>\n",
              "      <td>1</td>\n",
              "      <td>11</td>\n",
              "      <td>3</td>\n",
              "      <td>3</td>\n",
              "      <td>0</td>\n",
              "      <td>8</td>\n",
              "      <td>3</td>\n",
              "      <td>3</td>\n",
              "      <td>8</td>\n",
              "      <td>7</td>\n",
              "      <td>0</td>\n",
              "      <td>8202.33</td>\n",
              "    </tr>\n",
              "    <tr>\n",
              "      <th>4</th>\n",
              "      <td>27</td>\n",
              "      <td>2</td>\n",
              "      <td>591</td>\n",
              "      <td>1</td>\n",
              "      <td>2</td>\n",
              "      <td>1</td>\n",
              "      <td>3</td>\n",
              "      <td>7</td>\n",
              "      <td>1</td>\n",
              "      <td>1</td>\n",
              "      <td>40</td>\n",
              "      <td>3</td>\n",
              "      <td>1</td>\n",
              "      <td>2</td>\n",
              "      <td>2</td>\n",
              "      <td>1</td>\n",
              "      <td>16632</td>\n",
              "      <td>9</td>\n",
              "      <td>0</td>\n",
              "      <td>12</td>\n",
              "      <td>3</td>\n",
              "      <td>4</td>\n",
              "      <td>1</td>\n",
              "      <td>6</td>\n",
              "      <td>3</td>\n",
              "      <td>3</td>\n",
              "      <td>2</td>\n",
              "      <td>2</td>\n",
              "      <td>2</td>\n",
              "      <td>5754.33</td>\n",
              "    </tr>\n",
              "    <tr>\n",
              "      <th>...</th>\n",
              "      <td>...</td>\n",
              "      <td>...</td>\n",
              "      <td>...</td>\n",
              "      <td>...</td>\n",
              "      <td>...</td>\n",
              "      <td>...</td>\n",
              "      <td>...</td>\n",
              "      <td>...</td>\n",
              "      <td>...</td>\n",
              "      <td>...</td>\n",
              "      <td>...</td>\n",
              "      <td>...</td>\n",
              "      <td>...</td>\n",
              "      <td>...</td>\n",
              "      <td>...</td>\n",
              "      <td>...</td>\n",
              "      <td>...</td>\n",
              "      <td>...</td>\n",
              "      <td>...</td>\n",
              "      <td>...</td>\n",
              "      <td>...</td>\n",
              "      <td>...</td>\n",
              "      <td>...</td>\n",
              "      <td>...</td>\n",
              "      <td>...</td>\n",
              "      <td>...</td>\n",
              "      <td>...</td>\n",
              "      <td>...</td>\n",
              "      <td>...</td>\n",
              "      <td>...</td>\n",
              "    </tr>\n",
              "    <tr>\n",
              "      <th>2461</th>\n",
              "      <td>39</td>\n",
              "      <td>2</td>\n",
              "      <td>1053</td>\n",
              "      <td>1</td>\n",
              "      <td>7</td>\n",
              "      <td>2</td>\n",
              "      <td>2</td>\n",
              "      <td>1160</td>\n",
              "      <td>1</td>\n",
              "      <td>0</td>\n",
              "      <td>72</td>\n",
              "      <td>1</td>\n",
              "      <td>1</td>\n",
              "      <td>0</td>\n",
              "      <td>1</td>\n",
              "      <td>1</td>\n",
              "      <td>14504</td>\n",
              "      <td>4</td>\n",
              "      <td>0</td>\n",
              "      <td>13</td>\n",
              "      <td>3</td>\n",
              "      <td>1</td>\n",
              "      <td>0</td>\n",
              "      <td>12</td>\n",
              "      <td>2</td>\n",
              "      <td>2</td>\n",
              "      <td>1</td>\n",
              "      <td>0</td>\n",
              "      <td>0</td>\n",
              "      <td>5209.67</td>\n",
              "    </tr>\n",
              "    <tr>\n",
              "      <th>2462</th>\n",
              "      <td>32</td>\n",
              "      <td>0</td>\n",
              "      <td>453</td>\n",
              "      <td>1</td>\n",
              "      <td>11</td>\n",
              "      <td>2</td>\n",
              "      <td>3</td>\n",
              "      <td>998</td>\n",
              "      <td>3</td>\n",
              "      <td>1</td>\n",
              "      <td>43</td>\n",
              "      <td>2</td>\n",
              "      <td>1</td>\n",
              "      <td>4</td>\n",
              "      <td>1</td>\n",
              "      <td>1</td>\n",
              "      <td>10219</td>\n",
              "      <td>0</td>\n",
              "      <td>1</td>\n",
              "      <td>22</td>\n",
              "      <td>4</td>\n",
              "      <td>2</td>\n",
              "      <td>0</td>\n",
              "      <td>4</td>\n",
              "      <td>0</td>\n",
              "      <td>2</td>\n",
              "      <td>3</td>\n",
              "      <td>2</td>\n",
              "      <td>2</td>\n",
              "      <td>3571.67</td>\n",
              "    </tr>\n",
              "    <tr>\n",
              "      <th>2463</th>\n",
              "      <td>34</td>\n",
              "      <td>2</td>\n",
              "      <td>489</td>\n",
              "      <td>1</td>\n",
              "      <td>7</td>\n",
              "      <td>3</td>\n",
              "      <td>2</td>\n",
              "      <td>1729</td>\n",
              "      <td>3</td>\n",
              "      <td>1</td>\n",
              "      <td>59</td>\n",
              "      <td>2</td>\n",
              "      <td>2</td>\n",
              "      <td>4</td>\n",
              "      <td>1</td>\n",
              "      <td>1</td>\n",
              "      <td>5098</td>\n",
              "      <td>1</td>\n",
              "      <td>0</td>\n",
              "      <td>13</td>\n",
              "      <td>3</td>\n",
              "      <td>2</td>\n",
              "      <td>0</td>\n",
              "      <td>10</td>\n",
              "      <td>4</td>\n",
              "      <td>1</td>\n",
              "      <td>10</td>\n",
              "      <td>4</td>\n",
              "      <td>7</td>\n",
              "      <td>1882.00</td>\n",
              "    </tr>\n",
              "    <tr>\n",
              "      <th>2464</th>\n",
              "      <td>36</td>\n",
              "      <td>2</td>\n",
              "      <td>237</td>\n",
              "      <td>1</td>\n",
              "      <td>18</td>\n",
              "      <td>3</td>\n",
              "      <td>1</td>\n",
              "      <td>1080</td>\n",
              "      <td>1</td>\n",
              "      <td>0</td>\n",
              "      <td>49</td>\n",
              "      <td>2</td>\n",
              "      <td>1</td>\n",
              "      <td>5</td>\n",
              "      <td>2</td>\n",
              "      <td>1</td>\n",
              "      <td>11643</td>\n",
              "      <td>4</td>\n",
              "      <td>1</td>\n",
              "      <td>11</td>\n",
              "      <td>3</td>\n",
              "      <td>2</td>\n",
              "      <td>0</td>\n",
              "      <td>12</td>\n",
              "      <td>1</td>\n",
              "      <td>2</td>\n",
              "      <td>6</td>\n",
              "      <td>3</td>\n",
              "      <td>2</td>\n",
              "      <td>3976.33</td>\n",
              "    </tr>\n",
              "    <tr>\n",
              "      <th>2465</th>\n",
              "      <td>32</td>\n",
              "      <td>2</td>\n",
              "      <td>1324</td>\n",
              "      <td>1</td>\n",
              "      <td>15</td>\n",
              "      <td>2</td>\n",
              "      <td>4</td>\n",
              "      <td>158</td>\n",
              "      <td>2</td>\n",
              "      <td>1</td>\n",
              "      <td>58</td>\n",
              "      <td>3</td>\n",
              "      <td>1</td>\n",
              "      <td>1</td>\n",
              "      <td>2</td>\n",
              "      <td>1</td>\n",
              "      <td>11254</td>\n",
              "      <td>3</td>\n",
              "      <td>1</td>\n",
              "      <td>15</td>\n",
              "      <td>3</td>\n",
              "      <td>2</td>\n",
              "      <td>0</td>\n",
              "      <td>8</td>\n",
              "      <td>2</td>\n",
              "      <td>2</td>\n",
              "      <td>1</td>\n",
              "      <td>1</td>\n",
              "      <td>1</td>\n",
              "      <td>4212.00</td>\n",
              "    </tr>\n",
              "  </tbody>\n",
              "</table>\n",
              "<p>2466 rows × 30 columns</p>\n",
              "</div>\n",
              "      <button class=\"colab-df-convert\" onclick=\"convertToInteractive('df-eed792fb-8b04-4973-a28e-d0f8bf2ef808')\"\n",
              "              title=\"Convert this dataframe to an interactive table.\"\n",
              "              style=\"display:none;\">\n",
              "        \n",
              "  <svg xmlns=\"http://www.w3.org/2000/svg\" height=\"24px\"viewBox=\"0 0 24 24\"\n",
              "       width=\"24px\">\n",
              "    <path d=\"M0 0h24v24H0V0z\" fill=\"none\"/>\n",
              "    <path d=\"M18.56 5.44l.94 2.06.94-2.06 2.06-.94-2.06-.94-.94-2.06-.94 2.06-2.06.94zm-11 1L8.5 8.5l.94-2.06 2.06-.94-2.06-.94L8.5 2.5l-.94 2.06-2.06.94zm10 10l.94 2.06.94-2.06 2.06-.94-2.06-.94-.94-2.06-.94 2.06-2.06.94z\"/><path d=\"M17.41 7.96l-1.37-1.37c-.4-.4-.92-.59-1.43-.59-.52 0-1.04.2-1.43.59L10.3 9.45l-7.72 7.72c-.78.78-.78 2.05 0 2.83L4 21.41c.39.39.9.59 1.41.59.51 0 1.02-.2 1.41-.59l7.78-7.78 2.81-2.81c.8-.78.8-2.07 0-2.86zM5.41 20L4 18.59l7.72-7.72 1.47 1.35L5.41 20z\"/>\n",
              "  </svg>\n",
              "      </button>\n",
              "      \n",
              "  <style>\n",
              "    .colab-df-container {\n",
              "      display:flex;\n",
              "      flex-wrap:wrap;\n",
              "      gap: 12px;\n",
              "    }\n",
              "\n",
              "    .colab-df-convert {\n",
              "      background-color: #E8F0FE;\n",
              "      border: none;\n",
              "      border-radius: 50%;\n",
              "      cursor: pointer;\n",
              "      display: none;\n",
              "      fill: #1967D2;\n",
              "      height: 32px;\n",
              "      padding: 0 0 0 0;\n",
              "      width: 32px;\n",
              "    }\n",
              "\n",
              "    .colab-df-convert:hover {\n",
              "      background-color: #E2EBFA;\n",
              "      box-shadow: 0px 1px 2px rgba(60, 64, 67, 0.3), 0px 1px 3px 1px rgba(60, 64, 67, 0.15);\n",
              "      fill: #174EA6;\n",
              "    }\n",
              "\n",
              "    [theme=dark] .colab-df-convert {\n",
              "      background-color: #3B4455;\n",
              "      fill: #D2E3FC;\n",
              "    }\n",
              "\n",
              "    [theme=dark] .colab-df-convert:hover {\n",
              "      background-color: #434B5C;\n",
              "      box-shadow: 0px 1px 3px 1px rgba(0, 0, 0, 0.15);\n",
              "      filter: drop-shadow(0px 1px 2px rgba(0, 0, 0, 0.3));\n",
              "      fill: #FFFFFF;\n",
              "    }\n",
              "  </style>\n",
              "\n",
              "      <script>\n",
              "        const buttonEl =\n",
              "          document.querySelector('#df-eed792fb-8b04-4973-a28e-d0f8bf2ef808 button.colab-df-convert');\n",
              "        buttonEl.style.display =\n",
              "          google.colab.kernel.accessAllowed ? 'block' : 'none';\n",
              "\n",
              "        async function convertToInteractive(key) {\n",
              "          const element = document.querySelector('#df-eed792fb-8b04-4973-a28e-d0f8bf2ef808');\n",
              "          const dataTable =\n",
              "            await google.colab.kernel.invokeFunction('convertToInteractive',\n",
              "                                                     [key], {});\n",
              "          if (!dataTable) return;\n",
              "\n",
              "          const docLinkHtml = 'Like what you see? Visit the ' +\n",
              "            '<a target=\"_blank\" href=https://colab.research.google.com/notebooks/data_table.ipynb>data table notebook</a>'\n",
              "            + ' to learn more about interactive tables.';\n",
              "          element.innerHTML = '';\n",
              "          dataTable['output_type'] = 'display_data';\n",
              "          await google.colab.output.renderOutput(dataTable, element);\n",
              "          const docLink = document.createElement('div');\n",
              "          docLink.innerHTML = docLinkHtml;\n",
              "          element.appendChild(docLink);\n",
              "        }\n",
              "      </script>\n",
              "    </div>\n",
              "  </div>\n",
              "  "
            ],
            "text/plain": [
              "      age  business_travel  ...  years_with_curr_manager  rate_avg\n",
              "0      41                2  ...                        5   6891.67\n",
              "1      49                1  ...                        7   8415.67\n",
              "2      37                2  ...                        0   1287.00\n",
              "3      33                1  ...                        0   8202.33\n",
              "4      27                2  ...                        2   5754.33\n",
              "...   ...              ...  ...                      ...       ...\n",
              "2461   39                2  ...                        0   5209.67\n",
              "2462   32                0  ...                        2   3571.67\n",
              "2463   34                2  ...                        7   1882.00\n",
              "2464   36                2  ...                        2   3976.33\n",
              "2465   32                2  ...                        1   4212.00\n",
              "\n",
              "[2466 rows x 30 columns]"
            ]
          },
          "metadata": {},
          "execution_count": 8
        }
      ]
    },
    {
      "cell_type": "code",
      "source": [
        "model_xgb = XGBClassifier()\n",
        "model_xgb.fit(X_train, y_train)"
      ],
      "metadata": {
        "colab": {
          "base_uri": "https://localhost:8080/"
        },
        "id": "Fk9WBJ903QTd",
        "outputId": "41528c19-8333-403e-d4f8-f49d274ef32a"
      },
      "execution_count": 9,
      "outputs": [
        {
          "output_type": "execute_result",
          "data": {
            "text/plain": [
              "XGBClassifier()"
            ]
          },
          "metadata": {},
          "execution_count": 9
        }
      ]
    },
    {
      "cell_type": "code",
      "source": [
        "# make predictions for test data\n",
        "y_pred_xgb = model_xgb.predict(X_test)\n",
        "predictions_xgb = [round(value) for value in y_pred_xgb]\n",
        "\n",
        "# evaluate predictions\n",
        "accuracy_xgb = accuracy_score(y_test, predictions_xgb)\n",
        "print(round(accuracy_xgb*100.0, 2))"
      ],
      "metadata": {
        "colab": {
          "base_uri": "https://localhost:8080/"
        },
        "id": "HSqFhdNg3Wbl",
        "outputId": "bff79b5c-3ed8-4141-c89c-82483602b1bf"
      },
      "execution_count": 10,
      "outputs": [
        {
          "output_type": "stream",
          "name": "stdout",
          "text": [
            "89.73\n"
          ]
        }
      ]
    },
    {
      "cell_type": "markdown",
      "source": [
        "### Manual Feature Selection"
      ],
      "metadata": {
        "id": "s0dFKK0Tu5m3"
      }
    },
    {
      "cell_type": "code",
      "source": [
        "cols = ['job_involvement', 'job_level', 'job_role', 'job_satisfaction', 'education_field', 'performance_rating', 'total_working_years']"
      ],
      "metadata": {
        "id": "jzu_eXZ2jW1U"
      },
      "execution_count": 11,
      "outputs": []
    },
    {
      "cell_type": "code",
      "metadata": {
        "id": "Uemp2RuJj2Zj"
      },
      "source": [
        "#not including target variable in X \n",
        "manual_X = data.drop('attrition', axis=1)[cols]\n",
        "manual_Y = data['attrition']"
      ],
      "execution_count": 12,
      "outputs": []
    },
    {
      "cell_type": "code",
      "metadata": {
        "id": "7pwg9l1fj2Zk"
      },
      "source": [
        "manual_X_train, manual_X_test, manual_Y_train, manual_Y_test = train_test_split(manual_X, manual_Y, test_size=0.3, random_state=42)"
      ],
      "execution_count": 13,
      "outputs": []
    },
    {
      "cell_type": "code",
      "metadata": {
        "colab": {
          "base_uri": "https://localhost:8080/"
        },
        "outputId": "300e5173-e6fa-4a05-b7b0-8dc2f9853a9c",
        "id": "QqMJNH71j2Zl"
      },
      "source": [
        "manual_xgb = XGBClassifier(random_state=42)\n",
        "manual_xgb.fit(manual_X_train, manual_Y_train)"
      ],
      "execution_count": 14,
      "outputs": [
        {
          "output_type": "execute_result",
          "data": {
            "text/plain": [
              "XGBClassifier(random_state=42)"
            ]
          },
          "metadata": {},
          "execution_count": 14
        }
      ]
    },
    {
      "cell_type": "code",
      "metadata": {
        "id": "iOcXbQkgj2Zm"
      },
      "source": [
        "manual_xgb_Y_pred = manual_xgb.predict(manual_X_test)"
      ],
      "execution_count": 15,
      "outputs": []
    },
    {
      "cell_type": "code",
      "metadata": {
        "colab": {
          "base_uri": "https://localhost:8080/"
        },
        "outputId": "7d3ae4e5-cb6e-410e-b54c-c6fcd6fef999",
        "id": "OEotRwpFj2Zm"
      },
      "source": [
        "manual_xgb.score(manual_X_test, manual_Y_test)"
      ],
      "execution_count": 16,
      "outputs": [
        {
          "output_type": "execute_result",
          "data": {
            "text/plain": [
              "0.8081081081081081"
            ]
          },
          "metadata": {},
          "execution_count": 16
        }
      ]
    },
    {
      "cell_type": "markdown",
      "source": [
        "### Hyperparameter Tuning"
      ],
      "metadata": {
        "id": "zTQQXYRHwRS4"
      }
    },
    {
      "cell_type": "markdown",
      "source": [
        "#### Grid Search"
      ],
      "metadata": {
        "id": "NxEdPFkq7Z9V"
      }
    },
    {
      "cell_type": "markdown",
      "metadata": {
        "id": "OR69lTcTJyLS"
      },
      "source": [
        "##### **1st Run**: Accuracy 74%"
      ]
    },
    {
      "cell_type": "code",
      "metadata": {
        "id": "UnsKCXsagV80"
      },
      "source": [
        "params = {\"learning_rate\"    : [0.05, 0.15, 0.25, 0.30 ] ,\n",
        " \"max_depth\"        : [3, 7, 11, 15],\n",
        " \"min_child_weight\" : [1, 3, 5, 7],\n",
        " \"gamma\"            : [0.0, 0.2, 0.4],\n",
        " \"colsample_bytree\" : [0.3, 0.5, 0.7] }"
      ],
      "execution_count": null,
      "outputs": []
    },
    {
      "cell_type": "code",
      "metadata": {
        "colab": {
          "base_uri": "https://localhost:8080/"
        },
        "id": "dFiNkpaHqnDl",
        "outputId": "24a5596b-7122-4e37-b4a5-9f3e4f3e6caa"
      },
      "source": [
        "xgb_best_model_1 = GridSearchCV(estimator=model_xgb, \n",
        "                   param_grid=params,\n",
        "                   scoring='accuracy', \n",
        "                   verbose=1)\n",
        "xgb_best_model_1.fit(X, y)"
      ],
      "execution_count": null,
      "outputs": [
        {
          "output_type": "stream",
          "name": "stdout",
          "text": [
            "Fitting 5 folds for each of 576 candidates, totalling 2880 fits\n"
          ]
        },
        {
          "output_type": "execute_result",
          "data": {
            "text/plain": [
              "GridSearchCV(estimator=XGBClassifier(),\n",
              "             param_grid={'colsample_bytree': [0.3, 0.5, 0.7],\n",
              "                         'gamma': [0.0, 0.2, 0.4],\n",
              "                         'learning_rate': [0.05, 0.15, 0.25, 0.3],\n",
              "                         'max_depth': [3, 7, 11, 15],\n",
              "                         'min_child_weight': [1, 3, 5, 7]},\n",
              "             scoring='accuracy', verbose=1)"
            ]
          },
          "metadata": {},
          "execution_count": 8
        }
      ]
    },
    {
      "cell_type": "code",
      "metadata": {
        "colab": {
          "base_uri": "https://localhost:8080/"
        },
        "id": "OvzK8_DNuUDX",
        "outputId": "21e6cc23-83f7-4952-b38b-8d2c2ee9e611"
      },
      "source": [
        "xgb_best_model_1.best_estimator_"
      ],
      "execution_count": null,
      "outputs": [
        {
          "output_type": "execute_result",
          "data": {
            "text/plain": [
              "XGBClassifier(colsample_bytree=0.3, gamma=0.0, learning_rate=0.3, max_depth=11)"
            ]
          },
          "metadata": {},
          "execution_count": 9
        }
      ]
    },
    {
      "cell_type": "code",
      "metadata": {
        "colab": {
          "base_uri": "https://localhost:8080/"
        },
        "id": "UJJ8bXKq4gLj",
        "outputId": "7a0af5b7-20e0-4f1b-be48-0937bad45a93"
      },
      "source": [
        "xgb_best_model_1.best_score_"
      ],
      "execution_count": null,
      "outputs": [
        {
          "output_type": "execute_result",
          "data": {
            "text/plain": [
              "0.7372699575432573"
            ]
          },
          "metadata": {},
          "execution_count": 10
        }
      ]
    },
    {
      "cell_type": "markdown",
      "metadata": {
        "id": "sSa9z1IaJt0y"
      },
      "source": [
        "#### **2nd Run:** Accuracy 76%"
      ]
    },
    {
      "cell_type": "code",
      "metadata": {
        "id": "pcq7OouD59Dz"
      },
      "source": [
        "params_updated = {\"learning_rate\": [ 0.30 , 0.50],\n",
        "                  \"max_depth\": [11],\n",
        "                  \"min_child_weight\": [1, 3, 5, 7],\n",
        "                  \"gamma\": [0.0],\n",
        "                  \"colsample_bytree\": [0.05, 0.1, 0.3] }"
      ],
      "execution_count": null,
      "outputs": []
    },
    {
      "cell_type": "code",
      "metadata": {
        "id": "_2IHMGq26S2P"
      },
      "source": [
        "xgb_best_model_2 = GridSearchCV(estimator=model_xgb, \n",
        "                   param_grid=params_updated,\n",
        "                   scoring='accuracy', \n",
        "                   verbose=3)\n",
        "xgb_best_model_2.fit(X, y)"
      ],
      "execution_count": null,
      "outputs": []
    },
    {
      "cell_type": "code",
      "metadata": {
        "colab": {
          "base_uri": "https://localhost:8080/"
        },
        "id": "0lCEEUf57OWi",
        "outputId": "b947f22a-e143-4620-8d1f-69b6c25fdcc6"
      },
      "source": [
        "xgb_best_model_2.best_score_"
      ],
      "execution_count": null,
      "outputs": [
        {
          "output_type": "execute_result",
          "data": {
            "text/plain": [
              "0.762018050274696"
            ]
          },
          "metadata": {},
          "execution_count": 13
        }
      ]
    },
    {
      "cell_type": "code",
      "metadata": {
        "colab": {
          "base_uri": "https://localhost:8080/"
        },
        "id": "zpbDf3wA8mKO",
        "outputId": "1eab0861-d4dd-4f64-bbb7-e81042d78b0d"
      },
      "source": [
        "xgb_best_model_2.best_params_"
      ],
      "execution_count": null,
      "outputs": [
        {
          "output_type": "execute_result",
          "data": {
            "text/plain": [
              "{'colsample_bytree': 0.1,\n",
              " 'gamma': 0.0,\n",
              " 'learning_rate': 0.3,\n",
              " 'max_depth': 11,\n",
              " 'min_child_weight': 1}"
            ]
          },
          "metadata": {},
          "execution_count": 14
        }
      ]
    },
    {
      "cell_type": "code",
      "source": [
        "xgb_random_search = RandomizedSearchCV(model_xgb, param_distributions=params_updated, n_iter=50, scoring='accuracy', n_jobs=4, cv=50, verbose=3, random_state=42)\n",
        "xgb_random_search.fit(X, y)"
      ],
      "metadata": {
        "colab": {
          "base_uri": "https://localhost:8080/"
        },
        "id": "6EP3lyQJ1nw8",
        "outputId": "40354979-ce3a-43dc-9930-867b718b0641"
      },
      "execution_count": null,
      "outputs": [
        {
          "output_type": "stream",
          "name": "stderr",
          "text": [
            "/usr/local/lib/python3.7/dist-packages/sklearn/model_selection/_search.py:296: UserWarning: The total space of parameters 24 is smaller than n_iter=50. Running 24 iterations. For exhaustive searches, use GridSearchCV.\n",
            "  UserWarning,\n"
          ]
        },
        {
          "output_type": "stream",
          "name": "stdout",
          "text": [
            "Fitting 50 folds for each of 24 candidates, totalling 1200 fits\n"
          ]
        },
        {
          "output_type": "execute_result",
          "data": {
            "text/plain": [
              "RandomizedSearchCV(cv=50, estimator=XGBClassifier(), n_iter=50, n_jobs=4,\n",
              "                   param_distributions={'colsample_bytree': [0.05, 0.1, 0.3],\n",
              "                                        'gamma': [0.0],\n",
              "                                        'learning_rate': [0.3, 0.5],\n",
              "                                        'max_depth': [11],\n",
              "                                        'min_child_weight': [1, 3, 5, 7]},\n",
              "                   random_state=42, scoring='accuracy', verbose=3)"
            ]
          },
          "metadata": {},
          "execution_count": 30
        }
      ]
    },
    {
      "cell_type": "code",
      "source": [
        "xgb_random_search.best_score_"
      ],
      "metadata": {
        "colab": {
          "base_uri": "https://localhost:8080/"
        },
        "id": "w53H_qvy1oBG",
        "outputId": "81b67cbc-d08f-4958-a341-76c1b4cb43e7"
      },
      "execution_count": null,
      "outputs": [
        {
          "output_type": "execute_result",
          "data": {
            "text/plain": [
              "0.9242367346938775"
            ]
          },
          "metadata": {},
          "execution_count": 31
        }
      ]
    },
    {
      "cell_type": "markdown",
      "source": [
        "#### Tuning on unbalanced data"
      ],
      "metadata": {
        "id": "0Yv3brE67oDc"
      }
    },
    {
      "cell_type": "code",
      "metadata": {
        "id": "_7hy-3EADPTY"
      },
      "source": [
        "unbalanced_data = pd.read_csv('https://raw.githubusercontent.com/afnanrahman/EAFP/main/data/clean_data.csv') "
      ],
      "execution_count": null,
      "outputs": []
    },
    {
      "cell_type": "code",
      "metadata": {
        "id": "vJBZiKSqDfuE"
      },
      "source": [
        "X_n = unbalanced_data.loc[:, unbalanced_data.columns != 'attrition']\n",
        "y_n = unbalanced_data.loc[:,unbalanced_data.columns == 'attrition']\n",
        "y_n= np.ravel(y_n)"
      ],
      "execution_count": null,
      "outputs": []
    },
    {
      "cell_type": "code",
      "metadata": {
        "id": "UwkGnIJdDvbX"
      },
      "source": [
        "xgb_unbalanced = GridSearchCV(estimator=model_xgb, \n",
        "                   param_grid=params_updated,\n",
        "                   scoring='accuracy', \n",
        "                   verbose=3)\n",
        "xgb_unbalanced.fit(X_n, y_n)"
      ],
      "execution_count": null,
      "outputs": []
    },
    {
      "cell_type": "code",
      "metadata": {
        "colab": {
          "base_uri": "https://localhost:8080/"
        },
        "id": "AIMTe4EPEa3s",
        "outputId": "806066e4-2e06-476d-aaaa-75c788d99bc4"
      },
      "source": [
        "xgb_unbalanced.best_score_"
      ],
      "execution_count": null,
      "outputs": [
        {
          "output_type": "execute_result",
          "data": {
            "text/plain": [
              "0.8680272108843539"
            ]
          },
          "metadata": {},
          "execution_count": 18
        }
      ]
    },
    {
      "cell_type": "code",
      "metadata": {
        "colab": {
          "base_uri": "https://localhost:8080/"
        },
        "id": "3g9rpGx0KpO0",
        "outputId": "652b537a-aa46-4fd7-896f-08e7da63ccd1"
      },
      "source": [
        "xgb_random_search = RandomizedSearchCV(model_xgb, param_distributions=params_updated, n_iter=20, scoring='accuracy', n_jobs=4, cv=5, verbose=3, random_state=42)\n",
        "xgb_random_search.fit(X_n, y_n)"
      ],
      "execution_count": null,
      "outputs": [
        {
          "output_type": "stream",
          "name": "stdout",
          "text": [
            "Fitting 5 folds for each of 20 candidates, totalling 100 fits\n"
          ]
        },
        {
          "output_type": "execute_result",
          "data": {
            "text/plain": [
              "RandomizedSearchCV(cv=5, estimator=XGBClassifier(), n_iter=20, n_jobs=4,\n",
              "                   param_distributions={'colsample_bytree': [0.05, 0.1, 0.3],\n",
              "                                        'gamma': [0.0],\n",
              "                                        'learning_rate': [0.3, 0.5],\n",
              "                                        'max_depth': [11],\n",
              "                                        'min_child_weight': [1, 3, 5, 7]},\n",
              "                   random_state=42, scoring='accuracy', verbose=3)"
            ]
          },
          "metadata": {},
          "execution_count": 19
        }
      ]
    },
    {
      "cell_type": "code",
      "metadata": {
        "colab": {
          "base_uri": "https://localhost:8080/"
        },
        "id": "H4CTgJiOMX85",
        "outputId": "c47079d9-1c22-4621-f4cc-79cc3cf78824"
      },
      "source": [
        "xgb_random_search.best_score_"
      ],
      "execution_count": null,
      "outputs": [
        {
          "output_type": "execute_result",
          "data": {
            "text/plain": [
              "0.8680272108843539"
            ]
          },
          "metadata": {},
          "execution_count": 20
        }
      ]
    },
    {
      "cell_type": "markdown",
      "source": [
        "### Model Metrics"
      ],
      "metadata": {
        "id": "xUeffBLPy7_0"
      }
    },
    {
      "cell_type": "code",
      "metadata": {
        "colab": {
          "base_uri": "https://localhost:8080/"
        },
        "id": "tH6XL1fgdFNU",
        "outputId": "65c2b473-fbe3-4631-9bca-9e747f1992ec"
      },
      "source": [
        "xgb_accuracies = []\n",
        "xgb_precisions = []\n",
        "xgb_recall = []\n",
        "xgb_f1_score = []\n",
        "\n",
        "kfold = KFold(n_splits=5, random_state=42, shuffle=True)\n",
        "\n",
        "for train_index, test_index in kfold.split(X):\n",
        "      X_train, X_test = X.iloc[train_index], X.iloc[test_index] \n",
        "      y_train, y_test = y[train_index], y[test_index]\n",
        "      model_xgb.fit(X_train, y_train)\n",
        "      y_pred_xgb = model_xgb.predict(X_test)\n",
        "\n",
        "      # evaluate predictions\n",
        "      accuracy_xgb = round(accuracy_score(y_test, y_pred_xgb), 4) \n",
        "      xgb_accuracies.append(round(accuracy_xgb, 4))\n",
        "\n",
        "      precision = precision_score(y_test, y_pred_xgb)\n",
        "      xgb_precisions.append(round(precision,4))\n",
        "\n",
        "      recall = recall_score(y_test, y_pred_xgb)\n",
        "      xgb_recall.append(round(recall,4))\n",
        "\n",
        "      f1 = f1_score(y_test, y_pred_xgb)\n",
        "      xgb_f1_score.append(round(f1,4))\n",
        "\n",
        "      \n",
        "print(\"Accuracies:\" , xgb_accuracies )\n",
        "print(\"Precisions:\" , xgb_precisions)\n",
        "print(\"Recalls:\", xgb_recall)\n",
        "print(\"f1_scores:\" , xgb_f1_score)"
      ],
      "execution_count": null,
      "outputs": [
        {
          "output_type": "stream",
          "name": "stdout",
          "text": [
            "Accuracies: [0.8947, 0.8864, 0.9006, 0.8742, 0.8479]\n",
            "Precisions: [0.9068, 0.8947, 0.9187, 0.8452, 0.8582]\n",
            "Recalls: [0.877, 0.8644, 0.8863, 0.9025, 0.855]\n",
            "f1_scores: [0.8917, 0.8793, 0.9022, 0.873, 0.8566]\n"
          ]
        }
      ]
    },
    {
      "cell_type": "code",
      "metadata": {
        "colab": {
          "base_uri": "https://localhost:8080/"
        },
        "id": "emkJFjAFinyt",
        "outputId": "072580d5-b4b1-42fa-de48-3455ef8b0501"
      },
      "source": [
        "print(\"Accuracy: %.2f%%\" % (np.mean(xgb_accuracies)*100))\n",
        "print(\"Precisions: %.2f%%\" % (np.mean(xgb_precisions)*100))\n",
        "print(\"Recall: %.2f%%\" % (np.mean(xgb_recall)*100))\n",
        "print(\"f1_score: %.2f%%\" % (np.mean(xgb_f1_score)*100))"
      ],
      "execution_count": null,
      "outputs": [
        {
          "output_type": "stream",
          "name": "stdout",
          "text": [
            "Accuracy: 88.08%\n",
            "Precisions: 88.47%\n",
            "Recall: 87.70%\n",
            "f1_score: 88.06%\n"
          ]
        }
      ]
    },
    {
      "cell_type": "markdown",
      "metadata": {
        "id": "Q-39DMqNX6JS"
      },
      "source": [
        "The code below is adapted from: https://www.kdnuggets.com/2020/05/model-evaluation-metrics-machine-learning.html"
      ]
    },
    {
      "cell_type": "code",
      "metadata": {
        "colab": {
          "base_uri": "https://localhost:8080/"
        },
        "id": "sOxuhjwnAhAu",
        "outputId": "0ace246f-cdc7-4e1e-cd30-d58d79ff0bf9"
      },
      "source": [
        "labels = ['No Attrition', 'Attrition']\n",
        "cm = confusion_matrix(y_test, y_pred_xgb)\n",
        "print(cm)"
      ],
      "execution_count": null,
      "outputs": [
        {
          "output_type": "stream",
          "name": "stdout",
          "text": [
            "[[194  37]\n",
            " [ 38 224]]\n"
          ]
        }
      ]
    },
    {
      "cell_type": "code",
      "metadata": {
        "colab": {
          "base_uri": "https://localhost:8080/",
          "height": 279
        },
        "id": "sM4mHtJaBBNH",
        "outputId": "5122a9bc-8c68-48dd-864c-9f8973e0597f"
      },
      "source": [
        "fig = plt.figure()\n",
        "ax = fig.add_subplot(111)\n",
        "cax = ax.matshow(cm)\n",
        "ax.set_xticklabels([''] + labels)\n",
        "ax.set_yticklabels([''] + labels)\n",
        "plt.xlabel('Predicted Values')\n",
        "plt.ylabel('Actual Values')\n",
        "plt.show()"
      ],
      "execution_count": null,
      "outputs": [
        {
          "output_type": "display_data",
          "data": {
            "image/png": "[encoded data removed]",
            "text/plain": [
              "<Figure size 432x288 with 1 Axes>"
            ]
          },
          "metadata": {
            "needs_background": "light"
          }
        }
      ]
    },
    {
      "cell_type": "code",
      "metadata": {
        "colab": {
          "base_uri": "https://localhost:8080/",
          "height": 296
        },
        "id": "0KaFzu3wZr0H",
        "outputId": "79f1535e-4acb-41e8-cbe8-3c4f0f391fdf"
      },
      "source": [
        "auc = roc_auc_score(y_test, y_pred_xgb)\n",
        "print('AUC - Test Set: %.2f%%' % (auc*100))\n",
        "\n",
        "# calculate roc curve\n",
        "fpr, tpr, thresholds = roc_curve(y_test, y_pred_xgb)\n",
        "\n",
        "plt.plot([0, 1], [0, 1], linestyle='--')\n",
        "\n",
        "# plot the roc curve for the model\n",
        "plt.plot(fpr, tpr, marker='.')\n",
        "plt.xlabel('False positive rate')\n",
        "plt.ylabel('Sensitivity/ Recall')\n",
        "# show the plot\n",
        "plt.show()"
      ],
      "execution_count": null,
      "outputs": [
        {
          "output_type": "stream",
          "name": "stdout",
          "text": [
            "AUC - Test Set: 84.74%\n"
          ]
        },
        {
          "output_type": "display_data",
          "data": {
            "image/png": "[encoded data removed]",
            "text/plain": [
              "<Figure size 432x288 with 1 Axes>"
            ]
          },
          "metadata": {
            "needs_background": "light"
          }
        }
      ]
    }
  ]
}