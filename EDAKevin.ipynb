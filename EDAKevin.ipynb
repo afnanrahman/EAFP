{
  "nbformat": 4,
  "nbformat_minor": 0,
  "metadata": {
    "colab": {
      "name": "EDA",
      "provenance": [],
      "collapsed_sections": [],
      "mount_file_id": "1Dl8V3GLf-dN4uFFUMDwT_heubmiYIE2u",
      "authorship_tag": "ABX9TyN8txIXZrSX9MQER4WEaAUB",
      "include_colab_link": true
    },
    "kernelspec": {
      "name": "python3",
      "display_name": "Python 3"
    },
    "language_info": {
      "name": "python"
    }
  },
  "cells": [
    {
      "cell_type": "markdown",
      "metadata": {
        "id": "view-in-github",
        "colab_type": "text"
      },
      "source": [
        "<a href=\"https://colab.research.google.com/github/afnanrahman/EAFP/blob/OmerAndKevin/EDAKevin.ipynb\" target=\"_parent\"><img src=\"https://colab.research.google.com/assets/colab-badge.svg\" alt=\"Open In Colab\"/></a>"
      ]
    },
    {
      "cell_type": "markdown",
      "metadata": {
        "id": "u03lb4JNqHQS"
      },
      "source": [
        "Which education field experiences the largest proportion of attrition?"
      ]
    },
    {
      "cell_type": "code",
      "metadata": {
        "colab": {
          "base_uri": "https://localhost:8080/"
        },
        "id": "1FzpWGBRcJXh",
        "outputId": "72eba462-e93e-46b6-e4bd-7781d515d19f"
      },
      "source": [
        "import pandas as pd\n",
        "data = pd.read_csv('/content/drive/MyDrive/uoft/utmist/clean_data.csv', index_col=0)\n",
        "ed_field = data['education_field']\n",
        "attrition = data['attrition'] # 0 or 1"
      ],
      "execution_count": null,
      "outputs": [
        {
          "output_type": "execute_result",
          "data": {
            "text/plain": [
              "0       1\n",
              "1       1\n",
              "2       4\n",
              "3       1\n",
              "4       3\n",
              "       ..\n",
              "1465    3\n",
              "1466    3\n",
              "1467    1\n",
              "1468    3\n",
              "1469    3\n",
              "Name: education_field, Length: 1470, dtype: int64"
            ]
          },
          "metadata": {},
          "execution_count": 5
        }
      ]
    }
  ]
}