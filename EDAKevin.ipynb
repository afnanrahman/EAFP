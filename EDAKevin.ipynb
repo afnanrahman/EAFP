{
  "nbformat": 4,
  "nbformat_minor": 0,
  "metadata": {
    "colab": {
      "name": "EDA",
      "provenance": [],
      "collapsed_sections": [],
      "mount_file_id": "1Dl8V3GLf-dN4uFFUMDwT_heubmiYIE2u",
      "authorship_tag": "ABX9TyNChxQqbJKJq8Xact2SlQ8/",
      "include_colab_link": true
    },
    "kernelspec": {
      "name": "python3",
      "display_name": "Python 3"
    },
    "language_info": {
      "name": "python"
    }
  },
  "cells": [
    {
      "cell_type": "markdown",
      "metadata": {
        "id": "view-in-github",
        "colab_type": "text"
      },
      "source": [
        "<a href=\"https://colab.research.google.com/github/afnanrahman/EAFP/blob/OmerAndKevin/EDAKevin.ipynb\" target=\"_parent\"><img src=\"https://colab.research.google.com/assets/colab-badge.svg\" alt=\"Open In Colab\"/></a>"
      ]
    },
    {
      "cell_type": "markdown",
      "metadata": {
        "id": "u03lb4JNqHQS"
      },
      "source": [
        "Which education field experiences the largest proportion of attrition?"
      ]
    },
    {
      "cell_type": "markdown",
      "metadata": {
        "id": "-DLq9fc5-aqC"
      },
      "source": [
        "Imports"
      ]
    },
    {
      "cell_type": "code",
      "metadata": {
        "id": "2lUhmCKg-Zlw"
      },
      "source": [
        "import pandas as pd\n",
        "import matplotlib.pyplot as plt"
      ],
      "execution_count": 2,
      "outputs": []
    },
    {
      "cell_type": "markdown",
      "metadata": {
        "id": "EyBq3tyt-gPG"
      },
      "source": [
        "Read the data"
      ]
    },
    {
      "cell_type": "code",
      "metadata": {
        "id": "GKbNeEA--iWz"
      },
      "source": [
        "location = 'https://raw.githubusercontent.com/afnanrahman/EAFP/OmerAndKevin/data/clean_data.csv'\n",
        "data = pd.read_csv(location, index_col=0)"
      ],
      "execution_count": 3,
      "outputs": []
    },
    {
      "cell_type": "markdown",
      "metadata": {
        "id": "9u7RjjB_-k9Z"
      },
      "source": [
        "Process the data and sort into categories, calculate attrition rate"
      ]
    },
    {
      "cell_type": "code",
      "metadata": {
        "id": "1FzpWGBRcJXh"
      },
      "source": [
        "ed_field_dict = {\n",
        "    0: \"Human Resources\",\n",
        "    1: \"Life Sciences\",\n",
        "    2: \"Marketing\",\n",
        "    3: \"Medical\",\n",
        "    4: \"Other\",\n",
        "    5: \"Technical Degree\",\n",
        "}\n",
        "data_list = []\n",
        "for i in range(data['education_field'].max() + 1): #index starts at 0\n",
        "  ed_field_i = data[data['education_field'] == i]\n",
        "  attrition_percent_i = ed_field_i['attrition'].sum() / len(ed_field_i) * 100\n",
        "  data_list.append([ed_field_dict[i], attrition_percent_i])"
      ],
      "execution_count": 4,
      "outputs": []
    },
    {
      "cell_type": "markdown",
      "metadata": {
        "id": "zJHLPbQD-xbo"
      },
      "source": [
        "Plot the data"
      ]
    },
    {
      "cell_type": "code",
      "metadata": {
        "colab": {
          "base_uri": "https://localhost:8080/",
          "height": 375
        },
        "id": "uV_eqlmb-y3n",
        "outputId": "60a6b082-2fb7-4355-c8c5-8cd0e9b6c34b"
      },
      "source": [
        "df = pd.DataFrame(data_list, columns=[\"Education Field\", \"Attrition Rate\"])\n",
        "df.head()\n",
        "df.plot(x=\"Education Field\", y=\"Attrition Rate\", kind=\"bar\",\\\n",
        "title=\"Attrition Rate vs Education Field\", legend=None);\n",
        "plt.ylabel(\"Attrition Rate (%)\")\n",
        "plt.show()"
      ],
      "execution_count": 5,
      "outputs": [
        {
          "output_type": "display_data",
          "data": {
            "image/png": "[encoded data removed]",
            "text/plain": [
              "<Figure size 432x288 with 1 Axes>"
            ]
          },
          "metadata": {
            "needs_background": "light"
          }
        }
      ]
    },
    {
      "cell_type": "markdown",
      "metadata": {
        "id": "uXEd5JuK-zsy"
      },
      "source": [
        "HR, marketing and technical degree have the highest attrition, medical and life sciences have the lowest"
      ]
    }
  ]
}